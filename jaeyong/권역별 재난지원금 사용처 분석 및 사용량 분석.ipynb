{
 "cells": [
  {
   "cell_type": "markdown",
   "id": "strategic-infection",
   "metadata": {},
   "source": [
    "# 권역별(공간적) 재난지원금 주요 사용처 분석"
   ]
  },
  {
   "cell_type": "markdown",
   "id": "loved-berlin",
   "metadata": {},
   "source": [
    "기본적으로 공간적(권역별)로 재난지원금이 얼마나 사용되었는지 어디에 주로 사용되었는지 살펴볼 필요성이 있다. 이를 분석한 뒤에 지리적 특성, 그리고 권역에 따른 특성에 대입하여 살펴볼 필요가 있다. 이를 최종적으로 재난지원금이 적절한 곳에 사용되었는지와 연관시켜볼 수 있다. 이를 위해서는 추후에 권역별로 어떤 상업이 발달했는지 분석하고, 재난지원금 목적의 대상이 되는 상업과 연관이 있는지 살펴볼 필요가 있다."
   ]
  },
  {
   "cell_type": "code",
   "execution_count": 1,
   "id": "greek-demand",
   "metadata": {},
   "outputs": [],
   "source": [
    "import numpy as np\n",
    "import pandas as pd"
   ]
  },
  {
   "cell_type": "markdown",
   "id": "original-double",
   "metadata": {},
   "source": [
    "## 나중에 데이터 다 모이면 이 부분 수정해야합니다!!!!! (중요!!!!!!!!)\n",
    "## (또한 밑에 라벨링도 다 새로 해야합니다 ㅎㅎㅎㅎㅎ"
   ]
  },
  {
   "cell_type": "code",
   "execution_count": 2,
   "id": "complimentary-bleeding",
   "metadata": {},
   "outputs": [],
   "source": [
    "data_05 = pd.read_csv(\"./data/data_05.csv\")\n",
    "data_06 = pd.read_csv(\"./data/data_06.csv\")\n",
    "data_08 = pd.read_csv(\"./data/data_08.csv\")"
   ]
  },
  {
   "cell_type": "code",
   "execution_count": 3,
   "id": "superb-overall",
   "metadata": {},
   "outputs": [],
   "source": [
    "data = pd.concat([data_05, data_06, data_08])\n",
    "data = data.reset_index(drop=True)"
   ]
  },
  {
   "cell_type": "code",
   "execution_count": 4,
   "id": "biblical-virgin",
   "metadata": {
    "scrolled": true
   },
   "outputs": [
    {
     "data": {
      "text/plain": [
       "array(['한경면', '대정읍', '한림읍', '안덕면', '애월읍', '추자면', '하예동', '상예동', '색달동',\n",
       "       '중문동', '외도이동', '대포동', '외도일동', '내도동', '회수동', '도평동', '해안동', '이호일동',\n",
       "       '이호이동', '하원동', '월평동', '도두일동', '노형동', '도순동', '도두이동', '강정동', '연동',\n",
       "       '용담삼동', '용담이동', '영남동', '오라삼동', '오라이동', '법환동', '서호동', '용담일동',\n",
       "       '오라일동', '삼도일동', '삼도이동', '오등동', '호근동', '도남동', '이도일동', '일도일동', '건입동',\n",
       "       '이도이동', '일도이동', '아라일동', '아라이동', '화북이동', '서홍동', '서귀동', '동홍동',\n",
       "       '화북일동', '영평동', '토평동', '도련일동', '삼양이동', '봉개동', '도련이동', '보목동', '삼양일동',\n",
       "       '상효동', '신효동', '하효동', '조천읍', '회천동', '남원읍', '구좌읍', '표선면', '성산읍',\n",
       "       '우도면', '삼양삼동', '용강동'], dtype=object)"
      ]
     },
     "execution_count": 4,
     "metadata": {},
     "output_type": "execute_result"
    }
   ],
   "source": [
    "data[\"DONG\"].unique()"
   ]
  },
  {
   "cell_type": "code",
   "execution_count": 5,
   "id": "cross-pantyhose",
   "metadata": {},
   "outputs": [],
   "source": [
    "data.replace(dict.fromkeys(['택시', '기타교통수단', '통신기기'], '교통/통신'), inplace=True)\n",
    "data.replace(dict.fromkeys(['대형할인점', '농축협직영매장', '농협하나로클럽', '편의점', '슈퍼마켓', '정육점', '기타유통업', '연쇄점', '상품권', '인삼제품', '홍삼제품', '농축수산품', '주류판매점', '기타건강식', '건강식품(회원제형태)'], '마트/편의점(유통)'), inplace=True)\n",
    "data.replace(dict.fromkeys(['악기점', 'DVD음반테이프판매', '문화취미기타', '영화관', '티켓', '수족관', '화랑'], '영화/문화'), inplace=True)\n",
    "data.replace(dict.fromkeys(['내의판매점', '양품점', '옷감직물', '귀금속', '기타직물', '스포츠의류', '가방', '정장', '악세사리', '기타잡화', '신발', '기타의류', '단체복', '아동의류', '캐쥬얼의류', '맞춤복점', '제화점', '인터넷Mall', '인터넷종합Mall'], '쇼핑/패션'), inplace=True)\n",
    "data.replace(dict.fromkeys(['제과점', '스넥', '기타음료식품'], '카페/베이커리'), inplace=True)\n",
    "data.replace(dict.fromkeys(['미용재료', '화장품', '피부미용실', '미용원', '이용원'], '뷰티'), inplace=True)\n",
    "data.replace(dict.fromkeys(['구내매점', '단란주점', '주점', '서양음식', '일반한식', '일식회집', '중국음식',  '유흥주점', '칵테일바'], '외식/주점'), inplace=True)\n",
    "data.replace(dict.fromkeys(['세탁소', '애완동물', '화원', '침구수예점', '성인용품점', '가전제품', '기타가구', '조명기구', '민예공예품', '주방용식기', '기타전기제품', '소프트웨어', '주방용구', '카페트커텐천막', '컴퓨터', '카메라', '일반가구', '정수기', '철제가구', '시계', '안경', '사우나', '안마스포츠마사지', '사진관', '인테리어', 'CATV'], '생활/기타'), inplace=True)\n",
    "data.replace(dict.fromkeys(['완구점', '화방표구점', '문구용품', '일반서적', '출판인쇄물', '기타사무용', '사무기기', '전문서적', '정기간행물', '기타서적문구', '서적출판(회원제형태)'], '서점/문구'), inplace=True)\n",
    "data.replace(dict.fromkeys(['기타보험', '손해보험'], '금융'), inplace=True)\n",
    "data.replace(dict.fromkeys(['기념품점', '기타숙박업', '특급호텔', '2급호텔', '1급호텔', '콘도', '렌트카', '관광여행', '항공사', '여객선', '면세점'], '여행/숙박'), inplace=True)\n",
    "data.replace(dict.fromkeys(['레져용품수리', '스포츠레져용품', '골프용품', '노래방', '당구장', '골프경기장', '볼링장', '골프연습장', '헬스크럽', '레져업소(회원제형태)', '기타레져업', '종합레져타운', '수영장', '테니스장', '기타회원제형태업소', ], '레저/스포츠'), inplace=True)\n",
    "data.replace(dict.fromkeys(['유아원', '독서실', '보습학원', '기능학원', '기타교육', '외국어학원', '학원(회원제형태)', '예체능학원', '컴퓨터학원', '대학등록금', '학습지교육', '초중고교육기관'], '교육/육아'), inplace=True)\n",
    "data.replace(dict.fromkeys(['주유소', '자동차정비', 'LPG', '세차장', '유류판매', '이륜차판매', '윤활유전문판매', '자동차시트타이어', '중고자동차', '수입자동차', '자동차부품', '주차장', '기타자동차서비스', '카인테리어', ], '주유/자동차'), inplace=True)\n",
    "data.replace(dict.fromkeys(['약국', '종합병원', '기타의료기관및기기', '한약방', '제약회사', '의료용품', '건강진단', '한의원', '동물병원', '의원', '치과의원', '병원', '산후조리원', '치과병원'], '의료'), inplace=True)\n",
    "data.replace(dict.fromkeys(['목재석재철물', '건축요업품', '골동품점', '기계공구', '기타건축자재', '보일러펌프', '페인트', '냉열기기', '유리', '과학기자재', '기타광학품', '기타연료', '중장비수리', ], '건설/제조'), inplace=True)\n",
    "data.replace(dict.fromkeys(['기타농업관련', '비료농약사료종자', '농기계', '미곡상'], '농업'), inplace=True)\n",
    "data.replace(dict.fromkeys(['사무서비스', '기타대인서비스', '화물운송', '보관창고업', '종합용역', '조세서비스', '가례서비스', '공공요금', '위탁급식업', '기타용역서비스', '기타수리서비스', '기타운송', '가정용품수리', '견인서비스', '부동산중개임대', '부동산분양', '신변잡화수리', '사무통신기기수리', '법률회계서비스', '사무서비스(회원제형태)', '정보서비스', '기타업종', '기타비영리유통'], '서비스/기타'), inplace=True)"
   ]
  },
  {
   "cell_type": "markdown",
   "id": "brutal-rates",
   "metadata": {},
   "source": [
    "## 1. 권역 설정"
   ]
  },
  {
   "cell_type": "code",
   "execution_count": 6,
   "id": "medium-entity",
   "metadata": {},
   "outputs": [],
   "source": [
    "area_west_jeju = ['한경면', '한림읍', '애월읍']\n",
    "area_east_jeju = ['조천읍', '구좌읍']\n",
    "area_urban_jeju = ['외도이동', '외도일동', '내도동', '도평동', '해안동', '이호일동', '이호이동', '월평동', '도두일동', '노형동', '도두이동', '연동', '용담삼동', '용담이동', '오라삼동', '오라이동', '용담일동', '오라일동', '삼도일동', '삼도이동', '오등동', '도남동', '이도일동', '일도일동', '건입동', '이도이동', '일도이동', '아라일동', '아라이동', '화북이동', '화북일동', '영평동', '삼양삼동', '도련일동', '삼양이동', '봉개동', '도련이동', '삼양일동', '회천동', '용강동']\n",
    "area_west_seoguipo = ['대정읍', '안덕면']\n",
    "area_east_seoguipo = ['남원읍', '표선면', '성산읍']\n",
    "area_urban_seoguipo = ['하예동', '상예동', '색달동', '중문동', '대포동', '하원동', '도순동', '강정동', '법환동', '서호동', '호근동', '서홍동', '서귀동', '동홍동', '토평동', '보목동', '상효동', '신효동', '하효동', '회수동', '영남동']\n",
    "area_etc = ['추자면', '우도면']"
   ]
  },
  {
   "cell_type": "code",
   "execution_count": 7,
   "id": "stable-roots",
   "metadata": {},
   "outputs": [
    {
     "data": {
      "text/html": [
       "<div>\n",
       "<style scoped>\n",
       "    .dataframe tbody tr th:only-of-type {\n",
       "        vertical-align: middle;\n",
       "    }\n",
       "\n",
       "    .dataframe tbody tr th {\n",
       "        vertical-align: top;\n",
       "    }\n",
       "\n",
       "    .dataframe thead th {\n",
       "        text-align: right;\n",
       "    }\n",
       "</style>\n",
       "<table border=\"1\" class=\"dataframe\">\n",
       "  <thead>\n",
       "    <tr style=\"text-align: right;\">\n",
       "      <th></th>\n",
       "      <th>Unnamed: 0</th>\n",
       "      <th>Unnamed: 0.1</th>\n",
       "      <th>OBJECTID</th>\n",
       "      <th>Field1</th>\n",
       "      <th>YM</th>\n",
       "      <th>SIDO</th>\n",
       "      <th>SIGUNGU</th>\n",
       "      <th>FranClass</th>\n",
       "      <th>Type</th>\n",
       "      <th>Time</th>\n",
       "      <th>TotalSpent</th>\n",
       "      <th>DisSpent</th>\n",
       "      <th>NumofSpent</th>\n",
       "      <th>NumofDisSpent</th>\n",
       "      <th>POINT_X</th>\n",
       "      <th>POINT_Y</th>\n",
       "      <th>DONG</th>\n",
       "      <th>Unnamed: 0.1.1</th>\n",
       "      <th>AREA</th>\n",
       "    </tr>\n",
       "  </thead>\n",
       "  <tbody>\n",
       "    <tr>\n",
       "      <th>0</th>\n",
       "      <td>0</td>\n",
       "      <td>0.0</td>\n",
       "      <td>1</td>\n",
       "      <td>1</td>\n",
       "      <td>202005</td>\n",
       "      <td>제주특별자치도</td>\n",
       "      <td>제주시</td>\n",
       "      <td>영세</td>\n",
       "      <td>외식/주점</td>\n",
       "      <td>00시</td>\n",
       "      <td>363000</td>\n",
       "      <td>66500</td>\n",
       "      <td>10</td>\n",
       "      <td>2</td>\n",
       "      <td>126.178894</td>\n",
       "      <td>33.302315</td>\n",
       "      <td>한경면</td>\n",
       "      <td>NaN</td>\n",
       "      <td></td>\n",
       "    </tr>\n",
       "    <tr>\n",
       "      <th>1</th>\n",
       "      <td>1</td>\n",
       "      <td>1.0</td>\n",
       "      <td>2</td>\n",
       "      <td>2</td>\n",
       "      <td>202005</td>\n",
       "      <td>제주특별자치도</td>\n",
       "      <td>제주시</td>\n",
       "      <td>영세</td>\n",
       "      <td>외식/주점</td>\n",
       "      <td>00시</td>\n",
       "      <td>1180000</td>\n",
       "      <td>0</td>\n",
       "      <td>3</td>\n",
       "      <td>0</td>\n",
       "      <td>126.178884</td>\n",
       "      <td>33.302766</td>\n",
       "      <td>한경면</td>\n",
       "      <td>NaN</td>\n",
       "      <td></td>\n",
       "    </tr>\n",
       "    <tr>\n",
       "      <th>2</th>\n",
       "      <td>2</td>\n",
       "      <td>2.0</td>\n",
       "      <td>3</td>\n",
       "      <td>3</td>\n",
       "      <td>202005</td>\n",
       "      <td>제주특별자치도</td>\n",
       "      <td>제주시</td>\n",
       "      <td>중소1</td>\n",
       "      <td>마트/편의점(유통)</td>\n",
       "      <td>00시</td>\n",
       "      <td>157670</td>\n",
       "      <td>6850</td>\n",
       "      <td>20</td>\n",
       "      <td>2</td>\n",
       "      <td>126.179458</td>\n",
       "      <td>33.300971</td>\n",
       "      <td>한경면</td>\n",
       "      <td>NaN</td>\n",
       "      <td></td>\n",
       "    </tr>\n",
       "  </tbody>\n",
       "</table>\n",
       "</div>"
      ],
      "text/plain": [
       "   Unnamed: 0  Unnamed: 0.1  OBJECTID  Field1      YM     SIDO SIGUNGU  \\\n",
       "0           0           0.0         1       1  202005  제주특별자치도     제주시   \n",
       "1           1           1.0         2       2  202005  제주특별자치도     제주시   \n",
       "2           2           2.0         3       3  202005  제주특별자치도     제주시   \n",
       "\n",
       "  FranClass        Type Time  TotalSpent  DisSpent  NumofSpent  NumofDisSpent  \\\n",
       "0        영세       외식/주점  00시      363000     66500          10              2   \n",
       "1        영세       외식/주점  00시     1180000         0           3              0   \n",
       "2       중소1  마트/편의점(유통)  00시      157670      6850          20              2   \n",
       "\n",
       "      POINT_X    POINT_Y DONG  Unnamed: 0.1.1 AREA  \n",
       "0  126.178894  33.302315  한경면             NaN       \n",
       "1  126.178884  33.302766  한경면             NaN       \n",
       "2  126.179458  33.300971  한경면             NaN       "
      ]
     },
     "execution_count": 7,
     "metadata": {},
     "output_type": "execute_result"
    }
   ],
   "source": [
    "data[\"AREA\"] = \"\"\n",
    "data.head(3)"
   ]
  },
  {
   "cell_type": "code",
   "execution_count": 8,
   "id": "burning-check",
   "metadata": {},
   "outputs": [],
   "source": [
    "condition_list = [\n",
    "    (data['DONG'].isin(area_west_jeju)) ,\n",
    "    (data['DONG'].isin(area_urban_jeju)),\n",
    "    (data['DONG'].isin(area_east_jeju)),\n",
    "    (data['DONG'].isin(area_west_seoguipo)),\n",
    "    (data['DONG'].isin(area_urban_seoguipo)),\n",
    "    (data['DONG'].isin(area_east_seoguipo)),\n",
    "    (data['DONG'].isin(area_etc))]\n",
    "choice_list = ['제주서부', '제주', '제주동부', '서귀포서부', '서귀포', '서귀포동부', '기타']\n",
    "data['AREA'] = np.select(condition_list, choice_list, default='기타')"
   ]
  },
  {
   "cell_type": "code",
   "execution_count": 9,
   "id": "therapeutic-italian",
   "metadata": {
    "scrolled": true
   },
   "outputs": [],
   "source": [
    "grouped_spend = data['TotalSpent'].groupby(data['AREA'])"
   ]
  },
  {
   "cell_type": "markdown",
   "id": "focal-rider",
   "metadata": {},
   "source": [
    "## 2. 권역별 총 사용량 비교"
   ]
  },
  {
   "cell_type": "code",
   "execution_count": 10,
   "id": "spare-frontier",
   "metadata": {},
   "outputs": [],
   "source": [
    "import matplotlib as mpl\n",
    "from matplotlib import pyplot as plt\n",
    "import matplotlib.font_manager as fm\n",
    "mpl.font_manager._rebuild()\n",
    "\n",
    "# 그래프에서 마이너스 폰트 깨지는 문제에 대한 대처\n",
    "mpl.rcParams['axes.unicode_minus'] = False\n",
    "mpl.rcParams['font.family'] = \"NanumBarunGothic\""
   ]
  },
  {
   "cell_type": "code",
   "execution_count": 11,
   "id": "innocent-festival",
   "metadata": {},
   "outputs": [],
   "source": [
    "label = ['기타', '서귀포', '서귀포동부', '서귀포서부', '제주', '제주동부', '제주서부']"
   ]
  },
  {
   "cell_type": "code",
   "execution_count": 12,
   "id": "intimate-audience",
   "metadata": {},
   "outputs": [
    {
     "data": {
      "image/png": "[encoded data removed]",
      "text/plain": [
       "<Figure size 432x288 with 1 Axes>"
      ]
     },
     "metadata": {
      "needs_background": "light"
     },
     "output_type": "display_data"
    }
   ],
   "source": [
    "color = ['C0', 'C3', 'C0', 'C0', 'C3', 'C0', 'C0']\n",
    "plt.bar(label, grouped_spend.size(), color = color)\n",
    "plt.title('권역별 사용금액')\n",
    "plt.ylabel('사용금액')\n",
    "plt.show()"
   ]
  },
  {
   "cell_type": "code",
   "execution_count": 13,
   "id": "advance-producer",
   "metadata": {},
   "outputs": [
    {
     "data": {
      "image/png": "[encoded data removed]",
      "text/plain": [
       "<Figure size 432x288 with 1 Axes>"
      ]
     },
     "metadata": {
      "needs_background": "light"
     },
     "output_type": "display_data"
    }
   ],
   "source": [
    "color = ['C0', 'C3', 'C0', 'C0', 'C3', 'C0', 'C0']\n",
    "plt.bar(label, grouped_spend.sum(), color = color)\n",
    "plt.title('권역별 사용횟수')\n",
    "plt.ylabel('회수(1e10)')\n",
    "plt.show()"
   ]
  },
  {
   "cell_type": "markdown",
   "id": "blond-ambassador",
   "metadata": {},
   "source": [
    "## 3. 권역별 주요 사용처 분석"
   ]
  },
  {
   "cell_type": "code",
   "execution_count": 14,
   "id": "further-defensive",
   "metadata": {
    "scrolled": true
   },
   "outputs": [
    {
     "data": {
      "text/plain": [
       "AREA  Type      \n",
       "기타    건설/제조           1181520\n",
       "      교육/육아                 0\n",
       "      교통/통신             40000\n",
       "      레저/스포츠          1502000\n",
       "      마트/편의점(유통)     56043370\n",
       "                      ...    \n",
       "제주서부  영화/문화           8946290\n",
       "      외식/주점         552002344\n",
       "      의료             82790826\n",
       "      주유/자동차        242842742\n",
       "      카페/베이커리        62971787\n",
       "Name: DisSpent, Length: 117, dtype: int64"
      ]
     },
     "execution_count": 14,
     "metadata": {},
     "output_type": "execute_result"
    }
   ],
   "source": [
    "grouped_type = data.groupby(['AREA', 'Type'])\n",
    "grouped_eachType_spend = grouped_type.sum()[\"DisSpent\"]\n",
    "grouped_eachType_spend"
   ]
  },
  {
   "cell_type": "code",
   "execution_count": 15,
   "id": "phantom-shift",
   "metadata": {},
   "outputs": [
    {
     "data": {
      "text/plain": [
       "Type\n",
       "마트/편의점(유통)    1235638839\n",
       "외식/주점          552002344\n",
       "주유/자동차         242842742\n",
       "농업             146558277\n",
       "의료              82790826\n",
       "카페/베이커리         62971787\n",
       "쇼핑/패션           52591272\n",
       "생활/기타           48387804\n",
       "건설/제조           40618304\n",
       "레저/스포츠          23158228\n",
       "Name: DisSpent, dtype: int64"
      ]
     },
     "execution_count": 15,
     "metadata": {},
     "output_type": "execute_result"
    }
   ],
   "source": [
    "A_top_spent = grouped_eachType_spend[\"제주서부\"].sort_values(ascending=False)[0:10]\n",
    "A_top_spent"
   ]
  },
  {
   "cell_type": "code",
   "execution_count": 16,
   "id": "fewer-worse",
   "metadata": {},
   "outputs": [
    {
     "data": {
      "image/png": "[encoded data removed]",
      "text/plain": [
       "<Figure size 432x288 with 1 Axes>"
      ]
     },
     "metadata": {
      "needs_background": "light"
     },
     "output_type": "display_data"
    }
   ],
   "source": [
    "label = ['외식/주점', '마트/편의점(유통)', '주유/자동차', '레저/스포츠', '여행/숙박']\n",
    "plt.bar(label, A_top_spent[0:5])\n",
    "plt.title('제주서부 사용처')\n",
    "plt.ylabel('사용금액(단위:100억)')\n",
    "plt.show()"
   ]
  },
  {
   "cell_type": "code",
   "execution_count": 17,
   "id": "contrary-moldova",
   "metadata": {},
   "outputs": [
    {
     "data": {
      "text/plain": [
       "Type\n",
       "마트/편의점(유통)    7393145412\n",
       "외식/주점         4808584976\n",
       "의료            2051654796\n",
       "주유/자동차        1502062711\n",
       "쇼핑/패션         1218665642\n",
       "레저/스포츠        1215771703\n",
       "생활/기타          995372224\n",
       "카페/베이커리        762726055\n",
       "교육/육아          665886992\n",
       "뷰티             461040455\n",
       "Name: DisSpent, dtype: int64"
      ]
     },
     "execution_count": 17,
     "metadata": {},
     "output_type": "execute_result"
    }
   ],
   "source": [
    "B_top_spent = grouped_eachType_spend[\"제주\"].sort_values(ascending=False)[0:10]\n",
    "B_top_spent"
   ]
  },
  {
   "cell_type": "code",
   "execution_count": 18,
   "id": "loaded-future",
   "metadata": {},
   "outputs": [
    {
     "data": {
      "image/png": "[encoded data removed]",
      "text/plain": [
       "<Figure size 432x288 with 1 Axes>"
      ]
     },
     "metadata": {
      "needs_background": "light"
     },
     "output_type": "display_data"
    }
   ],
   "source": [
    "label = ['외식/주점', '마트/편의점(유통)', '여행/숙박', '의료', '주유/자동차']\n",
    "plt.bar(label, B_top_spent[0:5])\n",
    "plt.title('제주 사용처')\n",
    "plt.ylabel('사용금액(단위:100억)')\n",
    "plt.show()"
   ]
  },
  {
   "cell_type": "code",
   "execution_count": 19,
   "id": "handled-shopping",
   "metadata": {},
   "outputs": [
    {
     "data": {
      "text/plain": [
       "Type\n",
       "마트/편의점(유통)    449994718\n",
       "외식/주점         318847436\n",
       "주유/자동차        158096214\n",
       "카페/베이커리        49648747\n",
       "농업             34375506\n",
       "의료             31913530\n",
       "생활/기타          20842143\n",
       "서비스/기타         16517850\n",
       "건설/제조          13978140\n",
       "쇼핑/패션          11467724\n",
       "Name: DisSpent, dtype: int64"
      ]
     },
     "execution_count": 19,
     "metadata": {},
     "output_type": "execute_result"
    }
   ],
   "source": [
    "C_top_spent = grouped_eachType_spend[\"제주동부\"].sort_values(ascending=False)[0:10]\n",
    "C_top_spent"
   ]
  },
  {
   "cell_type": "code",
   "execution_count": 20,
   "id": "legitimate-sleep",
   "metadata": {},
   "outputs": [
    {
     "data": {
      "image/png": "[encoded data removed]",
      "text/plain": [
       "<Figure size 432x288 with 1 Axes>"
      ]
     },
     "metadata": {
      "needs_background": "light"
     },
     "output_type": "display_data"
    }
   ],
   "source": [
    "label = ['외식/주점', '마트/편의점(유통)', '주유/자동차', '레저/스포츠', '여행/숙박']\n",
    "plt.bar(label, C_top_spent[0:5])\n",
    "plt.title('제주동부 사용처')\n",
    "plt.ylabel('사용금액(단위:100억)')\n",
    "plt.show()"
   ]
  },
  {
   "cell_type": "code",
   "execution_count": 21,
   "id": "therapeutic-picking",
   "metadata": {},
   "outputs": [
    {
     "data": {
      "text/plain": [
       "Type\n",
       "마트/편의점(유통)    515643767\n",
       "외식/주점         349874664\n",
       "주유/자동차        144198096\n",
       "의료             54006120\n",
       "농업             51927789\n",
       "카페/베이커리        49302677\n",
       "서비스/기타         38800717\n",
       "레저/스포츠         29542897\n",
       "생활/기타          27438488\n",
       "건설/제조          19324345\n",
       "Name: DisSpent, dtype: int64"
      ]
     },
     "execution_count": 21,
     "metadata": {},
     "output_type": "execute_result"
    }
   ],
   "source": [
    "D_top_spent = grouped_eachType_spend[\"서귀포서부\"].sort_values(ascending=False)[0:10]\n",
    "D_top_spent"
   ]
  },
  {
   "cell_type": "code",
   "execution_count": 22,
   "id": "careful-trace",
   "metadata": {},
   "outputs": [
    {
     "data": {
      "image/png": "[encoded data removed]",
      "text/plain": [
       "<Figure size 432x288 with 1 Axes>"
      ]
     },
     "metadata": {
      "needs_background": "light"
     },
     "output_type": "display_data"
    }
   ],
   "source": [
    "label = ['외식/주점', '마트/편의점(유통)', '레저/스포츠', '여행/숙박', '주유/자동차']\n",
    "plt.bar(label, D_top_spent[0:5])\n",
    "plt.title('서귀포서부 사용처')\n",
    "plt.ylabel('사용금액(단위:100억)')\n",
    "plt.show()"
   ]
  },
  {
   "cell_type": "code",
   "execution_count": 23,
   "id": "documented-basics",
   "metadata": {},
   "outputs": [
    {
     "data": {
      "text/plain": [
       "Type\n",
       "마트/편의점(유통)    1923958937\n",
       "외식/주점         1281323296\n",
       "주유/자동차         551156564\n",
       "의료             357671896\n",
       "레저/스포츠         304612455\n",
       "쇼핑/패션          257065748\n",
       "카페/베이커리        193009666\n",
       "생활/기타          171454944\n",
       "뷰티              93268707\n",
       "교육/육아           81036040\n",
       "Name: DisSpent, dtype: int64"
      ]
     },
     "execution_count": 23,
     "metadata": {},
     "output_type": "execute_result"
    }
   ],
   "source": [
    "E_top_spent = grouped_eachType_spend[\"서귀포\"].sort_values(ascending=False)[0:10]\n",
    "E_top_spent"
   ]
  },
  {
   "cell_type": "code",
   "execution_count": 24,
   "id": "still-finland",
   "metadata": {},
   "outputs": [
    {
     "data": {
      "image/png": "[encoded data removed]",
      "text/plain": [
       "<Figure size 432x288 with 1 Axes>"
      ]
     },
     "metadata": {
      "needs_background": "light"
     },
     "output_type": "display_data"
    }
   ],
   "source": [
    "label = ['외식/주점', '마트/편의점(유통)', '여행/숙박', '주유/자동차', '의료']\n",
    "plt.bar(label, E_top_spent[0:5])\n",
    "plt.title('서귀포 사용처')\n",
    "plt.ylabel('사용금액(단위:100억)')\n",
    "plt.show()"
   ]
  },
  {
   "cell_type": "code",
   "execution_count": 25,
   "id": "mexican-accident",
   "metadata": {},
   "outputs": [
    {
     "data": {
      "text/plain": [
       "Type\n",
       "마트/편의점(유통)    856271710\n",
       "외식/주점         416805489\n",
       "주유/자동차        216951390\n",
       "의료             94187623\n",
       "카페/베이커리        94025930\n",
       "건설/제조          52581972\n",
       "쇼핑/패션          34014974\n",
       "생활/기타          29660420\n",
       "농업             25579962\n",
       "뷰티             17714760\n",
       "Name: DisSpent, dtype: int64"
      ]
     },
     "execution_count": 25,
     "metadata": {},
     "output_type": "execute_result"
    }
   ],
   "source": [
    "F_top_spent = grouped_eachType_spend[\"서귀포동부\"].sort_values(ascending=False)[0:10]\n",
    "F_top_spent"
   ]
  },
  {
   "cell_type": "code",
   "execution_count": 26,
   "id": "perfect-prophet",
   "metadata": {},
   "outputs": [
    {
     "data": {
      "image/png": "[encoded data removed]",
      "text/plain": [
       "<Figure size 432x288 with 1 Axes>"
      ]
     },
     "metadata": {
      "needs_background": "light"
     },
     "output_type": "display_data"
    }
   ],
   "source": [
    "label = ['마트/편의점(유통)', '외식/주점', '주유/자동차', '레저/스포츠', '여행/숙박']\n",
    "plt.bar(label, F_top_spent[0:5])\n",
    "plt.title('서귀포동부 사용처')\n",
    "plt.ylabel('사용금액(단위:100억)')\n",
    "plt.show()"
   ]
  },
  {
   "cell_type": "code",
   "execution_count": 27,
   "id": "sharp-illustration",
   "metadata": {},
   "outputs": [
    {
     "data": {
      "text/plain": [
       "Type\n",
       "마트/편의점(유통)    56043370\n",
       "외식/주점         33712409\n",
       "주유/자동차        21632030\n",
       "카페/베이커리        7243191\n",
       "의료             2440880\n",
       "여행/숙박          1836794\n",
       "서비스/기타         1552380\n",
       "레저/스포츠         1502000\n",
       "쇼핑/패션          1326830\n",
       "건설/제조          1181520\n",
       "Name: DisSpent, dtype: int64"
      ]
     },
     "execution_count": 27,
     "metadata": {},
     "output_type": "execute_result"
    }
   ],
   "source": [
    "G_top_spent = grouped_eachType_spend[\"기타\"].sort_values(ascending=False)[0:10]\n",
    "G_top_spent"
   ]
  },
  {
   "cell_type": "code",
   "execution_count": 28,
   "id": "fancy-chinese",
   "metadata": {},
   "outputs": [
    {
     "data": {
      "image/png": "[encoded data removed]",
      "text/plain": [
       "<Figure size 432x288 with 1 Axes>"
      ]
     },
     "metadata": {
      "needs_background": "light"
     },
     "output_type": "display_data"
    }
   ],
   "source": [
    "label = ['외식/주점', '마트/편의점(유통)', '카페/베이커리', '주유/자동차', '여행/숙박']\n",
    "plt.bar(label, G_top_spent[0:5])\n",
    "plt.title('기타지역(추자,우도) 사용처')\n",
    "plt.ylabel('사용금액(단위:100억)')\n",
    "plt.show()"
   ]
  },
  {
   "cell_type": "markdown",
   "id": "manual-manitoba",
   "metadata": {},
   "source": [
    "위 결과를 보면 시외권과 시내권의 특성이 매우 분명하게 드러나고, 기타 지역의 경우에 낚시 등의 레저가 발달한 것을 분명하게 살펴볼 수 있다."
   ]
  },
  {
   "cell_type": "code",
   "execution_count": 29,
   "id": "happy-programming",
   "metadata": {
    "scrolled": false
   },
   "outputs": [
    {
     "data": {
      "text/plain": [
       "<function matplotlib.pyplot.grid(b=None, which='major', axis='both', **kwargs)>"
      ]
     },
     "execution_count": 29,
     "metadata": {},
     "output_type": "execute_result"
    },
    {
     "data": {
      "image/png": "[encoded data removed]",
      "text/plain": [
       "<Figure size 1800x720 with 6 Axes>"
      ]
     },
     "metadata": {
      "needs_background": "light"
     },
     "output_type": "display_data"
    }
   ],
   "source": [
    "plt.figure(figsize=(25,10))\n",
    "\n",
    "food = 'C0'\n",
    "mart = 'C1'\n",
    "gas = 'C2'\n",
    "sport = 'C3'\n",
    "agri = 'C4'\n",
    "tour = 'C5'\n",
    "hospit = 'C6'\n",
    "cafe = 'C7'\n",
    "\n",
    "plt.subplot(231)\n",
    "label = ['외식/주점', '마트/편의점(유통)', '주유/자동차', '레저/스포츠', '여행/숙박']\n",
    "color = [food, mart, gas, sport, tour]\n",
    "plt.bar(label, A_top_spent[0:5], color=color)\n",
    "plt.title('제주 서부', size=25)\n",
    "plt.ylabel('사용금액(단위:100억)')\n",
    "plt.grid\n",
    "\n",
    "plt.subplot(232)\n",
    "label = ['외식/주점', '마트/편의점(유통)', '여행/숙박', '의료', '주유/자동차']\n",
    "color = [food, mart, tour, hospit, gas]\n",
    "plt.bar(label, B_top_spent[0:5], color=color)\n",
    "plt.title('제주', size=25)\n",
    "plt.ylabel('사용금액(단위:100억)')\n",
    "plt.grid\n",
    "\n",
    "plt.subplot(233)\n",
    "label = ['외식/주점', '마트/편의점(유통)', '주유/자동차', '레저/스포츠', '여행/숙박']\n",
    "color = [food, mart, gas, sport, tour]\n",
    "plt.bar(label, C_top_spent[0:5], color=color)\n",
    "plt.title('제주 동부', size=25)\n",
    "plt.ylabel('사용금액(단위:100억)')\n",
    "plt.grid\n",
    "\n",
    "plt.subplot(234)\n",
    "label = ['외식/주점', '마트/편의점(유통)', '레저/스포츠', '여행/숙박', '주유/자동차']\n",
    "color = [food, mart, sport, tour, gas]\n",
    "plt.bar(label, D_top_spent[0:5], color = color)\n",
    "plt.title('서귀포 서부', size=25)\n",
    "plt.ylabel('사용금액(단위:100억)')\n",
    "plt.grid\n",
    "\n",
    "plt.subplot(235)\n",
    "label = ['외식/주점', '마트/편의점(유통)', '여행/숙박', '주유/자동차', '의료']\n",
    "color = [food, mart, tour, gas, hospit]\n",
    "plt.bar(label, E_top_spent[0:5], color = color)\n",
    "plt.title('서귀포 서부', size=25)\n",
    "plt.ylabel('사용금액(단위:100억)')\n",
    "plt.grid\n",
    "\n",
    "plt.subplot(236)\n",
    "label = ['외식/주점', '마트/편의점(유통)', '카페/베이커리', '주유/자동차', '여행/숙박']\n",
    "color = [food, mart, cafe, gas, tour]\n",
    "plt.bar(label, F_top_spent[0:5], color=color)\n",
    "plt.title('서귀포 동부', size=25)\n",
    "plt.ylabel('사용금액(단위:100억)')\n",
    "plt.grid"
   ]
  },
  {
   "cell_type": "markdown",
   "id": "settled-removal",
   "metadata": {},
   "source": [
    "보면 레저/스포츠, 의료 분야에서 시내 지역과 시외 지역의 차이가 극명하게 나타난다 그 이유는 제주대학병원, 중앙병원, 서귀포병원 등이 시내에만 있고, 제주도는 이동시간이 적기 때문에 의료를 위해서 차로 이동하기 때문이다. 반면 시내에서는 레저/스포츠가 전혀 나타나지 않고 여행/숙박이 높은 것을 통해, 제주시와 서귀포시에 집중된 호텔의 경향성을 찾아볼 수 있다."
   ]
  },
  {
   "cell_type": "markdown",
   "id": "offshore-expansion",
   "metadata": {},
   "source": [
    "## 전체 그래프 스케일링 진행해야함!! (현재 단위가 다름)"
   ]
  },
  {
   "cell_type": "markdown",
   "id": "intended-bearing",
   "metadata": {},
   "source": [
    "DisSpent 결과와 TotalSpent 결과가 약간의 차이가 있음... 의료를 중심으로 보면, 대형 병원에서 의료를 큰 규모로 많이 진행해서 총 사용금액은 시내에서 의료가 크지만 재난지원금 기준으로 보면 비슷"
   ]
  },
  {
   "cell_type": "code",
   "execution_count": null,
   "id": "composed-sodium",
   "metadata": {},
   "outputs": [],
   "source": []
  }
 ],
 "metadata": {
  "kernelspec": {
   "display_name": "Python 3",
   "language": "python",
   "name": "python3"
  },
  "language_info": {
   "codemirror_mode": {
    "name": "ipython",
    "version": 3
   },
   "file_extension": ".py",
   "mimetype": "text/x-python",
   "name": "python",
   "nbconvert_exporter": "python",
   "pygments_lexer": "ipython3",
   "version": "3.8.2"
  }
 },
 "nbformat": 4,
 "nbformat_minor": 5
}
