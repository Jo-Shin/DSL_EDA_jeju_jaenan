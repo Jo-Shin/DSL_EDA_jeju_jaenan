{
 "cells": [
  {
   "cell_type": "markdown",
   "metadata": {},
   "source": [
    "# 제주 재난지원금은 제주도 내 지역적 특성이 드러나게 이용되었는가?"
   ]
  },
  {
   "cell_type": "markdown",
   "metadata": {},
   "source": [
    "1. 국내 다른 지역과의 제주도 인구대비 재난지원금 지급 추이 비교(간단히)\n",
    "2. 제주도의 재난지원금 지급 방식\n",
    "3. 제주 권역별로 어떤 산업이 발달했는지\n",
    "4. 제주 권역별로 재난지원금이 어디 사용되었는지, 얼마나 사용되었는지 (송재용)\n",
    "5. 제주도의 읍면동별 업종 분포와 읍면동별 재난지원금 사용률 시각화"
   ]
  },
  {
   "cell_type": "code",
   "execution_count": 1,
   "metadata": {},
   "outputs": [],
   "source": [
    "import pandas as pd\n",
    "import numpy as np\n",
    "import warnings\n",
    "warnings.filterwarnings('ignore')"
   ]
  },
  {
   "cell_type": "code",
   "execution_count": 3,
   "metadata": {},
   "outputs": [],
   "source": [
    "from matplotlib import rc\n",
    "import matplotlib.pyplot as plt\n",
    "import matplotlib as mpl\n",
    "import seaborn as sns\n",
    "rc('font', family='AppleGothic')\n",
    "plt.rcParams['axes.unicode_minus'] = False"
   ]
  },
  {
   "cell_type": "code",
   "execution_count": 305,
   "metadata": {},
   "outputs": [],
   "source": [
    "data5_2 = pd.read_csv('data5_converted_177501_200000.csv')\n",
    "data5_3 = pd.read_csv('data5_converted_200000_toend.csv')\n",
    "data6_1 = pd.read_csv('jeju_data6_1_90000.csv')\n",
    "data6_2 = pd.read_csv('jeju_data6_90000_189000.csv')\n",
    "data_8 = pd.read_csv('jeju_data_8_completed.csv', encoding = \"CP949\")"
   ]
  },
  {
   "cell_type": "code",
   "execution_count": 306,
   "metadata": {},
   "outputs": [],
   "source": [
    "data = pd.concat([data5_2, data5_3, data6_1, data6_2, data_8])\n",
    "data = data.reset_index(drop=True)\n",
    "#data_5.to_csv(\"jeju_data5_177501_toend.csv\")"
   ]
  },
  {
   "cell_type": "code",
   "execution_count": 307,
   "metadata": {},
   "outputs": [
    {
     "data": {
      "text/plain": [
       "array(['연동', '용담삼동', '강정동', '도두이동', '용담이동', '영남동', '오라삼동', '법환동', '오라이동',\n",
       "       '서호동', '용담일동', '오라일동', '삼도일동', '삼도이동', '오등동', '도남동', '호근동', '이도일동',\n",
       "       '일도일동', '건입동', '이도이동', '일도이동', '아라일동', '서홍동', '아라이동', '화북이동',\n",
       "       '서귀동', '동홍동', '영평동', '화북일동', '토평동', '월평동', '상효동', '삼양삼동', '도련일동',\n",
       "       '삼양이동', '봉개동', '보목동', '도련이동', '삼양일동', '신효동', '남원읍', '조천읍', '회천동',\n",
       "       '하효동', '표선면', '구좌읍', '성산읍', '우도면', '한경면', '대정읍', '한림읍', '안덕면',\n",
       "       '애월읍', '추자면', '하예동', '상예동', '색달동', '중문동', '외도일동', '외도이동', '대포동',\n",
       "       '회수동', '내도동', '도평동', '하원동', '이호일동', '해안동', '이호이동', '노형동', '도순동',\n",
       "       '도두일동', '용강동'], dtype=object)"
      ]
     },
     "execution_count": 307,
     "metadata": {},
     "output_type": "execute_result"
    }
   ],
   "source": [
    "data[\"DONG\"].unique()"
   ]
  },
  {
   "cell_type": "code",
   "execution_count": 308,
   "metadata": {},
   "outputs": [
    {
     "name": "stdout",
     "output_type": "stream",
     "text": [
      "<class 'pandas.core.frame.DataFrame'>\n",
      "RangeIndex: 564765 entries, 0 to 564764\n",
      "Data columns (total 16 columns):\n",
      " #   Column         Non-Null Count   Dtype  \n",
      "---  ------         --------------   -----  \n",
      " 0   Unnamed: 0     284680 non-null  float64\n",
      " 1   OBJECTID       564765 non-null  int64  \n",
      " 2   Field1         564765 non-null  int64  \n",
      " 3   YM             564765 non-null  int64  \n",
      " 4   SIDO           564765 non-null  object \n",
      " 5   SIGUNGU        564765 non-null  object \n",
      " 6   FranClass      564765 non-null  object \n",
      " 7   Type           564765 non-null  object \n",
      " 8   Time           564765 non-null  object \n",
      " 9   TotalSpent     564765 non-null  int64  \n",
      " 10  DisSpent       564765 non-null  int64  \n",
      " 11  NumofSpent     564765 non-null  int64  \n",
      " 12  NumofDisSpent  564765 non-null  int64  \n",
      " 13  POINT_X        564765 non-null  float64\n",
      " 14  POINT_Y        564765 non-null  float64\n",
      " 15  DONG           564765 non-null  object \n",
      "dtypes: float64(3), int64(7), object(6)\n",
      "memory usage: 68.9+ MB\n"
     ]
    }
   ],
   "source": [
    "data.info()"
   ]
  },
  {
   "cell_type": "markdown",
   "metadata": {},
   "source": [
    "## 전처리"
   ]
  },
  {
   "cell_type": "markdown",
   "metadata": {},
   "source": [
    "### a. 제주도 재난지원금 데이터: 권역설정"
   ]
  },
  {
   "cell_type": "code",
   "execution_count": 309,
   "metadata": {},
   "outputs": [],
   "source": [
    "area_west_jeju = ['한경면', '한림읍', '애월읍']\n",
    "area_east_jeju = ['조천읍', '구좌읍']\n",
    "area_urban_jeju = ['외도이동', '외도일동', '내도동', '도평동', '해안동', '이호일동', '이호이동', '월평동', '도두일동', '노형동', '도두이동', '연동', '용담삼동', '용담이동', '오라삼동', '오라이동', '용담일동', '오라일동', '삼도일동', '삼도이동', '오등동', '도남동', '이도일동', '일도일동', '건입동', '이도이동', '일도이동', '아라일동', '아라이동', '화북이동', '화북일동', '영평동', '삼양삼동', '도련일동', '삼양이동', '봉개동', '도련이동', '삼양일동', '회천동', '용강동']\n",
    "area_west_seoguipo = ['대정읍', '안덕면']\n",
    "area_east_seoguipo = ['남원읍', '표선면', '성산읍']\n",
    "area_urban_seoguipo = ['하예동', '상예동', '색달동', '중문동', '대포동', '하원동', '도순동', '강정동', '법환동', '서호동', '호근동', '서홍동', '서귀동', '동홍동', '토평동', '보목동', '상효동', '신효동', '하효동', '회수동', '영남동']\n",
    "area_etc = ['추자면', '우도면']"
   ]
  },
  {
   "cell_type": "code",
   "execution_count": 310,
   "metadata": {},
   "outputs": [
    {
     "data": {
      "text/html": [
       "<div>\n",
       "<style scoped>\n",
       "    .dataframe tbody tr th:only-of-type {\n",
       "        vertical-align: middle;\n",
       "    }\n",
       "\n",
       "    .dataframe tbody tr th {\n",
       "        vertical-align: top;\n",
       "    }\n",
       "\n",
       "    .dataframe thead th {\n",
       "        text-align: right;\n",
       "    }\n",
       "</style>\n",
       "<table border=\"1\" class=\"dataframe\">\n",
       "  <thead>\n",
       "    <tr style=\"text-align: right;\">\n",
       "      <th></th>\n",
       "      <th>Unnamed: 0</th>\n",
       "      <th>OBJECTID</th>\n",
       "      <th>Field1</th>\n",
       "      <th>YM</th>\n",
       "      <th>SIDO</th>\n",
       "      <th>SIGUNGU</th>\n",
       "      <th>FranClass</th>\n",
       "      <th>Type</th>\n",
       "      <th>Time</th>\n",
       "      <th>TotalSpent</th>\n",
       "      <th>DisSpent</th>\n",
       "      <th>NumofSpent</th>\n",
       "      <th>NumofDisSpent</th>\n",
       "      <th>POINT_X</th>\n",
       "      <th>POINT_Y</th>\n",
       "      <th>DONG</th>\n",
       "      <th>AREA</th>\n",
       "    </tr>\n",
       "  </thead>\n",
       "  <tbody>\n",
       "    <tr>\n",
       "      <th>0</th>\n",
       "      <td>177501.0</td>\n",
       "      <td>177502</td>\n",
       "      <td>177502</td>\n",
       "      <td>202005</td>\n",
       "      <td>제주특별자치도</td>\n",
       "      <td>제주시</td>\n",
       "      <td>영세</td>\n",
       "      <td>골프용품</td>\n",
       "      <td>17시</td>\n",
       "      <td>29000</td>\n",
       "      <td>0</td>\n",
       "      <td>1</td>\n",
       "      <td>0</td>\n",
       "      <td>126.489713</td>\n",
       "      <td>33.489049</td>\n",
       "      <td>연동</td>\n",
       "      <td></td>\n",
       "    </tr>\n",
       "    <tr>\n",
       "      <th>1</th>\n",
       "      <td>177502.0</td>\n",
       "      <td>177503</td>\n",
       "      <td>177503</td>\n",
       "      <td>202005</td>\n",
       "      <td>제주특별자치도</td>\n",
       "      <td>제주시</td>\n",
       "      <td>영세</td>\n",
       "      <td>일반한식</td>\n",
       "      <td>17시</td>\n",
       "      <td>556000</td>\n",
       "      <td>112984</td>\n",
       "      <td>16</td>\n",
       "      <td>4</td>\n",
       "      <td>126.489713</td>\n",
       "      <td>33.489049</td>\n",
       "      <td>연동</td>\n",
       "      <td></td>\n",
       "    </tr>\n",
       "    <tr>\n",
       "      <th>2</th>\n",
       "      <td>177503.0</td>\n",
       "      <td>177504</td>\n",
       "      <td>177504</td>\n",
       "      <td>202005</td>\n",
       "      <td>제주특별자치도</td>\n",
       "      <td>제주시</td>\n",
       "      <td>중소</td>\n",
       "      <td>악세사리</td>\n",
       "      <td>17시</td>\n",
       "      <td>275400</td>\n",
       "      <td>39900</td>\n",
       "      <td>6</td>\n",
       "      <td>1</td>\n",
       "      <td>126.489713</td>\n",
       "      <td>33.489049</td>\n",
       "      <td>연동</td>\n",
       "      <td></td>\n",
       "    </tr>\n",
       "  </tbody>\n",
       "</table>\n",
       "</div>"
      ],
      "text/plain": [
       "   Unnamed: 0  OBJECTID  Field1      YM     SIDO SIGUNGU FranClass  Type Time  \\\n",
       "0    177501.0    177502  177502  202005  제주특별자치도     제주시        영세  골프용품  17시   \n",
       "1    177502.0    177503  177503  202005  제주특별자치도     제주시        영세  일반한식  17시   \n",
       "2    177503.0    177504  177504  202005  제주특별자치도     제주시        중소  악세사리  17시   \n",
       "\n",
       "   TotalSpent  DisSpent  NumofSpent  NumofDisSpent     POINT_X    POINT_Y  \\\n",
       "0       29000         0           1              0  126.489713  33.489049   \n",
       "1      556000    112984          16              4  126.489713  33.489049   \n",
       "2      275400     39900           6              1  126.489713  33.489049   \n",
       "\n",
       "  DONG AREA  \n",
       "0   연동       \n",
       "1   연동       \n",
       "2   연동       "
      ]
     },
     "execution_count": 310,
     "metadata": {},
     "output_type": "execute_result"
    }
   ],
   "source": [
    "data[\"AREA\"] = \"\"\n",
    "data.head(3)"
   ]
  },
  {
   "cell_type": "code",
   "execution_count": 311,
   "metadata": {},
   "outputs": [
    {
     "data": {
      "text/html": [
       "<div>\n",
       "<style scoped>\n",
       "    .dataframe tbody tr th:only-of-type {\n",
       "        vertical-align: middle;\n",
       "    }\n",
       "\n",
       "    .dataframe tbody tr th {\n",
       "        vertical-align: top;\n",
       "    }\n",
       "\n",
       "    .dataframe thead th {\n",
       "        text-align: right;\n",
       "    }\n",
       "</style>\n",
       "<table border=\"1\" class=\"dataframe\">\n",
       "  <thead>\n",
       "    <tr style=\"text-align: right;\">\n",
       "      <th></th>\n",
       "      <th>Unnamed: 0</th>\n",
       "      <th>OBJECTID</th>\n",
       "      <th>Field1</th>\n",
       "      <th>YM</th>\n",
       "      <th>SIDO</th>\n",
       "      <th>SIGUNGU</th>\n",
       "      <th>FranClass</th>\n",
       "      <th>Type</th>\n",
       "      <th>Time</th>\n",
       "      <th>TotalSpent</th>\n",
       "      <th>DisSpent</th>\n",
       "      <th>NumofSpent</th>\n",
       "      <th>NumofDisSpent</th>\n",
       "      <th>POINT_X</th>\n",
       "      <th>POINT_Y</th>\n",
       "      <th>DONG</th>\n",
       "      <th>AREA</th>\n",
       "    </tr>\n",
       "  </thead>\n",
       "  <tbody>\n",
       "    <tr>\n",
       "      <th>24072</th>\n",
       "      <td>201574.0</td>\n",
       "      <td>201575</td>\n",
       "      <td>201575</td>\n",
       "      <td>202005</td>\n",
       "      <td>제주특별자치도</td>\n",
       "      <td>제주시</td>\n",
       "      <td>영세</td>\n",
       "      <td>미용원</td>\n",
       "      <td>18시</td>\n",
       "      <td>10000</td>\n",
       "      <td>0</td>\n",
       "      <td>1</td>\n",
       "      <td>0</td>\n",
       "      <td>126.530197</td>\n",
       "      <td>33.512976</td>\n",
       "      <td>일도일동</td>\n",
       "      <td>B</td>\n",
       "    </tr>\n",
       "    <tr>\n",
       "      <th>452342</th>\n",
       "      <td>NaN</td>\n",
       "      <td>167663</td>\n",
       "      <td>167663</td>\n",
       "      <td>202008</td>\n",
       "      <td>제주특별자치도</td>\n",
       "      <td>제주시</td>\n",
       "      <td>영세</td>\n",
       "      <td>미용원</td>\n",
       "      <td>16시</td>\n",
       "      <td>174000</td>\n",
       "      <td>0</td>\n",
       "      <td>5</td>\n",
       "      <td>0</td>\n",
       "      <td>126.573144</td>\n",
       "      <td>33.519338</td>\n",
       "      <td>화북일동</td>\n",
       "      <td>B</td>\n",
       "    </tr>\n",
       "    <tr>\n",
       "      <th>457191</th>\n",
       "      <td>NaN</td>\n",
       "      <td>172512</td>\n",
       "      <td>172512</td>\n",
       "      <td>202008</td>\n",
       "      <td>제주특별자치도</td>\n",
       "      <td>제주시</td>\n",
       "      <td>영세</td>\n",
       "      <td>일반서적</td>\n",
       "      <td>17시</td>\n",
       "      <td>135500</td>\n",
       "      <td>0</td>\n",
       "      <td>5</td>\n",
       "      <td>0</td>\n",
       "      <td>126.264718</td>\n",
       "      <td>33.413982</td>\n",
       "      <td>한림읍</td>\n",
       "      <td>A</td>\n",
       "    </tr>\n",
       "    <tr>\n",
       "      <th>293475</th>\n",
       "      <td>NaN</td>\n",
       "      <td>8796</td>\n",
       "      <td>8796</td>\n",
       "      <td>202008</td>\n",
       "      <td>제주특별자치도</td>\n",
       "      <td>제주시</td>\n",
       "      <td>영세</td>\n",
       "      <td>서양음식</td>\n",
       "      <td>01시</td>\n",
       "      <td>6000</td>\n",
       "      <td>0</td>\n",
       "      <td>1</td>\n",
       "      <td>0</td>\n",
       "      <td>126.794950</td>\n",
       "      <td>33.553248</td>\n",
       "      <td>구좌읍</td>\n",
       "      <td>C</td>\n",
       "    </tr>\n",
       "    <tr>\n",
       "      <th>170318</th>\n",
       "      <td>74638.0</td>\n",
       "      <td>74639</td>\n",
       "      <td>74639</td>\n",
       "      <td>202006</td>\n",
       "      <td>제주특별자치도</td>\n",
       "      <td>제주시</td>\n",
       "      <td>일반</td>\n",
       "      <td>서양음식</td>\n",
       "      <td>12시</td>\n",
       "      <td>804700</td>\n",
       "      <td>0</td>\n",
       "      <td>78</td>\n",
       "      <td>0</td>\n",
       "      <td>126.310552</td>\n",
       "      <td>33.461945</td>\n",
       "      <td>애월읍</td>\n",
       "      <td>A</td>\n",
       "    </tr>\n",
       "    <tr>\n",
       "      <th>147058</th>\n",
       "      <td>51378.0</td>\n",
       "      <td>51379</td>\n",
       "      <td>51379</td>\n",
       "      <td>202006</td>\n",
       "      <td>제주특별자치도</td>\n",
       "      <td>서귀포시</td>\n",
       "      <td>중소1</td>\n",
       "      <td>기타잡화</td>\n",
       "      <td>10시</td>\n",
       "      <td>187400</td>\n",
       "      <td>0</td>\n",
       "      <td>1</td>\n",
       "      <td>0</td>\n",
       "      <td>126.563178</td>\n",
       "      <td>33.241982</td>\n",
       "      <td>서귀동</td>\n",
       "      <td>E</td>\n",
       "    </tr>\n",
       "    <tr>\n",
       "      <th>402891</th>\n",
       "      <td>NaN</td>\n",
       "      <td>118212</td>\n",
       "      <td>118212</td>\n",
       "      <td>202008</td>\n",
       "      <td>제주특별자치도</td>\n",
       "      <td>제주시</td>\n",
       "      <td>중소</td>\n",
       "      <td>레져업소(회원제형태)</td>\n",
       "      <td>14시</td>\n",
       "      <td>55000</td>\n",
       "      <td>0</td>\n",
       "      <td>5</td>\n",
       "      <td>0</td>\n",
       "      <td>126.482956</td>\n",
       "      <td>33.475443</td>\n",
       "      <td>노형동</td>\n",
       "      <td>B</td>\n",
       "    </tr>\n",
       "    <tr>\n",
       "      <th>509297</th>\n",
       "      <td>NaN</td>\n",
       "      <td>224618</td>\n",
       "      <td>224618</td>\n",
       "      <td>202008</td>\n",
       "      <td>제주특별자치도</td>\n",
       "      <td>서귀포시</td>\n",
       "      <td>중소1</td>\n",
       "      <td>편의점</td>\n",
       "      <td>19시</td>\n",
       "      <td>582340</td>\n",
       "      <td>0</td>\n",
       "      <td>52</td>\n",
       "      <td>0</td>\n",
       "      <td>126.654431</td>\n",
       "      <td>33.273657</td>\n",
       "      <td>남원읍</td>\n",
       "      <td>F</td>\n",
       "    </tr>\n",
       "    <tr>\n",
       "      <th>162354</th>\n",
       "      <td>66674.0</td>\n",
       "      <td>66675</td>\n",
       "      <td>66675</td>\n",
       "      <td>202006</td>\n",
       "      <td>제주특별자치도</td>\n",
       "      <td>제주시</td>\n",
       "      <td>일반</td>\n",
       "      <td>자동차부품</td>\n",
       "      <td>11시</td>\n",
       "      <td>7000</td>\n",
       "      <td>0</td>\n",
       "      <td>1</td>\n",
       "      <td>0</td>\n",
       "      <td>126.543615</td>\n",
       "      <td>33.482932</td>\n",
       "      <td>아라이동</td>\n",
       "      <td>B</td>\n",
       "    </tr>\n",
       "    <tr>\n",
       "      <th>557874</th>\n",
       "      <td>NaN</td>\n",
       "      <td>273195</td>\n",
       "      <td>273195</td>\n",
       "      <td>202008</td>\n",
       "      <td>제주특별자치도</td>\n",
       "      <td>제주시</td>\n",
       "      <td>영세</td>\n",
       "      <td>일반한식</td>\n",
       "      <td>x시</td>\n",
       "      <td>57000</td>\n",
       "      <td>0</td>\n",
       "      <td>2</td>\n",
       "      <td>0</td>\n",
       "      <td>126.492964</td>\n",
       "      <td>33.487736</td>\n",
       "      <td>연동</td>\n",
       "      <td>B</td>\n",
       "    </tr>\n",
       "  </tbody>\n",
       "</table>\n",
       "</div>"
      ],
      "text/plain": [
       "        Unnamed: 0  OBJECTID  Field1      YM     SIDO SIGUNGU FranClass  \\\n",
       "24072     201574.0    201575  201575  202005  제주특별자치도     제주시        영세   \n",
       "452342         NaN    167663  167663  202008  제주특별자치도     제주시        영세   \n",
       "457191         NaN    172512  172512  202008  제주특별자치도     제주시        영세   \n",
       "293475         NaN      8796    8796  202008  제주특별자치도     제주시        영세   \n",
       "170318     74638.0     74639   74639  202006  제주특별자치도     제주시        일반   \n",
       "147058     51378.0     51379   51379  202006  제주특별자치도    서귀포시       중소1   \n",
       "402891         NaN    118212  118212  202008  제주특별자치도     제주시        중소   \n",
       "509297         NaN    224618  224618  202008  제주특별자치도    서귀포시       중소1   \n",
       "162354     66674.0     66675   66675  202006  제주특별자치도     제주시        일반   \n",
       "557874         NaN    273195  273195  202008  제주특별자치도     제주시        영세   \n",
       "\n",
       "               Type Time  TotalSpent  DisSpent  NumofSpent  NumofDisSpent  \\\n",
       "24072           미용원  18시       10000         0           1              0   \n",
       "452342          미용원  16시      174000         0           5              0   \n",
       "457191         일반서적  17시      135500         0           5              0   \n",
       "293475         서양음식  01시        6000         0           1              0   \n",
       "170318         서양음식  12시      804700         0          78              0   \n",
       "147058         기타잡화  10시      187400         0           1              0   \n",
       "402891  레져업소(회원제형태)  14시       55000         0           5              0   \n",
       "509297          편의점  19시      582340         0          52              0   \n",
       "162354        자동차부품  11시        7000         0           1              0   \n",
       "557874         일반한식   x시       57000         0           2              0   \n",
       "\n",
       "           POINT_X    POINT_Y  DONG AREA  \n",
       "24072   126.530197  33.512976  일도일동    B  \n",
       "452342  126.573144  33.519338  화북일동    B  \n",
       "457191  126.264718  33.413982   한림읍    A  \n",
       "293475  126.794950  33.553248   구좌읍    C  \n",
       "170318  126.310552  33.461945   애월읍    A  \n",
       "147058  126.563178  33.241982   서귀동    E  \n",
       "402891  126.482956  33.475443   노형동    B  \n",
       "509297  126.654431  33.273657   남원읍    F  \n",
       "162354  126.543615  33.482932  아라이동    B  \n",
       "557874  126.492964  33.487736    연동    B  "
      ]
     },
     "execution_count": 311,
     "metadata": {},
     "output_type": "execute_result"
    }
   ],
   "source": [
    "condition_list = [\n",
    "    (data['DONG'].isin(area_west_jeju)) ,\n",
    "    (data['DONG'].isin(area_urban_jeju)),\n",
    "    (data['DONG'].isin(area_east_jeju)),\n",
    "    (data['DONG'].isin(area_west_seoguipo)),\n",
    "    (data['DONG'].isin(area_urban_seoguipo)),\n",
    "    (data['DONG'].isin(area_east_seoguipo)),\n",
    "    (data['DONG'].isin(area_etc))]\n",
    "choice_list = ['A', 'B', 'C', 'D', 'E', 'F', 'G']\n",
    "data['AREA'] = np.select(condition_list, choice_list, default='G')\n",
    "data.sample(10)"
   ]
  },
  {
   "cell_type": "markdown",
   "metadata": {},
   "source": [
    "### b. 제주도 재난지원금 데이터: 업종설정"
   ]
  },
  {
   "cell_type": "code",
   "execution_count": 312,
   "metadata": {},
   "outputs": [],
   "source": [
    "data.replace(dict.fromkeys(['택시', '기타교통수단', '통신기기'], '교통/통신'), inplace=True)\n",
    "data.replace(dict.fromkeys(['대형할인점', '농축협직영매장', '농협하나로클럽', '편의점', '슈퍼마켓', '정육점', '기타유통업', '연쇄점', '상품권', '인삼제품', '홍삼제품', '농축수산품', '주류판매점', '기타건강식', '건강식품(회원제형태)'], '마트/편의점(유통)'), inplace=True)\n",
    "data.replace(dict.fromkeys(['악기점', 'DVD음반테이프판매', '문화취미기타', '영화관', '티켓', '수족관', '화랑'], '영화/문화'), inplace=True)\n",
    "data.replace(dict.fromkeys(['내의판매점', '양품점', '옷감직물', '귀금속', '기타직물', '스포츠의류', '가방', '정장', '악세사리', '기타잡화', '신발', '기타의류', '단체복', '아동의류', '캐쥬얼의류', '맞춤복점', '제화점', '인터넷Mall', '인터넷종합Mall'], '쇼핑/패션'), inplace=True)\n",
    "data.replace(dict.fromkeys(['제과점', '스넥', '기타음료식품'], '카페/베이커리'), inplace=True)\n",
    "data.replace(dict.fromkeys(['미용재료', '화장품', '피부미용실', '미용원', '이용원'], '뷰티'), inplace=True)\n",
    "data.replace(dict.fromkeys(['구내매점', '단란주점', '주점', '서양음식', '일반한식', '일식회집', '중국음식',  '유흥주점', '칵테일바'], '외식/주점'), inplace=True)\n",
    "data.replace(dict.fromkeys(['세탁소', '애완동물', '화원', '침구수예점', '성인용품점', '가전제품', '기타가구', '조명기구', '민예공예품', '주방용식기', '기타전기제품', '소프트웨어', '주방용구', '카페트커텐천막', '컴퓨터', '카메라', '일반가구', '정수기', '철제가구', '시계', '안경', '사우나', '안마스포츠마사지', '사진관', '인테리어', 'CATV'], '생활/기타'), inplace=True)\n",
    "data.replace(dict.fromkeys(['완구점', '화방표구점', '문구용품', '일반서적', '출판인쇄물', '기타사무용', '사무기기', '전문서적', '정기간행물', '기타서적문구', '서적출판(회원제형태)'], '서점/문구'), inplace=True)\n",
    "data.replace(dict.fromkeys(['기타보험', '손해보험'], '금융'), inplace=True)\n",
    "data.replace(dict.fromkeys(['기념품점', '기타숙박업', '특급호텔', '2급호텔', '1급호텔', '콘도', '렌트카', '관광여행', '항공사', '여객선', '면세점'], '여행/숙박'), inplace=True)\n",
    "data.replace(dict.fromkeys(['레져용품수리', '스포츠레져용품', '골프용품', '노래방', '당구장', '골프경기장', '볼링장', '골프연습장', '헬스크럽', '레져업소(회원제형태)', '기타레져업', '종합레져타운', '수영장', '테니스장', '기타회원제형태업소', ], '레저/스포츠'), inplace=True)\n",
    "data.replace(dict.fromkeys(['유아원', '독서실', '보습학원', '기능학원', '기타교육', '외국어학원', '학원(회원제형태)', '예체능학원', '컴퓨터학원', '대학등록금', '학습지교육', '초중고교육기관'], '교육/육아'), inplace=True)\n",
    "data.replace(dict.fromkeys(['주유소', '자동차정비', 'LPG', '세차장', '유류판매', '이륜차판매', '윤활유전문판매', '자동차시트타이어', '중고자동차', '수입자동차', '자동차부품', '주차장', '기타자동차서비스', '카인테리어', ], '주유/자동차'), inplace=True)\n",
    "data.replace(dict.fromkeys(['약국', '종합병원', '기타의료기관및기기', '한약방', '제약회사', '의료용품', '건강진단', '한의원', '동물병원', '의원', '치과의원', '병원', '산후조리원', '치과병원'], '의료'), inplace=True)\n",
    "data.replace(dict.fromkeys(['목재석재철물', '건축요업품', '골동품점', '기계공구', '기타건축자재', '보일러펌프', '페인트', '냉열기기', '유리', '과학기자재', '기타광학품', '기타연료', '중장비수리', ], '건설/제조'), inplace=True)\n",
    "data.replace(dict.fromkeys(['기타농업관련', '비료농약사료종자', '농기계', '미곡상'], '농업'), inplace=True)\n",
    "data.replace(dict.fromkeys(['사무서비스', '기타대인서비스', '화물운송', '보관창고업', '종합용역', '조세서비스', '가례서비스', '공공요금', '위탁급식업', '기타용역서비스', '기타수리서비스', '기타운송', '가정용품수리', '견인서비스', '부동산중개임대', '부동산분양', '신변잡화수리', '사무통신기기수리', '법률회계서비스', '사무서비스(회원제형태)', '정보서비스', '기타업종', '기타비영리유통'], '서비스/기타'), inplace=True)"
   ]
  },
  {
   "cell_type": "code",
   "execution_count": 313,
   "metadata": {},
   "outputs": [
    {
     "data": {
      "text/plain": [
       "array(['레저/스포츠', '외식/주점', '쇼핑/패션', '뷰티', '마트/편의점(유통)', '생활/기타', '카페/베이커리',\n",
       "       '서비스/기타', '건설/제조', '주유/자동차', '교육/육아', '의료', '교통/통신', '여행/숙박',\n",
       "       '서점/문구', '영화/문화', '농업', '금융'], dtype=object)"
      ]
     },
     "execution_count": 313,
     "metadata": {},
     "output_type": "execute_result"
    }
   ],
   "source": [
    "data['Type'].unique()"
   ]
  },
  {
   "cell_type": "markdown",
   "metadata": {},
   "source": [
    "### c. 국내 재난지원금 지급 추이 데이터: 칼럼 타입 정리"
   ]
  },
  {
   "cell_type": "code",
   "execution_count": 314,
   "metadata": {},
   "outputs": [
    {
     "data": {
      "text/html": [
       "<div>\n",
       "<style scoped>\n",
       "    .dataframe tbody tr th:only-of-type {\n",
       "        vertical-align: middle;\n",
       "    }\n",
       "\n",
       "    .dataframe tbody tr th {\n",
       "        vertical-align: top;\n",
       "    }\n",
       "\n",
       "    .dataframe thead th {\n",
       "        text-align: right;\n",
       "    }\n",
       "</style>\n",
       "<table border=\"1\" class=\"dataframe\">\n",
       "  <thead>\n",
       "    <tr style=\"text-align: right;\">\n",
       "      <th></th>\n",
       "      <th>지역</th>\n",
       "      <th>소계</th>\n",
       "      <th>현금</th>\n",
       "      <th>신용체크카드</th>\n",
       "      <th>상품권</th>\n",
       "      <th>선불카드</th>\n",
       "      <th>금액</th>\n",
       "    </tr>\n",
       "  </thead>\n",
       "  <tbody>\n",
       "    <tr>\n",
       "      <th>0</th>\n",
       "      <td>서울</td>\n",
       "      <td>3,558,746</td>\n",
       "      <td>406,085</td>\n",
       "      <td>2,846,553</td>\n",
       "      <td>18,588</td>\n",
       "      <td>287,520</td>\n",
       "      <td>2,256,329</td>\n",
       "    </tr>\n",
       "    <tr>\n",
       "      <th>1</th>\n",
       "      <td>부산</td>\n",
       "      <td>1,224,116</td>\n",
       "      <td>239,161</td>\n",
       "      <td>833,351</td>\n",
       "      <td>4,420</td>\n",
       "      <td>147,184</td>\n",
       "      <td>783,091</td>\n",
       "    </tr>\n",
       "    <tr>\n",
       "      <th>2</th>\n",
       "      <td>대구</td>\n",
       "      <td>846,823</td>\n",
       "      <td>147,916</td>\n",
       "      <td>587,368</td>\n",
       "      <td>42,371</td>\n",
       "      <td>69,168</td>\n",
       "      <td>555,569</td>\n",
       "    </tr>\n",
       "    <tr>\n",
       "      <th>3</th>\n",
       "      <td>인천</td>\n",
       "      <td>1,085,203</td>\n",
       "      <td>144,178</td>\n",
       "      <td>760,323</td>\n",
       "      <td>180,702</td>\n",
       "      <td>0</td>\n",
       "      <td>716,754</td>\n",
       "    </tr>\n",
       "    <tr>\n",
       "      <th>4</th>\n",
       "      <td>광주</td>\n",
       "      <td>485,532</td>\n",
       "      <td>76,166</td>\n",
       "      <td>377,352</td>\n",
       "      <td>32,014</td>\n",
       "      <td>0</td>\n",
       "      <td>318,130</td>\n",
       "    </tr>\n",
       "  </tbody>\n",
       "</table>\n",
       "</div>"
      ],
      "text/plain": [
       "   지역         소계       현금     신용체크카드      상품권     선불카드         금액\n",
       "0  서울  3,558,746  406,085  2,846,553   18,588  287,520  2,256,329\n",
       "1  부산  1,224,116  239,161    833,351    4,420  147,184    783,091\n",
       "2  대구    846,823  147,916    587,368   42,371   69,168    555,569\n",
       "3  인천  1,085,203  144,178    760,323  180,702        0    716,754\n",
       "4  광주    485,532   76,166    377,352   32,014        0    318,130"
      ]
     },
     "execution_count": 314,
     "metadata": {},
     "output_type": "execute_result"
    }
   ],
   "source": [
    "fund = pd.read_csv(\"전국재난지원금현황.csv\")\n",
    "fund = fund.dropna()\n",
    "fund.head()"
   ]
  },
  {
   "cell_type": "code",
   "execution_count": 315,
   "metadata": {},
   "outputs": [
    {
     "data": {
      "text/html": [
       "<div>\n",
       "<style scoped>\n",
       "    .dataframe tbody tr th:only-of-type {\n",
       "        vertical-align: middle;\n",
       "    }\n",
       "\n",
       "    .dataframe tbody tr th {\n",
       "        vertical-align: top;\n",
       "    }\n",
       "\n",
       "    .dataframe thead th {\n",
       "        text-align: right;\n",
       "    }\n",
       "</style>\n",
       "<table border=\"1\" class=\"dataframe\">\n",
       "  <thead>\n",
       "    <tr style=\"text-align: right;\">\n",
       "      <th></th>\n",
       "      <th>지역</th>\n",
       "      <th>소계</th>\n",
       "      <th>현금</th>\n",
       "      <th>신용체크카드</th>\n",
       "      <th>상품권</th>\n",
       "      <th>선불카드</th>\n",
       "      <th>금액</th>\n",
       "    </tr>\n",
       "  </thead>\n",
       "  <tbody>\n",
       "    <tr>\n",
       "      <th>0</th>\n",
       "      <td>서울</td>\n",
       "      <td>3558746</td>\n",
       "      <td>406085</td>\n",
       "      <td>2846553</td>\n",
       "      <td>18588</td>\n",
       "      <td>287520</td>\n",
       "      <td>2256329</td>\n",
       "    </tr>\n",
       "    <tr>\n",
       "      <th>1</th>\n",
       "      <td>부산</td>\n",
       "      <td>1224116</td>\n",
       "      <td>239161</td>\n",
       "      <td>833351</td>\n",
       "      <td>4420</td>\n",
       "      <td>147184</td>\n",
       "      <td>783091</td>\n",
       "    </tr>\n",
       "    <tr>\n",
       "      <th>2</th>\n",
       "      <td>대구</td>\n",
       "      <td>846823</td>\n",
       "      <td>147916</td>\n",
       "      <td>587368</td>\n",
       "      <td>42371</td>\n",
       "      <td>69168</td>\n",
       "      <td>555569</td>\n",
       "    </tr>\n",
       "    <tr>\n",
       "      <th>3</th>\n",
       "      <td>인천</td>\n",
       "      <td>1085203</td>\n",
       "      <td>144178</td>\n",
       "      <td>760323</td>\n",
       "      <td>180702</td>\n",
       "      <td>0</td>\n",
       "      <td>716754</td>\n",
       "    </tr>\n",
       "    <tr>\n",
       "      <th>4</th>\n",
       "      <td>광주</td>\n",
       "      <td>485532</td>\n",
       "      <td>76166</td>\n",
       "      <td>377352</td>\n",
       "      <td>32014</td>\n",
       "      <td>0</td>\n",
       "      <td>318130</td>\n",
       "    </tr>\n",
       "  </tbody>\n",
       "</table>\n",
       "</div>"
      ],
      "text/plain": [
       "   지역       소계      현금   신용체크카드     상품권    선불카드       금액\n",
       "0  서울  3558746  406085  2846553   18588  287520  2256329\n",
       "1  부산  1224116  239161   833351    4420  147184   783091\n",
       "2  대구   846823  147916   587368   42371   69168   555569\n",
       "3  인천  1085203  144178   760323  180702       0   716754\n",
       "4  광주   485532   76166   377352   32014       0   318130"
      ]
     },
     "execution_count": 315,
     "metadata": {},
     "output_type": "execute_result"
    }
   ],
   "source": [
    "# comma 없애주고 int 로 타입 캐스팅\n",
    "fund['소계'] = fund['소계'].str.replace(',', '').astype(int)\n",
    "fund['현금'] = fund['현금'].str.replace(',', '').astype(int)\n",
    "fund['신용체크카드'] = fund['신용체크카드'].str.replace(',', '').astype(int)\n",
    "fund['상품권'] = fund['상품권'].str.replace(',', '').astype(int)\n",
    "fund['선불카드'] = fund['선불카드'].str.replace(',', '').astype(int)\n",
    "fund['금액'] = fund['금액'].str.replace(',', '').astype(int)\n",
    "fund.head()"
   ]
  },
  {
   "cell_type": "markdown",
   "metadata": {},
   "source": [
    "### d. 국내 재난지원금 지급 추이 데이터: 행정구역별 총 인구수 칼럼 추가"
   ]
  },
  {
   "cell_type": "code",
   "execution_count": 316,
   "metadata": {},
   "outputs": [
    {
     "data": {
      "text/plain": [
       "array(['서울', '부산', '대구', '인천', '광주', '대전', '울산', '세종', '경기', '강원', '충북',\n",
       "       '충남', '전북', '전남', '경북', '경남', '제주'], dtype=object)"
      ]
     },
     "execution_count": 316,
     "metadata": {},
     "output_type": "execute_result"
    }
   ],
   "source": [
    "fund['지역'].unique()"
   ]
  },
  {
   "cell_type": "code",
   "execution_count": 317,
   "metadata": {},
   "outputs": [],
   "source": [
    "# https://kosis.kr/statHtml/statHtml.do?orgId=101&tblId=DT_1B040A3\n",
    "population = [9668465, 3391946, 2418346, 2942828, 1450062, 1463882, 1136017, 355831, 13427014, 1542840, 1600837, 2121029, 1804104, 1851549, 2639422, 3340216, 674635]"
   ]
  },
  {
   "cell_type": "code",
   "execution_count": 318,
   "metadata": {},
   "outputs": [],
   "source": [
    "fund['인구'] = 0\n",
    "fund['인구'] = population"
   ]
  },
  {
   "cell_type": "code",
   "execution_count": 319,
   "metadata": {},
   "outputs": [
    {
     "name": "stdout",
     "output_type": "stream",
     "text": [
      "<class 'pandas.core.frame.DataFrame'>\n",
      "Int64Index: 17 entries, 0 to 16\n",
      "Data columns (total 8 columns):\n",
      " #   Column  Non-Null Count  Dtype \n",
      "---  ------  --------------  ----- \n",
      " 0   지역      17 non-null     object\n",
      " 1   소계      17 non-null     int64 \n",
      " 2   현금      17 non-null     int64 \n",
      " 3   신용체크카드  17 non-null     int64 \n",
      " 4   상품권     17 non-null     int64 \n",
      " 5   선불카드    17 non-null     int64 \n",
      " 6   금액      17 non-null     int64 \n",
      " 7   인구      17 non-null     int64 \n",
      "dtypes: int64(7), object(1)\n",
      "memory usage: 1.2+ KB\n"
     ]
    }
   ],
   "source": [
    "fund.info()"
   ]
  },
  {
   "cell_type": "markdown",
   "metadata": {},
   "source": [
    "## 1.  제주도 인구대비 재난지원금 지급 추이, 제주도 재난지원금 지급 형태"
   ]
  },
  {
   "cell_type": "code",
   "execution_count": 320,
   "metadata": {},
   "outputs": [],
   "source": [
    "fund['인구대비지급건수추이'] = 0\n",
    "fund['인구대비지급금액추이'] = 0"
   ]
  },
  {
   "cell_type": "code",
   "execution_count": 321,
   "metadata": {},
   "outputs": [],
   "source": [
    "count = []\n",
    "price = []\n",
    "for i, j in fund.iterrows(): \n",
    "    count.append(fund['소계'][i]/ fund['인구'][i])\n",
    "    price.append(fund['금액'][i] / fund['인구'][i])"
   ]
  },
  {
   "cell_type": "code",
   "execution_count": 322,
   "metadata": {},
   "outputs": [],
   "source": [
    "fund['인구대비지급건수추이'] = count\n",
    "fund['인구대비지급금액추이'] = price"
   ]
  },
  {
   "cell_type": "code",
   "execution_count": 323,
   "metadata": {},
   "outputs": [
    {
     "data": {
      "text/plain": [
       "[Text(0.5, 1.0, '국내 인구대비 재난지원금 지급 추이')]"
      ]
     },
     "execution_count": 323,
     "metadata": {},
     "output_type": "execute_result"
    },
    {
     "data": {
      "image/png": "[encoded data removed]",
      "text/plain": [
       "<Figure size 720x360 with 1 Axes>"
      ]
     },
     "metadata": {
      "needs_background": "light"
     },
     "output_type": "display_data"
    }
   ],
   "source": [
    "plt.figure(figsize = (10,5))\n",
    "sns.barplot(data = fund, x = \"지역\", y = '인구대비지급건수추이', palette = \"rainbow\", order=fund.sort_values('인구대비지급건수추이', ascending = False).지역).set(title = \"국내 인구대비 재난지원금 지급 추이\")"
   ]
  },
  {
   "cell_type": "code",
   "execution_count": 156,
   "metadata": {},
   "outputs": [
    {
     "data": {
      "text/plain": [
       "[Text(0.5, 1.0, '국내 인구대비 재난지원금 지급 추이')]"
      ]
     },
     "execution_count": 156,
     "metadata": {},
     "output_type": "execute_result"
    },
    {
     "data": {
      "image/png": "[encoded data removed]",
      "text/plain": [
       "<Figure size 720x360 with 1 Axes>"
      ]
     },
     "metadata": {
      "needs_background": "light"
     },
     "output_type": "display_data"
    }
   ],
   "source": [
    "plt.figure(figsize = (10,5))\n",
    "sns.barplot(data = fund, x = \"지역\", y = '인구대비지급금액추이', palette = \"rainbow\", order=fund.sort_values('인구대비지급금액추이', ascending = False).지역).set(title = \"국내 인구대비 재난지원금 지급 추이\")"
   ]
  },
  {
   "cell_type": "code",
   "execution_count": 325,
   "metadata": {},
   "outputs": [],
   "source": [
    "# 제주도 지급 방식 vs 국내 지급방식\n",
    "avg_cash = []\n",
    "avg_credit = []\n",
    "avg_gift = []\n",
    "avg_card = []\n",
    "for i, j in fund.iterrows(): \n",
    "    avg_cash.append(fund['현금'][i]/ fund['소계'][i])\n",
    "    avg_credit.append(fund['신용체크카드'][i]/ fund['소계'][i])\n",
    "    avg_gift.append(fund['상품권'][i]/ fund['소계'][i])\n",
    "    avg_card.append(fund['선불카드'][i]/ fund['소계'][i])"
   ]
  },
  {
   "cell_type": "code",
   "execution_count": 326,
   "metadata": {},
   "outputs": [],
   "source": [
    "fund['현금'] = avg_cash\n",
    "fund['신용체크카드'] = avg_credit\n",
    "fund['상품권'] = avg_gift\n",
    "fund['선불카드'] = avg_card\n",
    "fund['소계'] = 1"
   ]
  },
  {
   "cell_type": "code",
   "execution_count": 327,
   "metadata": {},
   "outputs": [],
   "source": [
    "# 전국 사용량 평균\n",
    "avg_all_cash = fund['현금'].mean()\n",
    "avg_all_credit = fund['신용체크카드'].mean()\n",
    "avg_all_gift = fund['상품권'].mean()\n",
    "avg_all_card = fund['선불카드'].mean()"
   ]
  },
  {
   "cell_type": "code",
   "execution_count": 328,
   "metadata": {},
   "outputs": [],
   "source": [
    "all_average = [avg_all_cash, avg_all_credit, avg_all_gift, avg_all_card]\n",
    "jeju_average = fund.loc[16]\n",
    "jeju_average = [jeju_average['현금'], jeju_average['신용체크카드'], jeju_average['상품권'], jeju_average['선불카드']]\n",
    "label = ['현금', '신용체크카드', '상품권', '선불카드']"
   ]
  },
  {
   "cell_type": "code",
   "execution_count": 329,
   "metadata": {},
   "outputs": [
    {
     "data": {
      "text/html": [
       "<div>\n",
       "<style scoped>\n",
       "    .dataframe tbody tr th:only-of-type {\n",
       "        vertical-align: middle;\n",
       "    }\n",
       "\n",
       "    .dataframe tbody tr th {\n",
       "        vertical-align: top;\n",
       "    }\n",
       "\n",
       "    .dataframe thead th {\n",
       "        text-align: right;\n",
       "    }\n",
       "</style>\n",
       "<table border=\"1\" class=\"dataframe\">\n",
       "  <thead>\n",
       "    <tr style=\"text-align: right;\">\n",
       "      <th></th>\n",
       "      <th>지급형식</th>\n",
       "      <th>전국재난지원금</th>\n",
       "      <th>제주재난지원금</th>\n",
       "    </tr>\n",
       "  </thead>\n",
       "  <tbody>\n",
       "    <tr>\n",
       "      <th>0</th>\n",
       "      <td>현금</td>\n",
       "      <td>0.170755</td>\n",
       "      <td>0.141606</td>\n",
       "    </tr>\n",
       "    <tr>\n",
       "      <th>1</th>\n",
       "      <td>신용체크카드</td>\n",
       "      <td>0.720656</td>\n",
       "      <td>0.771432</td>\n",
       "    </tr>\n",
       "    <tr>\n",
       "      <th>2</th>\n",
       "      <td>상품권</td>\n",
       "      <td>0.047979</td>\n",
       "      <td>0.000021</td>\n",
       "    </tr>\n",
       "    <tr>\n",
       "      <th>3</th>\n",
       "      <td>선불카드</td>\n",
       "      <td>0.060610</td>\n",
       "      <td>0.086941</td>\n",
       "    </tr>\n",
       "  </tbody>\n",
       "</table>\n",
       "</div>"
      ],
      "text/plain": [
       "     지급형식   전국재난지원금   제주재난지원금\n",
       "0      현금  0.170755  0.141606\n",
       "1  신용체크카드  0.720656  0.771432\n",
       "2     상품권  0.047979  0.000021\n",
       "3    선불카드  0.060610  0.086941"
      ]
     },
     "execution_count": 329,
     "metadata": {},
     "output_type": "execute_result"
    }
   ],
   "source": [
    "jeju_and_all = pd.DataFrame({'지급형식': label, '전국재난지원금' :all_average, '제주재난지원금':jeju_average})\n",
    "jeju_and_all"
   ]
  },
  {
   "cell_type": "code",
   "execution_count": 334,
   "metadata": {},
   "outputs": [
    {
     "data": {
      "image/png": "[encoded data removed]",
      "text/plain": [
       "<Figure size 1296x1440 with 2 Axes>"
      ]
     },
     "metadata": {},
     "output_type": "display_data"
    },
    {
     "data": {
      "text/plain": [
       "<Figure size 432x432 with 0 Axes>"
      ]
     },
     "metadata": {},
     "output_type": "display_data"
    },
    {
     "data": {
      "text/plain": [
       "<Figure size 432x432 with 0 Axes>"
      ]
     },
     "metadata": {},
     "output_type": "display_data"
    }
   ],
   "source": [
    "colors = ['silver', 'gold', 'whitesmoke', 'lightgray']\n",
    "\n",
    "fig,ax = plt.subplots(1,2,figsize=(18,20))\n",
    "\n",
    "plt.figure(figsize=(6,6))\n",
    "ax[0].pie(jeju_and_all['전국재난지원금'], labels=jeju_and_all['지급형식'],autopct='%.1f%%', colors=colors, textprops={'fontsize':18})\n",
    "ax[0].set_title('전국재난지원금 지급 방식', size=20)\n",
    "\n",
    "plt.figure(figsize=(6,6))\n",
    "ax[1].pie(jeju_and_all['제주재난지원금'], labels=jeju_and_all['지급형식'],autopct='%.1f%%', colors=colors, textprops={'fontsize':18})\n",
    "ax[1].set_title('제주재난지원금 지급 방식', size=20)\n",
    "plt.show()"
   ]
  },
  {
   "cell_type": "markdown",
   "metadata": {},
   "source": []
  },
  {
   "cell_type": "code",
   "execution_count": 211,
   "metadata": {},
   "outputs": [],
   "source": [
    "# 총 사용금액에서 재난지원금 사용 금액이 차지하는 비중"
   ]
  },
  {
   "cell_type": "code",
   "execution_count": 252,
   "metadata": {},
   "outputs": [],
   "source": [
    "total_spent = data.groupby('SIGUNGU')['TotalSpent'].sum().reset_index()\n",
    "fund_spent = data.groupby('SIGUNGU')['DisSpent'].sum().reset_index()"
   ]
  },
  {
   "cell_type": "code",
   "execution_count": 257,
   "metadata": {},
   "outputs": [],
   "source": [
    "total_dis_spend = total_spent.merge(fund_spent, on='SIGUNGU')"
   ]
  },
  {
   "cell_type": "code",
   "execution_count": 341,
   "metadata": {},
   "outputs": [
    {
     "data": {
      "text/html": [
       "<div>\n",
       "<style scoped>\n",
       "    .dataframe tbody tr th:only-of-type {\n",
       "        vertical-align: middle;\n",
       "    }\n",
       "\n",
       "    .dataframe tbody tr th {\n",
       "        vertical-align: top;\n",
       "    }\n",
       "\n",
       "    .dataframe thead th {\n",
       "        text-align: right;\n",
       "    }\n",
       "</style>\n",
       "<table border=\"1\" class=\"dataframe\">\n",
       "  <thead>\n",
       "    <tr style=\"text-align: right;\">\n",
       "      <th></th>\n",
       "      <th>SIGUNGU</th>\n",
       "      <th>TotalSpent</th>\n",
       "      <th>DisSpent</th>\n",
       "    </tr>\n",
       "  </thead>\n",
       "  <tbody>\n",
       "    <tr>\n",
       "      <th>0</th>\n",
       "      <td>서귀포시</td>\n",
       "      <td>67021519250</td>\n",
       "      <td>2319784675</td>\n",
       "    </tr>\n",
       "    <tr>\n",
       "      <th>1</th>\n",
       "      <td>제주시</td>\n",
       "      <td>177599340361</td>\n",
       "      <td>7362079613</td>\n",
       "    </tr>\n",
       "  </tbody>\n",
       "</table>\n",
       "</div>"
      ],
      "text/plain": [
       "  SIGUNGU    TotalSpent    DisSpent\n",
       "0    서귀포시   67021519250  2319784675\n",
       "1     제주시  177599340361  7362079613"
      ]
     },
     "execution_count": 341,
     "metadata": {},
     "output_type": "execute_result"
    }
   ],
   "source": [
    "total_dis_spend"
   ]
  },
  {
   "cell_type": "code",
   "execution_count": 343,
   "metadata": {},
   "outputs": [
    {
     "name": "stdout",
     "output_type": "stream",
     "text": [
      "[0.03461253491355316, 0.04145330493928275]\n"
     ]
    }
   ],
   "source": [
    "calc = []\n",
    "for i, j in total_dis_spend.iterrows(): \n",
    "    calc.append(total_dis_spend['DisSpent'][i]/ total_dis_spend['TotalSpent'][i])\n",
    "print(calc)"
   ]
  },
  {
   "cell_type": "code",
   "execution_count": 359,
   "metadata": {},
   "outputs": [
    {
     "data": {
      "image/png": "[encoded data removed]",
      "text/plain": [
       "<Figure size 720x1080 with 2 Axes>"
      ]
     },
     "metadata": {},
     "output_type": "display_data"
    }
   ],
   "source": [
    "# Pie chart\n",
    "labels = ['재난지원금', '전체소비']\n",
    "sizes = [3.4612, 96.539]\n",
    "sizes2 = [4.1453, 95.854]\n",
    "\n",
    "# only \"explode\" the 2nd slice (i.e. 'Hogs')\n",
    "explode = (0, 0.1)\n",
    "# add colors\n",
    "# colors = ['#ff9999','#66b3ff','#99ff99','#ffcc99']\n",
    "colors = ['gold','lightgray']\n",
    "fig1, ax1 = plt.subplots(1,2,figsize=(10,15))\n",
    "\n",
    "#fig1, ax1 = plt.subplots()\n",
    "ax1[0].pie(sizes, explode=explode, labels=labels, colors=colors, autopct='%1.1f%%',\n",
    "        shadow=True, startangle=90)\n",
    "ax1[0].set_title('서귀포시', size=20)\n",
    "\n",
    "ax1[1].pie(sizes2, explode=explode, labels=labels, colors=colors, autopct='%1.1f%%',\n",
    "        shadow=True, startangle=90)\n",
    "ax1[1].set_title('제주시', size=20)\n",
    "\n",
    "\n",
    "# Equal aspect ratio ensures that pie is drawn as a circle\n",
    "#ax1.axis('equal')\n",
    "\n",
    "plt.tight_layout()\n",
    "plt.show()"
   ]
  },
  {
   "cell_type": "markdown",
   "metadata": {},
   "source": []
  },
  {
   "cell_type": "markdown",
   "metadata": {},
   "source": [
    "## 2. 제주 내 권역별로 어떤 산업이 발전됐을까?"
   ]
  },
  {
   "cell_type": "markdown",
   "metadata": {},
   "source": [
    "읍면동별 산업 분포도 카운트"
   ]
  },
  {
   "cell_type": "code",
   "execution_count": 277,
   "metadata": {},
   "outputs": [
    {
     "data": {
      "text/plain": [
       "AREA  Type   \n",
       "A     건설/제조       482\n",
       "      교육/육아       526\n",
       "      교통/통신        63\n",
       "      농업          413\n",
       "      레저/스포츠     1229\n",
       "                 ... \n",
       "G     여행/숙박       147\n",
       "      외식/주점      1482\n",
       "      의료           34\n",
       "      주유/자동차      102\n",
       "      카페/베이커리     185\n",
       "Name: OBJECTID, Length: 117, dtype: int64"
      ]
     },
     "execution_count": 277,
     "metadata": {},
     "output_type": "execute_result"
    }
   ],
   "source": [
    "# 권역별 상권 분포\n",
    "grouped_type = data.groupby(['AREA', 'Type'])\n",
    "grouped_type_count = grouped_type.count()['OBJECTID']\n",
    "grouped_type_count"
   ]
  },
  {
   "cell_type": "code",
   "execution_count": 304,
   "metadata": {},
   "outputs": [
    {
     "data": {
      "text/plain": [
       "Type\n",
       "외식/주점         15327\n",
       "마트/편의점(유통)     6008\n",
       "카페/베이커리        2110\n",
       "여행/숙박          2009\n",
       "레저/스포츠         1229\n",
       "주유/자동차         1049\n",
       "의료              780\n",
       "생활/기타           763\n",
       "쇼핑/패션           669\n",
       "뷰티              585\n",
       "Name: OBJECTID, dtype: int64"
      ]
     },
     "execution_count": 304,
     "metadata": {},
     "output_type": "execute_result"
    }
   ],
   "source": [
    "# A: area_west_jeju: 한림, 애월\n",
    "A_top_count = grouped_type_count[\"A\"].sort_values(ascending=False)[0:10]\n",
    "A_top_count"
   ]
  },
  {
   "cell_type": "code",
   "execution_count": 336,
   "metadata": {},
   "outputs": [
    {
     "data": {
      "text/plain": [
       "Type\n",
       "외식/주점         76810\n",
       "마트/편의점(유통)    32372\n",
       "카페/베이커리       15070\n",
       "레저/스포츠        13050\n",
       "뷰티            11365\n",
       "의료            10292\n",
       "교육/육아          9938\n",
       "생활/기타          9450\n",
       "쇼핑/패션          8180\n",
       "주유/자동차         7206\n",
       "Name: OBJECTID, dtype: int64"
      ]
     },
     "execution_count": 336,
     "metadata": {},
     "output_type": "execute_result"
    }
   ],
   "source": [
    "# B: area_urban_jeju: 제주 시내\n",
    "B_top_count = grouped_type_count[\"B\"].sort_values(ascending=False)[0:10]\n",
    "B_top_count"
   ]
  },
  {
   "cell_type": "code",
   "execution_count": 383,
   "metadata": {},
   "outputs": [
    {
     "data": {
      "text/plain": [
       "Type\n",
       "외식/주점         11720\n",
       "마트/편의점(유통)     3186\n",
       "카페/베이커리        1484\n",
       "여행/숙박          1162\n",
       "주유/자동차          815\n",
       "레저/스포츠          741\n",
       "의료              598\n",
       "생활/기타           462\n",
       "쇼핑/패션           365\n",
       "교육/육아           289\n",
       "Name: OBJECTID, dtype: int64"
      ]
     },
     "execution_count": 383,
     "metadata": {},
     "output_type": "execute_result"
    }
   ],
   "source": [
    "# C: area_east_jeju: 조천, 구좌\n",
    "C_top_count = grouped_type_count[\"C\"].sort_values(ascending=False)[0:10]\n",
    "C_top_count"
   ]
  },
  {
   "cell_type": "code",
   "execution_count": 382,
   "metadata": {},
   "outputs": [
    {
     "data": {
      "text/plain": [
       "Type\n",
       "외식/주점         8246\n",
       "마트/편의점(유통)    3420\n",
       "카페/베이커리       1527\n",
       "레저/스포츠         930\n",
       "여행/숙박          676\n",
       "주유/자동차         636\n",
       "의료             524\n",
       "생활/기타          498\n",
       "뷰티             493\n",
       "교육/육아          407\n",
       "Name: OBJECTID, dtype: int64"
      ]
     },
     "execution_count": 382,
     "metadata": {},
     "output_type": "execute_result"
    }
   ],
   "source": [
    "# D: area_west_seoguipo: 대정, 안덕\n",
    "D_top_count = grouped_type_count[\"D\"].sort_values(ascending=False)[0:10]\n",
    "D_top_count"
   ]
  },
  {
   "cell_type": "code",
   "execution_count": 384,
   "metadata": {},
   "outputs": [
    {
     "data": {
      "text/html": [
       "<iframe src=\"about:blank\" width=\"500\" height=\"400\"style=\"border:none !important;\" data-html=%3C%21DOCTYPE%20html%3E%0A%3Chead%3E%20%20%20%20%0A%20%20%20%20%3Cmeta%20http-equiv%3D%22content-type%22%20content%3D%22text/html%3B%20charset%3DUTF-8%22%20/%3E%0A%20%20%20%20%0A%20%20%20%20%20%20%20%20%3Cscript%3E%0A%20%20%20%20%20%20%20%20%20%20%20%20L_NO_TOUCH%20%3D%20false%3B%0A%20%20%20%20%20%20%20%20%20%20%20%20L_DISABLE_3D%20%3D%20false%3B%0A%20%20%20%20%20%20%20%20%3C/script%3E%0A%20%20%20%20%0A%20%20%20%20%3Cstyle%3Ehtml%2C%20body%20%7Bwidth%3A%20100%25%3Bheight%3A%20100%25%3Bmargin%3A%200%3Bpadding%3A%200%3B%7D%3C/style%3E%0A%20%20%20%20%3Cstyle%3E%23map%20%7Bposition%3Aabsolute%3Btop%3A0%3Bbottom%3A0%3Bright%3A0%3Bleft%3A0%3B%7D%3C/style%3E%0A%20%20%20%20%3Cscript%20src%3D%22https%3A//cdn.jsdelivr.net/npm/leaflet%401.6.0/dist/leaflet.js%22%3E%3C/script%3E%0A%20%20%20%20%3Cscript%20src%3D%22https%3A//code.jquery.com/jquery-1.12.4.min.js%22%3E%3C/script%3E%0A%20%20%20%20%3Cscript%20src%3D%22https%3A//maxcdn.bootstrapcdn.com/bootstrap/3.2.0/js/bootstrap.min.js%22%3E%3C/script%3E%0A%20%20%20%20%3Cscript%20src%3D%22https%3A//cdnjs.cloudflare.com/ajax/libs/Leaflet.awesome-markers/2.0.2/leaflet.awesome-markers.js%22%3E%3C/script%3E%0A%20%20%20%20%3Clink%20rel%3D%22stylesheet%22%20href%3D%22https%3A//cdn.jsdelivr.net/npm/leaflet%401.6.0/dist/leaflet.css%22/%3E%0A%20%20%20%20%3Clink%20rel%3D%22stylesheet%22%20href%3D%22https%3A//maxcdn.bootstrapcdn.com/bootstrap/3.2.0/css/bootstrap.min.css%22/%3E%0A%20%20%20%20%3Clink%20rel%3D%22stylesheet%22%20href%3D%22https%3A//maxcdn.bootstrapcdn.com/bootstrap/3.2.0/css/bootstrap-theme.min.css%22/%3E%0A%20%20%20%20%3Clink%20rel%3D%22stylesheet%22%20href%3D%22https%3A//maxcdn.bootstrapcdn.com/font-awesome/4.6.3/css/font-awesome.min.css%22/%3E%0A%20%20%20%20%3Clink%20rel%3D%22stylesheet%22%20href%3D%22https%3A//cdnjs.cloudflare.com/ajax/libs/Leaflet.awesome-markers/2.0.2/leaflet.awesome-markers.css%22/%3E%0A%20%20%20%20%3Clink%20rel%3D%22stylesheet%22%20href%3D%22https%3A//cdn.jsdelivr.net/gh/python-visualization/folium/folium/templates/leaflet.awesome.rotate.min.css%22/%3E%0A%20%20%20%20%0A%20%20%20%20%20%20%20%20%20%20%20%20%3Cmeta%20name%3D%22viewport%22%20content%3D%22width%3Ddevice-width%2C%0A%20%20%20%20%20%20%20%20%20%20%20%20%20%20%20%20initial-scale%3D1.0%2C%20maximum-scale%3D1.0%2C%20user-scalable%3Dno%22%20/%3E%0A%20%20%20%20%20%20%20%20%20%20%20%20%3Cstyle%3E%0A%20%20%20%20%20%20%20%20%20%20%20%20%20%20%20%20%23map_75217a0b27fd470b855be41807fa3f06%20%7B%0A%20%20%20%20%20%20%20%20%20%20%20%20%20%20%20%20%20%20%20%20position%3A%20relative%3B%0A%20%20%20%20%20%20%20%20%20%20%20%20%20%20%20%20%20%20%20%20width%3A%20100.0%25%3B%0A%20%20%20%20%20%20%20%20%20%20%20%20%20%20%20%20%20%20%20%20height%3A%20100.0%25%3B%0A%20%20%20%20%20%20%20%20%20%20%20%20%20%20%20%20%20%20%20%20left%3A%200.0%25%3B%0A%20%20%20%20%20%20%20%20%20%20%20%20%20%20%20%20%20%20%20%20top%3A%200.0%25%3B%0A%20%20%20%20%20%20%20%20%20%20%20%20%20%20%20%20%7D%0A%20%20%20%20%20%20%20%20%20%20%20%20%3C/style%3E%0A%20%20%20%20%20%20%20%20%0A%3C/head%3E%0A%3Cbody%3E%20%20%20%20%0A%20%20%20%20%0A%20%20%20%20%20%20%20%20%20%20%20%20%3Cdiv%20class%3D%22folium-map%22%20id%3D%22map_75217a0b27fd470b855be41807fa3f06%22%20%3E%3C/div%3E%0A%20%20%20%20%20%20%20%20%0A%3C/body%3E%0A%3Cscript%3E%20%20%20%20%0A%20%20%20%20%0A%20%20%20%20%20%20%20%20%20%20%20%20var%20map_75217a0b27fd470b855be41807fa3f06%20%3D%20L.map%28%0A%20%20%20%20%20%20%20%20%20%20%20%20%20%20%20%20%22map_75217a0b27fd470b855be41807fa3f06%22%2C%0A%20%20%20%20%20%20%20%20%20%20%20%20%20%20%20%20%7B%0A%20%20%20%20%20%20%20%20%20%20%20%20%20%20%20%20%20%20%20%20center%3A%20%5B33.510481369447554%2C%20126.49145025928517%5D%2C%0A%20%20%20%20%20%20%20%20%20%20%20%20%20%20%20%20%20%20%20%20crs%3A%20L.CRS.EPSG3857%2C%0A%20%20%20%20%20%20%20%20%20%20%20%20%20%20%20%20%20%20%20%20zoom%3A%209%2C%0A%20%20%20%20%20%20%20%20%20%20%20%20%20%20%20%20%20%20%20%20zoomControl%3A%20true%2C%0A%20%20%20%20%20%20%20%20%20%20%20%20%20%20%20%20%20%20%20%20preferCanvas%3A%20false%2C%0A%20%20%20%20%20%20%20%20%20%20%20%20%20%20%20%20%7D%0A%20%20%20%20%20%20%20%20%20%20%20%20%29%3B%0A%0A%20%20%20%20%20%20%20%20%20%20%20%20%0A%0A%20%20%20%20%20%20%20%20%0A%20%20%20%20%0A%20%20%20%20%20%20%20%20%20%20%20%20var%20tile_layer_8505cda856024471bcf3c6d47b2d2daa%20%3D%20L.tileLayer%28%0A%20%20%20%20%20%20%20%20%20%20%20%20%20%20%20%20%22http%3A//api.vworld.kr/req/wmts/1.0.0/5AA2EC51-9D9A-35A1-ABD2-ED58B40D7745/Base/%7Bz%7D/%7By%7D/%7Bx%7D.png%22%2C%0A%20%20%20%20%20%20%20%20%20%20%20%20%20%20%20%20%7B%22attribution%22%3A%20%22%5Cuc81c%5Cuc8fc%5Cub3c4%22%2C%20%22detectRetina%22%3A%20false%2C%20%22maxNativeZoom%22%3A%2018%2C%20%22maxZoom%22%3A%2018%2C%20%22minZoom%22%3A%200%2C%20%22noWrap%22%3A%20false%2C%20%22opacity%22%3A%201%2C%20%22subdomains%22%3A%20%22abc%22%2C%20%22tms%22%3A%20false%7D%0A%20%20%20%20%20%20%20%20%20%20%20%20%29.addTo%28map_75217a0b27fd470b855be41807fa3f06%29%3B%0A%20%20%20%20%20%20%20%20%0A%3C/script%3E onload=\"this.contentDocument.open();this.contentDocument.write(    decodeURIComponent(this.getAttribute('data-html')));this.contentDocument.close();\" \"allowfullscreen\" \"webkitallowfullscreen\" \"mozallowfullscreen\"></iframe>"
      ],
      "text/plain": [
       "<folium.folium.Map at 0x7f850ec46850>"
      ]
     },
     "execution_count": 384,
     "metadata": {},
     "output_type": "execute_result"
    }
   ],
   "source": [
    "import json\n",
    "import folium\n",
    "# 제주공항 좌표(33.510481369447554, 126.49145025928517\n",
    "f = folium.Figure(width=500, height=400)\n",
    "\n",
    "m = folium.Map(location = [33.510481369447554, 126.49145025928517],\n",
    "               tiles = 'http://api.vworld.kr/req/wmts/1.0.0/5AA2EC51-9D9A-35A1-ABD2-ED58B40D7745/Base/{z}/{y}/{x}.png',\n",
    "               attr = '제주도',\n",
    "               zoom_start= 9)\n",
    "\n",
    "\n",
    "m.add_to(f)"
   ]
  },
  {
   "cell_type": "code",
   "execution_count": 376,
   "metadata": {},
   "outputs": [
    {
     "data": {
      "text/html": [
       "<iframe src=\"about:blank\" width=\"500\" height=\"400\"style=\"border:none !important;\" data-html=%3C%21DOCTYPE%20html%3E%0A%3Chead%3E%20%20%20%20%0A%20%20%20%20%3Cmeta%20http-equiv%3D%22content-type%22%20content%3D%22text/html%3B%20charset%3DUTF-8%22%20/%3E%0A%20%20%20%20%0A%20%20%20%20%20%20%20%20%3Cscript%3E%0A%20%20%20%20%20%20%20%20%20%20%20%20L_NO_TOUCH%20%3D%20false%3B%0A%20%20%20%20%20%20%20%20%20%20%20%20L_DISABLE_3D%20%3D%20false%3B%0A%20%20%20%20%20%20%20%20%3C/script%3E%0A%20%20%20%20%0A%20%20%20%20%3Cstyle%3Ehtml%2C%20body%20%7Bwidth%3A%20100%25%3Bheight%3A%20100%25%3Bmargin%3A%200%3Bpadding%3A%200%3B%7D%3C/style%3E%0A%20%20%20%20%3Cstyle%3E%23map%20%7Bposition%3Aabsolute%3Btop%3A0%3Bbottom%3A0%3Bright%3A0%3Bleft%3A0%3B%7D%3C/style%3E%0A%20%20%20%20%3Cscript%20src%3D%22https%3A//cdn.jsdelivr.net/npm/leaflet%401.6.0/dist/leaflet.js%22%3E%3C/script%3E%0A%20%20%20%20%3Cscript%20src%3D%22https%3A//code.jquery.com/jquery-1.12.4.min.js%22%3E%3C/script%3E%0A%20%20%20%20%3Cscript%20src%3D%22https%3A//maxcdn.bootstrapcdn.com/bootstrap/3.2.0/js/bootstrap.min.js%22%3E%3C/script%3E%0A%20%20%20%20%3Cscript%20src%3D%22https%3A//cdnjs.cloudflare.com/ajax/libs/Leaflet.awesome-markers/2.0.2/leaflet.awesome-markers.js%22%3E%3C/script%3E%0A%20%20%20%20%3Clink%20rel%3D%22stylesheet%22%20href%3D%22https%3A//cdn.jsdelivr.net/npm/leaflet%401.6.0/dist/leaflet.css%22/%3E%0A%20%20%20%20%3Clink%20rel%3D%22stylesheet%22%20href%3D%22https%3A//maxcdn.bootstrapcdn.com/bootstrap/3.2.0/css/bootstrap.min.css%22/%3E%0A%20%20%20%20%3Clink%20rel%3D%22stylesheet%22%20href%3D%22https%3A//maxcdn.bootstrapcdn.com/bootstrap/3.2.0/css/bootstrap-theme.min.css%22/%3E%0A%20%20%20%20%3Clink%20rel%3D%22stylesheet%22%20href%3D%22https%3A//maxcdn.bootstrapcdn.com/font-awesome/4.6.3/css/font-awesome.min.css%22/%3E%0A%20%20%20%20%3Clink%20rel%3D%22stylesheet%22%20href%3D%22https%3A//cdnjs.cloudflare.com/ajax/libs/Leaflet.awesome-markers/2.0.2/leaflet.awesome-markers.css%22/%3E%0A%20%20%20%20%3Clink%20rel%3D%22stylesheet%22%20href%3D%22https%3A//cdn.jsdelivr.net/gh/python-visualization/folium/folium/templates/leaflet.awesome.rotate.min.css%22/%3E%0A%20%20%20%20%0A%20%20%20%20%20%20%20%20%20%20%20%20%3Cmeta%20name%3D%22viewport%22%20content%3D%22width%3Ddevice-width%2C%0A%20%20%20%20%20%20%20%20%20%20%20%20%20%20%20%20initial-scale%3D1.0%2C%20maximum-scale%3D1.0%2C%20user-scalable%3Dno%22%20/%3E%0A%20%20%20%20%20%20%20%20%20%20%20%20%3Cstyle%3E%0A%20%20%20%20%20%20%20%20%20%20%20%20%20%20%20%20%23map_2b36973ad9804f5db4f2e70ee1c1d723%20%7B%0A%20%20%20%20%20%20%20%20%20%20%20%20%20%20%20%20%20%20%20%20position%3A%20relative%3B%0A%20%20%20%20%20%20%20%20%20%20%20%20%20%20%20%20%20%20%20%20width%3A%20100.0%25%3B%0A%20%20%20%20%20%20%20%20%20%20%20%20%20%20%20%20%20%20%20%20height%3A%20100.0%25%3B%0A%20%20%20%20%20%20%20%20%20%20%20%20%20%20%20%20%20%20%20%20left%3A%200.0%25%3B%0A%20%20%20%20%20%20%20%20%20%20%20%20%20%20%20%20%20%20%20%20top%3A%200.0%25%3B%0A%20%20%20%20%20%20%20%20%20%20%20%20%20%20%20%20%7D%0A%20%20%20%20%20%20%20%20%20%20%20%20%3C/style%3E%0A%20%20%20%20%20%20%20%20%0A%3C/head%3E%0A%3Cbody%3E%20%20%20%20%0A%20%20%20%20%0A%20%20%20%20%20%20%20%20%20%20%20%20%3Cdiv%20class%3D%22folium-map%22%20id%3D%22map_2b36973ad9804f5db4f2e70ee1c1d723%22%20%3E%3C/div%3E%0A%20%20%20%20%20%20%20%20%0A%3C/body%3E%0A%3Cscript%3E%20%20%20%20%0A%20%20%20%20%0A%20%20%20%20%20%20%20%20%20%20%20%20var%20map_2b36973ad9804f5db4f2e70ee1c1d723%20%3D%20L.map%28%0A%20%20%20%20%20%20%20%20%20%20%20%20%20%20%20%20%22map_2b36973ad9804f5db4f2e70ee1c1d723%22%2C%0A%20%20%20%20%20%20%20%20%20%20%20%20%20%20%20%20%7B%0A%20%20%20%20%20%20%20%20%20%20%20%20%20%20%20%20%20%20%20%20center%3A%20%5B33.510481369447554%2C%20126.49145025928517%5D%2C%0A%20%20%20%20%20%20%20%20%20%20%20%20%20%20%20%20%20%20%20%20crs%3A%20L.CRS.EPSG3857%2C%0A%20%20%20%20%20%20%20%20%20%20%20%20%20%20%20%20%20%20%20%20zoom%3A%209%2C%0A%20%20%20%20%20%20%20%20%20%20%20%20%20%20%20%20%20%20%20%20zoomControl%3A%20true%2C%0A%20%20%20%20%20%20%20%20%20%20%20%20%20%20%20%20%20%20%20%20preferCanvas%3A%20false%2C%0A%20%20%20%20%20%20%20%20%20%20%20%20%20%20%20%20%7D%0A%20%20%20%20%20%20%20%20%20%20%20%20%29%3B%0A%0A%20%20%20%20%20%20%20%20%20%20%20%20%0A%0A%20%20%20%20%20%20%20%20%0A%20%20%20%20%0A%20%20%20%20%20%20%20%20%20%20%20%20var%20tile_layer_9ad3f3721ddd4cafbab4145c9720990e%20%3D%20L.tileLayer%28%0A%20%20%20%20%20%20%20%20%20%20%20%20%20%20%20%20%22http%3A//api.vworld.kr/req/wmts/1.0.0/5AA2EC51-9D9A-35A1-ABD2-ED58B40D7745/Base/%7Bz%7D/%7By%7D/%7Bx%7D.png%22%2C%0A%20%20%20%20%20%20%20%20%20%20%20%20%20%20%20%20%7B%22attribution%22%3A%20%22%5Cuc81c%5Cuc8fc%5Cub3c4%22%2C%20%22detectRetina%22%3A%20false%2C%20%22maxNativeZoom%22%3A%2018%2C%20%22maxZoom%22%3A%2018%2C%20%22minZoom%22%3A%200%2C%20%22noWrap%22%3A%20false%2C%20%22opacity%22%3A%201%2C%20%22subdomains%22%3A%20%22abc%22%2C%20%22tms%22%3A%20false%7D%0A%20%20%20%20%20%20%20%20%20%20%20%20%29.addTo%28map_2b36973ad9804f5db4f2e70ee1c1d723%29%3B%0A%20%20%20%20%20%20%20%20%0A%20%20%20%20%0A%20%20%20%20%20%20%20%20%20%20%20%20var%20circle_dcc0d16dc732473ba8d6137e0061bfac%20%3D%20L.circle%28%0A%20%20%20%20%20%20%20%20%20%20%20%20%20%20%20%20%5B126.49145025928517%2C%2033.510481369447554%5D%2C%0A%20%20%20%20%20%20%20%20%20%20%20%20%20%20%20%20%7B%22bubblingMouseEvents%22%3A%20true%2C%20%22color%22%3A%20%22red%22%2C%20%22dashArray%22%3A%20null%2C%20%22dashOffset%22%3A%20null%2C%20%22fill%22%3A%20true%2C%20%22fillColor%22%3A%20%22red%22%2C%20%22fillOpacity%22%3A%200.2%2C%20%22fillRule%22%3A%20%22evenodd%22%2C%20%22lineCap%22%3A%20%22round%22%2C%20%22lineJoin%22%3A%20%22round%22%2C%20%22opacity%22%3A%201.0%2C%20%22radius%22%3A%201000000.0%2C%20%22stroke%22%3A%20true%2C%20%22weight%22%3A%203%7D%0A%20%20%20%20%20%20%20%20%20%20%20%20%29.addTo%28map_2b36973ad9804f5db4f2e70ee1c1d723%29%3B%0A%20%20%20%20%20%20%20%20%0A%20%20%20%20%0A%20%20%20%20%20%20%20%20var%20popup_04d92c46dbd04202b73ba33e93a46ef6%20%3D%20L.popup%28%7B%22maxWidth%22%3A%20%22100%25%22%7D%29%3B%0A%0A%20%20%20%20%20%20%20%20%0A%20%20%20%20%20%20%20%20%20%20%20%20var%20html_5808ee40062846859020a5026c4c201e%20%3D%20%24%28%60%3Cdiv%20id%3D%22html_5808ee40062846859020a5026c4c201e%22%20style%3D%22width%3A%20100.0%25%3B%20height%3A%20100.0%25%3B%22%3Ehaha%3C/div%3E%60%29%5B0%5D%3B%0A%20%20%20%20%20%20%20%20%20%20%20%20popup_04d92c46dbd04202b73ba33e93a46ef6.setContent%28html_5808ee40062846859020a5026c4c201e%29%3B%0A%20%20%20%20%20%20%20%20%0A%0A%20%20%20%20%20%20%20%20circle_dcc0d16dc732473ba8d6137e0061bfac.bindPopup%28popup_04d92c46dbd04202b73ba33e93a46ef6%29%0A%20%20%20%20%20%20%20%20%3B%0A%0A%20%20%20%20%20%20%20%20%0A%20%20%20%20%0A%20%20%20%20%0A%20%20%20%20%20%20%20%20%20%20%20%20var%20circle_fcfa24459df74fc6a1800f189da9640b%20%3D%20L.circle%28%0A%20%20%20%20%20%20%20%20%20%20%20%20%20%20%20%20%5B126.41%2C%2033.41%5D%2C%0A%20%20%20%20%20%20%20%20%20%20%20%20%20%20%20%20%7B%22bubblingMouseEvents%22%3A%20true%2C%20%22color%22%3A%20%22red%22%2C%20%22dashArray%22%3A%20null%2C%20%22dashOffset%22%3A%20null%2C%20%22fill%22%3A%20true%2C%20%22fillColor%22%3A%20%22red%22%2C%20%22fillOpacity%22%3A%200.2%2C%20%22fillRule%22%3A%20%22evenodd%22%2C%20%22lineCap%22%3A%20%22round%22%2C%20%22lineJoin%22%3A%20%22round%22%2C%20%22opacity%22%3A%201.0%2C%20%22radius%22%3A%20100000.0%2C%20%22stroke%22%3A%20true%2C%20%22weight%22%3A%203%7D%0A%20%20%20%20%20%20%20%20%20%20%20%20%29.addTo%28map_2b36973ad9804f5db4f2e70ee1c1d723%29%3B%0A%20%20%20%20%20%20%20%20%0A%20%20%20%20%0A%20%20%20%20%20%20%20%20var%20popup_77b947a82b1e4ee3b658ca8c7b8e3940%20%3D%20L.popup%28%7B%22maxWidth%22%3A%20%22100%25%22%7D%29%3B%0A%0A%20%20%20%20%20%20%20%20%0A%20%20%20%20%20%20%20%20%20%20%20%20var%20html_3f9283c8cb2243528b556ebb81b49819%20%3D%20%24%28%60%3Cdiv%20id%3D%22html_3f9283c8cb2243528b556ebb81b49819%22%20style%3D%22width%3A%20100.0%25%3B%20height%3A%20100.0%25%3B%22%3Ef%3C/div%3E%60%29%5B0%5D%3B%0A%20%20%20%20%20%20%20%20%20%20%20%20popup_77b947a82b1e4ee3b658ca8c7b8e3940.setContent%28html_3f9283c8cb2243528b556ebb81b49819%29%3B%0A%20%20%20%20%20%20%20%20%0A%0A%20%20%20%20%20%20%20%20circle_fcfa24459df74fc6a1800f189da9640b.bindPopup%28popup_77b947a82b1e4ee3b658ca8c7b8e3940%29%0A%20%20%20%20%20%20%20%20%3B%0A%0A%20%20%20%20%20%20%20%20%0A%20%20%20%20%0A%3C/script%3E onload=\"this.contentDocument.open();this.contentDocument.write(    decodeURIComponent(this.getAttribute('data-html')));this.contentDocument.close();\" \"allowfullscreen\" \"webkitallowfullscreen\" \"mozallowfullscreen\"></iframe>"
      ],
      "text/plain": [
       "<branca.element.Figure at 0x7f851217b3a0>"
      ]
     },
     "execution_count": 376,
     "metadata": {},
     "output_type": "execute_result"
    }
   ],
   "source": [
    "data = pd.DataFrame({\n",
    "   'lat':[33.510481369447554, 33.41],\n",
    "   'lon':[126.49145025928517, 126.41],\n",
    "   'name':['haha','f'],\n",
    "   'value':[100.0, 10.0]\n",
    "})\n",
    "data\n",
    " \n",
    "f = folium.Figure(width=500, height=400)\n",
    "\n",
    "# Make an empty map\n",
    "m = folium.Map(location = [33.510481369447554, 126.49145025928517],\n",
    "               tiles = 'http://api.vworld.kr/req/wmts/1.0.0/5AA2EC51-9D9A-35A1-ABD2-ED58B40D7745/Base/{z}/{y}/{x}.png',\n",
    "               attr = '제주도',\n",
    "               zoom_start= 9)\n",
    " \n",
    "# I can add marker one by one on the map\n",
    "for i in range(0,len(data)):\n",
    "    folium.Circle(\n",
    "      location=[data.iloc[i]['lon'], data.iloc[i]['lat']],\n",
    "      popup=data.iloc[i]['name'],\n",
    "      radius=data.iloc[i]['value']*10000,\n",
    "      color='red',\n",
    "      fill=True,\n",
    "      fill_color='red'\n",
    "\n",
    "    ).add_to(m)\n",
    "m.add_to(f)\n",
    "f"
   ]
  },
  {
   "cell_type": "code",
   "execution_count": 378,
   "metadata": {},
   "outputs": [
    {
     "data": {
      "text/html": [
       "<div>\n",
       "<style scoped>\n",
       "    .dataframe tbody tr th:only-of-type {\n",
       "        vertical-align: middle;\n",
       "    }\n",
       "\n",
       "    .dataframe tbody tr th {\n",
       "        vertical-align: top;\n",
       "    }\n",
       "\n",
       "    .dataframe thead th {\n",
       "        text-align: right;\n",
       "    }\n",
       "</style>\n",
       "<table border=\"1\" class=\"dataframe\">\n",
       "  <thead>\n",
       "    <tr style=\"text-align: right;\">\n",
       "      <th></th>\n",
       "      <th>lat</th>\n",
       "      <th>lon</th>\n",
       "      <th>name</th>\n",
       "      <th>value</th>\n",
       "    </tr>\n",
       "  </thead>\n",
       "  <tbody>\n",
       "    <tr>\n",
       "      <th>0</th>\n",
       "      <td>33.510481</td>\n",
       "      <td>126.49145</td>\n",
       "      <td>haha</td>\n",
       "      <td>100.0</td>\n",
       "    </tr>\n",
       "    <tr>\n",
       "      <th>1</th>\n",
       "      <td>33.410000</td>\n",
       "      <td>126.41000</td>\n",
       "      <td>f</td>\n",
       "      <td>10.0</td>\n",
       "    </tr>\n",
       "  </tbody>\n",
       "</table>\n",
       "</div>"
      ],
      "text/plain": [
       "         lat        lon  name  value\n",
       "0  33.510481  126.49145  haha  100.0\n",
       "1  33.410000  126.41000     f   10.0"
      ]
     },
     "execution_count": 378,
     "metadata": {},
     "output_type": "execute_result"
    }
   ],
   "source": [
    "data"
   ]
  },
  {
   "cell_type": "code",
   "execution_count": 381,
   "metadata": {
    "collapsed": true,
    "jupyter": {
     "outputs_hidden": true
    }
   },
   "outputs": [
    {
     "ename": "ValueError",
     "evalue": "The truth value of a Series is ambiguous. Use a.empty, a.bool(), a.item(), a.any() or a.all().",
     "output_type": "error",
     "traceback": [
      "\u001b[0;31m---------------------------------------------------------------------------\u001b[0m",
      "\u001b[0;31mValueError\u001b[0m                                Traceback (most recent call last)",
      "\u001b[0;32m<ipython-input-381-d75b585fe129>\u001b[0m in \u001b[0;36m<module>\u001b[0;34m\u001b[0m\n\u001b[1;32m      4\u001b[0m )\n\u001b[1;32m      5\u001b[0m \u001b[0;32mfor\u001b[0m \u001b[0mi\u001b[0m \u001b[0;32min\u001b[0m \u001b[0mdata\u001b[0m\u001b[0;34m.\u001b[0m\u001b[0mindex\u001b[0m\u001b[0;34m:\u001b[0m\u001b[0;34m\u001b[0m\u001b[0;34m\u001b[0m\u001b[0m\n\u001b[0;32m----> 6\u001b[0;31m     folium.Circle(\n\u001b[0m\u001b[1;32m      7\u001b[0m         \u001b[0mlocation\u001b[0m \u001b[0;34m=\u001b[0m \u001b[0mdata\u001b[0m\u001b[0;34m.\u001b[0m\u001b[0mloc\u001b[0m\u001b[0;34m[\u001b[0m\u001b[0mi\u001b[0m\u001b[0;34m,\u001b[0m \u001b[0;34m[\u001b[0m\u001b[0;34m'lat'\u001b[0m\u001b[0;34m,\u001b[0m \u001b[0;34m'lon'\u001b[0m\u001b[0;34m]\u001b[0m\u001b[0;34m]\u001b[0m\u001b[0;34m,\u001b[0m\u001b[0;34m\u001b[0m\u001b[0;34m\u001b[0m\u001b[0m\n\u001b[1;32m      8\u001b[0m         \u001b[0mradius\u001b[0m \u001b[0;34m=\u001b[0m \u001b[0;36m200\u001b[0m\u001b[0;34m,\u001b[0m\u001b[0;34m\u001b[0m\u001b[0;34m\u001b[0m\u001b[0m\n",
      "\u001b[0;32m~/opt/anaconda3/lib/python3.8/site-packages/folium/vector_layers.py\u001b[0m in \u001b[0;36m__init__\u001b[0;34m(self, location, radius, popup, tooltip, **kwargs)\u001b[0m\n\u001b[1;32m    265\u001b[0m \u001b[0;34m\u001b[0m\u001b[0m\n\u001b[1;32m    266\u001b[0m     \u001b[0;32mdef\u001b[0m \u001b[0m__init__\u001b[0m\u001b[0;34m(\u001b[0m\u001b[0mself\u001b[0m\u001b[0;34m,\u001b[0m \u001b[0mlocation\u001b[0m\u001b[0;34m=\u001b[0m\u001b[0;32mNone\u001b[0m\u001b[0;34m,\u001b[0m \u001b[0mradius\u001b[0m\u001b[0;34m=\u001b[0m\u001b[0;36m50\u001b[0m\u001b[0;34m,\u001b[0m \u001b[0mpopup\u001b[0m\u001b[0;34m=\u001b[0m\u001b[0;32mNone\u001b[0m\u001b[0;34m,\u001b[0m \u001b[0mtooltip\u001b[0m\u001b[0;34m=\u001b[0m\u001b[0;32mNone\u001b[0m\u001b[0;34m,\u001b[0m \u001b[0;34m**\u001b[0m\u001b[0mkwargs\u001b[0m\u001b[0;34m)\u001b[0m\u001b[0;34m:\u001b[0m\u001b[0;34m\u001b[0m\u001b[0;34m\u001b[0m\u001b[0m\n\u001b[0;32m--> 267\u001b[0;31m         \u001b[0msuper\u001b[0m\u001b[0;34m(\u001b[0m\u001b[0mCircle\u001b[0m\u001b[0;34m,\u001b[0m \u001b[0mself\u001b[0m\u001b[0;34m)\u001b[0m\u001b[0;34m.\u001b[0m\u001b[0m__init__\u001b[0m\u001b[0;34m(\u001b[0m\u001b[0mlocation\u001b[0m\u001b[0;34m,\u001b[0m \u001b[0mpopup\u001b[0m\u001b[0;34m=\u001b[0m\u001b[0mpopup\u001b[0m\u001b[0;34m,\u001b[0m \u001b[0mtooltip\u001b[0m\u001b[0;34m=\u001b[0m\u001b[0mtooltip\u001b[0m\u001b[0;34m)\u001b[0m\u001b[0;34m\u001b[0m\u001b[0;34m\u001b[0m\u001b[0m\n\u001b[0m\u001b[1;32m    268\u001b[0m         \u001b[0mself\u001b[0m\u001b[0;34m.\u001b[0m\u001b[0m_name\u001b[0m \u001b[0;34m=\u001b[0m \u001b[0;34m'circle'\u001b[0m\u001b[0;34m\u001b[0m\u001b[0;34m\u001b[0m\u001b[0m\n\u001b[1;32m    269\u001b[0m         \u001b[0mself\u001b[0m\u001b[0;34m.\u001b[0m\u001b[0moptions\u001b[0m \u001b[0;34m=\u001b[0m \u001b[0mpath_options\u001b[0m\u001b[0;34m(\u001b[0m\u001b[0mline\u001b[0m\u001b[0;34m=\u001b[0m\u001b[0;32mFalse\u001b[0m\u001b[0;34m,\u001b[0m \u001b[0mradius\u001b[0m\u001b[0;34m=\u001b[0m\u001b[0mradius\u001b[0m\u001b[0;34m,\u001b[0m \u001b[0;34m**\u001b[0m\u001b[0mkwargs\u001b[0m\u001b[0;34m)\u001b[0m\u001b[0;34m\u001b[0m\u001b[0;34m\u001b[0m\u001b[0m\n",
      "\u001b[0;32m~/opt/anaconda3/lib/python3.8/site-packages/folium/map.py\u001b[0m in \u001b[0;36m__init__\u001b[0;34m(self, location, popup, tooltip, icon, draggable, **kwargs)\u001b[0m\n\u001b[1;32m    275\u001b[0m         \u001b[0msuper\u001b[0m\u001b[0;34m(\u001b[0m\u001b[0mMarker\u001b[0m\u001b[0;34m,\u001b[0m \u001b[0mself\u001b[0m\u001b[0;34m)\u001b[0m\u001b[0;34m.\u001b[0m\u001b[0m__init__\u001b[0m\u001b[0;34m(\u001b[0m\u001b[0;34m)\u001b[0m\u001b[0;34m\u001b[0m\u001b[0;34m\u001b[0m\u001b[0m\n\u001b[1;32m    276\u001b[0m         \u001b[0mself\u001b[0m\u001b[0;34m.\u001b[0m\u001b[0m_name\u001b[0m \u001b[0;34m=\u001b[0m \u001b[0;34m'Marker'\u001b[0m\u001b[0;34m\u001b[0m\u001b[0;34m\u001b[0m\u001b[0m\n\u001b[0;32m--> 277\u001b[0;31m         \u001b[0mself\u001b[0m\u001b[0;34m.\u001b[0m\u001b[0mlocation\u001b[0m \u001b[0;34m=\u001b[0m \u001b[0mvalidate_location\u001b[0m\u001b[0;34m(\u001b[0m\u001b[0mlocation\u001b[0m\u001b[0;34m)\u001b[0m \u001b[0;32mif\u001b[0m \u001b[0mlocation\u001b[0m \u001b[0;32melse\u001b[0m \u001b[0;32mNone\u001b[0m\u001b[0;34m\u001b[0m\u001b[0;34m\u001b[0m\u001b[0m\n\u001b[0m\u001b[1;32m    278\u001b[0m         self.options = parse_options(\n\u001b[1;32m    279\u001b[0m             \u001b[0mdraggable\u001b[0m\u001b[0;34m=\u001b[0m\u001b[0mdraggable\u001b[0m \u001b[0;32mor\u001b[0m \u001b[0;32mNone\u001b[0m\u001b[0;34m,\u001b[0m\u001b[0;34m\u001b[0m\u001b[0;34m\u001b[0m\u001b[0m\n",
      "\u001b[0;32m~/opt/anaconda3/lib/python3.8/site-packages/pandas/core/generic.py\u001b[0m in \u001b[0;36m__nonzero__\u001b[0;34m(self)\u001b[0m\n\u001b[1;32m   1327\u001b[0m \u001b[0;34m\u001b[0m\u001b[0m\n\u001b[1;32m   1328\u001b[0m     \u001b[0;32mdef\u001b[0m \u001b[0m__nonzero__\u001b[0m\u001b[0;34m(\u001b[0m\u001b[0mself\u001b[0m\u001b[0;34m)\u001b[0m\u001b[0;34m:\u001b[0m\u001b[0;34m\u001b[0m\u001b[0;34m\u001b[0m\u001b[0m\n\u001b[0;32m-> 1329\u001b[0;31m         raise ValueError(\n\u001b[0m\u001b[1;32m   1330\u001b[0m             \u001b[0;34mf\"The truth value of a {type(self).__name__} is ambiguous. \"\u001b[0m\u001b[0;34m\u001b[0m\u001b[0;34m\u001b[0m\u001b[0m\n\u001b[1;32m   1331\u001b[0m             \u001b[0;34m\"Use a.empty, a.bool(), a.item(), a.any() or a.all().\"\u001b[0m\u001b[0;34m\u001b[0m\u001b[0;34m\u001b[0m\u001b[0m\n",
      "\u001b[0;31mValueError\u001b[0m: The truth value of a Series is ambiguous. Use a.empty, a.bool(), a.item(), a.any() or a.all()."
     ]
    }
   ],
   "source": [
    "m = folium.Map(\n",
    "    location=[33.41, 126.552],\n",
    "    zoom_start=10\n",
    ")\n",
    "for i in data.index:\n",
    "    folium.Circle(\n",
    "        location = data.loc[i, ['lat', 'lon']],\n",
    "        radius = 200,\n",
    "        color='red'\n",
    "    ).add_to(m)\n",
    "    \n",
    "    \n",
    "# for i in df2.index:\n",
    "#     folium.Circle(\n",
    "#         location = df2.loc[i, ['lat', 'lng']],\n",
    "#         radius = 200,\n",
    "#         color='blue'\n",
    "#     ).add_to(m)\n",
    "# for i in df3.index:\n",
    "#     folium.Circle(\n",
    "#         location = df3.loc[i, ['lat', 'lng']],\n",
    "#         radius = 200,\n",
    "#         color='green'\n",
    "#     ).add_to(m)\n",
    "# for i in df4.index:\n",
    "#     folium.Circle(\n",
    "#         location = df4.loc[i, ['lat', 'lng']],\n",
    "#         radius = 200,\n",
    "#         color='yellow'\n",
    "#     ).add_to(m)\n",
    "m"
   ]
  },
  {
   "cell_type": "markdown",
   "metadata": {},
   "source": [
    "- 제주도의 관광지에 많은 업종들이 몰려있음에 따라 자연스럽게 그 지역의 재난지원금 소비량이 제일 높음 (jeju_west, jeju_urban seogwipo_urban)\n",
    "- 영웅님, 하람님이 분석하신 \"국내 다른 지역과는 다른 제주도만의 특성\"을 녹여넣으면 좋을 것 같음\n",
    "- 신형님이 분석하신 \"재난지원금이 소상공인들에게 적합하게 쓰였는가?\" 에 대한 결론까지"
   ]
  },
  {
   "cell_type": "code",
   "execution_count": null,
   "metadata": {},
   "outputs": [],
   "source": []
  }
 ],
 "metadata": {
  "kernelspec": {
   "display_name": "Python 3",
   "language": "python",
   "name": "python3"
  },
  "language_info": {
   "codemirror_mode": {
    "name": "ipython",
    "version": 3
   },
   "file_extension": ".py",
   "mimetype": "text/x-python",
   "name": "python",
   "nbconvert_exporter": "python",
   "pygments_lexer": "ipython3",
   "version": "3.8.5"
  }
 },
 "nbformat": 4,
 "nbformat_minor": 4
}
