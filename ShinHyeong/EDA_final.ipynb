{
 "cells": [
  {
   "cell_type": "markdown",
   "metadata": {},
   "source": [
    "## 제주도의 재난지원금은 목적에 부합하게 이용되었는가?\n",
    "(1) 재난지원금으로 인해 경제가 활성화되었는가? (소비가 창출되었는가?)\n",
    "\n",
    "(2) 영세상인(소상공인)에게 재난지원금이 충분히 쓰였는가?"
   ]
  },
  {
   "cell_type": "markdown",
   "metadata": {},
   "source": [
    " "
   ]
  },
  {
   "cell_type": "markdown",
   "metadata": {},
   "source": [
    "- 데이터 전처리"
   ]
  },
  {
   "cell_type": "code",
   "execution_count": 1,
   "metadata": {},
   "outputs": [],
   "source": [
    "import pandas as pd\n",
    "import numpy as np\n",
    "import matplotlib.pyplot as plt\n",
    "import seaborn as sns\n",
    "import matplotlib.font_manager as fm\n",
    "import matplotlib\n",
    "\n",
    "plt.rcParams['font.family'] = 'Malgun Gothic'\n",
    "pal = 'mako'\n",
    "pal2 = 'viridis'\n"
   ]
  },
  {
   "cell_type": "code",
   "execution_count": 2,
   "metadata": {},
   "outputs": [],
   "source": [
    "font_name = fm.FontProperties(fname='C:/Windows/Fonts/malgunsl.ttf').get_name()\n",
    "font_name\n",
    "\n",
    "matplotlib.rc('font',family=font_name)"
   ]
  },
  {
   "cell_type": "code",
   "execution_count": 3,
   "metadata": {},
   "outputs": [],
   "source": [
    "# 데이터 불러오기\n",
    "\n",
    "df5 = pd.read_csv('./data/KRI-DAC_Jeju_data5.txt',sep=',',header=0)\n",
    "df6 = pd.read_csv('./data/KRI-DAC_Jeju_data6.txt',sep=',',header=0)\n",
    "df7 = pd.read_csv('./data/KRI-DAC_Jeju_data7.txt',sep=',',header=0)\n",
    "df8 = pd.read_csv('./data/KRI-DAC_Jeju_data8.txt',sep=',',header=0)"
   ]
  },
  {
   "cell_type": "code",
   "execution_count": 4,
   "metadata": {},
   "outputs": [],
   "source": [
    "df7.drop(['X','Y'], axis=1, inplace=True)"
   ]
  },
  {
   "cell_type": "code",
   "execution_count": 5,
   "metadata": {},
   "outputs": [],
   "source": [
    "df = pd.concat([df5,df6,df7,df8])"
   ]
  },
  {
   "cell_type": "code",
   "execution_count": 6,
   "metadata": {},
   "outputs": [
    {
     "data": {
      "text/html": [
       "<div>\n",
       "<style scoped>\n",
       "    .dataframe tbody tr th:only-of-type {\n",
       "        vertical-align: middle;\n",
       "    }\n",
       "\n",
       "    .dataframe tbody tr th {\n",
       "        vertical-align: top;\n",
       "    }\n",
       "\n",
       "    .dataframe thead th {\n",
       "        text-align: right;\n",
       "    }\n",
       "</style>\n",
       "<table border=\"1\" class=\"dataframe\">\n",
       "  <thead>\n",
       "    <tr style=\"text-align: right;\">\n",
       "      <th></th>\n",
       "      <th>OBJECTID</th>\n",
       "      <th>Field1</th>\n",
       "      <th>YM</th>\n",
       "      <th>SIDO</th>\n",
       "      <th>SIGUNGU</th>\n",
       "      <th>FranClass</th>\n",
       "      <th>Type</th>\n",
       "      <th>Time</th>\n",
       "      <th>TotalSpent</th>\n",
       "      <th>DisSpent</th>\n",
       "      <th>NumofSpent</th>\n",
       "      <th>NumofDisSpent</th>\n",
       "      <th>POINT_X</th>\n",
       "      <th>POINT_Y</th>\n",
       "    </tr>\n",
       "  </thead>\n",
       "  <tbody>\n",
       "    <tr>\n",
       "      <th>0</th>\n",
       "      <td>1</td>\n",
       "      <td>1</td>\n",
       "      <td>202005</td>\n",
       "      <td>제주특별자치도</td>\n",
       "      <td>제주시</td>\n",
       "      <td>영세</td>\n",
       "      <td>일반한식</td>\n",
       "      <td>00시</td>\n",
       "      <td>363000</td>\n",
       "      <td>66500</td>\n",
       "      <td>10</td>\n",
       "      <td>2</td>\n",
       "      <td>877005.9834</td>\n",
       "      <td>1.479766e+06</td>\n",
       "    </tr>\n",
       "    <tr>\n",
       "      <th>1</th>\n",
       "      <td>2</td>\n",
       "      <td>2</td>\n",
       "      <td>202005</td>\n",
       "      <td>제주특별자치도</td>\n",
       "      <td>제주시</td>\n",
       "      <td>영세</td>\n",
       "      <td>단란주점</td>\n",
       "      <td>00시</td>\n",
       "      <td>1180000</td>\n",
       "      <td>0</td>\n",
       "      <td>3</td>\n",
       "      <td>0</td>\n",
       "      <td>877005.7447</td>\n",
       "      <td>1.479816e+06</td>\n",
       "    </tr>\n",
       "    <tr>\n",
       "      <th>2</th>\n",
       "      <td>3</td>\n",
       "      <td>3</td>\n",
       "      <td>202005</td>\n",
       "      <td>제주특별자치도</td>\n",
       "      <td>제주시</td>\n",
       "      <td>중소1</td>\n",
       "      <td>편의점</td>\n",
       "      <td>00시</td>\n",
       "      <td>157670</td>\n",
       "      <td>6850</td>\n",
       "      <td>20</td>\n",
       "      <td>2</td>\n",
       "      <td>877056.6756</td>\n",
       "      <td>1.479616e+06</td>\n",
       "    </tr>\n",
       "    <tr>\n",
       "      <th>3</th>\n",
       "      <td>4</td>\n",
       "      <td>4</td>\n",
       "      <td>202005</td>\n",
       "      <td>제주특별자치도</td>\n",
       "      <td>제주시</td>\n",
       "      <td>영세</td>\n",
       "      <td>편의점</td>\n",
       "      <td>00시</td>\n",
       "      <td>46600</td>\n",
       "      <td>0</td>\n",
       "      <td>2</td>\n",
       "      <td>0</td>\n",
       "      <td>877055.9593</td>\n",
       "      <td>1.479766e+06</td>\n",
       "    </tr>\n",
       "    <tr>\n",
       "      <th>4</th>\n",
       "      <td>5</td>\n",
       "      <td>5</td>\n",
       "      <td>202005</td>\n",
       "      <td>제주특별자치도</td>\n",
       "      <td>제주시</td>\n",
       "      <td>영세</td>\n",
       "      <td>주점</td>\n",
       "      <td>00시</td>\n",
       "      <td>66000</td>\n",
       "      <td>0</td>\n",
       "      <td>2</td>\n",
       "      <td>0</td>\n",
       "      <td>877055.4817</td>\n",
       "      <td>1.479866e+06</td>\n",
       "    </tr>\n",
       "  </tbody>\n",
       "</table>\n",
       "</div>"
      ],
      "text/plain": [
       "   OBJECTID  Field1      YM     SIDO SIGUNGU FranClass  Type Time  TotalSpent  \\\n",
       "0         1       1  202005  제주특별자치도     제주시        영세  일반한식  00시      363000   \n",
       "1         2       2  202005  제주특별자치도     제주시        영세  단란주점  00시     1180000   \n",
       "2         3       3  202005  제주특별자치도     제주시       중소1   편의점  00시      157670   \n",
       "3         4       4  202005  제주특별자치도     제주시        영세   편의점  00시       46600   \n",
       "4         5       5  202005  제주특별자치도     제주시        영세    주점  00시       66000   \n",
       "\n",
       "   DisSpent  NumofSpent  NumofDisSpent      POINT_X       POINT_Y  \n",
       "0     66500          10              2  877005.9834  1.479766e+06  \n",
       "1         0           3              0  877005.7447  1.479816e+06  \n",
       "2      6850          20              2  877056.6756  1.479616e+06  \n",
       "3         0           2              0  877055.9593  1.479766e+06  \n",
       "4         0           2              0  877055.4817  1.479866e+06  "
      ]
     },
     "execution_count": 6,
     "metadata": {},
     "output_type": "execute_result"
    }
   ],
   "source": [
    "df.head()"
   ]
  },
  {
   "cell_type": "code",
   "execution_count": 7,
   "metadata": {},
   "outputs": [
    {
     "name": "stdout",
     "output_type": "stream",
     "text": [
      "OBJECTID         0\n",
      "Field1           0\n",
      "YM               0\n",
      "SIDO             0\n",
      "SIGUNGU          0\n",
      "FranClass        0\n",
      "Type             0\n",
      "Time             0\n",
      "TotalSpent       0\n",
      "DisSpent         0\n",
      "NumofSpent       0\n",
      "NumofDisSpent    0\n",
      "POINT_X          0\n",
      "POINT_Y          0\n",
      "dtype: int64\n"
     ]
    }
   ],
   "source": [
    "# 결측치 확인\n",
    "\n",
    "print(df.isnull().sum())"
   ]
  },
  {
   "cell_type": "code",
   "execution_count": 8,
   "metadata": {},
   "outputs": [],
   "source": [
    "# OBJECTID, Field1 삭제\n",
    "df.drop(['OBJECTID', 'Field1' ], axis=1, inplace=True)"
   ]
  },
  {
   "cell_type": "markdown",
   "metadata": {},
   "source": [
    "### 재난지원금으로 경제가 활성화 되었는가? "
   ]
  },
  {
   "cell_type": "code",
   "execution_count": 9,
   "metadata": {},
   "outputs": [],
   "source": [
    "# 월별 소비 추이 관찰\n",
    "\n",
    "df_YM_Spent = df.groupby('YM').sum()[['TotalSpent','DisSpent','NumofSpent','NumofDisSpent']].reset_index()"
   ]
  },
  {
   "cell_type": "code",
   "execution_count": 10,
   "metadata": {
    "scrolled": true
   },
   "outputs": [
    {
     "data": {
      "text/html": [
       "<div>\n",
       "<style scoped>\n",
       "    .dataframe tbody tr th:only-of-type {\n",
       "        vertical-align: middle;\n",
       "    }\n",
       "\n",
       "    .dataframe tbody tr th {\n",
       "        vertical-align: top;\n",
       "    }\n",
       "\n",
       "    .dataframe thead th {\n",
       "        text-align: right;\n",
       "    }\n",
       "</style>\n",
       "<table border=\"1\" class=\"dataframe\">\n",
       "  <thead>\n",
       "    <tr style=\"text-align: right;\">\n",
       "      <th></th>\n",
       "      <th>YM</th>\n",
       "      <th>TotalSpent</th>\n",
       "      <th>DisSpent</th>\n",
       "      <th>NumofSpent</th>\n",
       "      <th>NumofDisSpent</th>\n",
       "    </tr>\n",
       "  </thead>\n",
       "  <tbody>\n",
       "    <tr>\n",
       "      <th>0</th>\n",
       "      <td>202005</td>\n",
       "      <td>168687712199</td>\n",
       "      <td>24180094624</td>\n",
       "      <td>5151045</td>\n",
       "      <td>782769</td>\n",
       "    </tr>\n",
       "    <tr>\n",
       "      <th>1</th>\n",
       "      <td>202006</td>\n",
       "      <td>166978502264</td>\n",
       "      <td>9666349024</td>\n",
       "      <td>5185908</td>\n",
       "      <td>384342</td>\n",
       "    </tr>\n",
       "    <tr>\n",
       "      <th>2</th>\n",
       "      <td>202007</td>\n",
       "      <td>179293584847</td>\n",
       "      <td>1343557825</td>\n",
       "      <td>5746845</td>\n",
       "      <td>56363</td>\n",
       "    </tr>\n",
       "    <tr>\n",
       "      <th>3</th>\n",
       "      <td>202008</td>\n",
       "      <td>185466211151</td>\n",
       "      <td>543655174</td>\n",
       "      <td>5834132</td>\n",
       "      <td>18660</td>\n",
       "    </tr>\n",
       "  </tbody>\n",
       "</table>\n",
       "</div>"
      ],
      "text/plain": [
       "       YM    TotalSpent     DisSpent  NumofSpent  NumofDisSpent\n",
       "0  202005  168687712199  24180094624     5151045         782769\n",
       "1  202006  166978502264   9666349024     5185908         384342\n",
       "2  202007  179293584847   1343557825     5746845          56363\n",
       "3  202008  185466211151    543655174     5834132          18660"
      ]
     },
     "execution_count": 10,
     "metadata": {},
     "output_type": "execute_result"
    }
   ],
   "source": [
    "df_YM_Spent"
   ]
  },
  {
   "cell_type": "code",
   "execution_count": 11,
   "metadata": {},
   "outputs": [],
   "source": [
    "df_YM_Spent['TotalSpent_%']=df_YM_Spent.TotalSpent.apply(lambda x: x/df_YM_Spent.TotalSpent.sum()*100)\n",
    "df_YM_Spent['DisSpent_%']=df_YM_Spent.DisSpent.apply(lambda x: x/df_YM_Spent.DisSpent.sum()*100)\n",
    "df_YM_Spent.YM = df_YM_Spent.YM.apply(lambda x:x%10) \n",
    "df_YM_Spent.YM = df_YM_Spent.YM.astype('object') "
   ]
  },
  {
   "cell_type": "code",
   "execution_count": 12,
   "metadata": {},
   "outputs": [
    {
     "data": {
      "text/html": [
       "<div>\n",
       "<style scoped>\n",
       "    .dataframe tbody tr th:only-of-type {\n",
       "        vertical-align: middle;\n",
       "    }\n",
       "\n",
       "    .dataframe tbody tr th {\n",
       "        vertical-align: top;\n",
       "    }\n",
       "\n",
       "    .dataframe thead th {\n",
       "        text-align: right;\n",
       "    }\n",
       "</style>\n",
       "<table border=\"1\" class=\"dataframe\">\n",
       "  <thead>\n",
       "    <tr style=\"text-align: right;\">\n",
       "      <th></th>\n",
       "      <th>YM</th>\n",
       "      <th>TotalSpent</th>\n",
       "      <th>DisSpent</th>\n",
       "      <th>NumofSpent</th>\n",
       "      <th>NumofDisSpent</th>\n",
       "      <th>TotalSpent_%</th>\n",
       "      <th>DisSpent_%</th>\n",
       "    </tr>\n",
       "  </thead>\n",
       "  <tbody>\n",
       "    <tr>\n",
       "      <th>0</th>\n",
       "      <td>5</td>\n",
       "      <td>168687712199</td>\n",
       "      <td>24180094624</td>\n",
       "      <td>5151045</td>\n",
       "      <td>782769</td>\n",
       "      <td>24.083588</td>\n",
       "      <td>67.667563</td>\n",
       "    </tr>\n",
       "    <tr>\n",
       "      <th>1</th>\n",
       "      <td>6</td>\n",
       "      <td>166978502264</td>\n",
       "      <td>9666349024</td>\n",
       "      <td>5185908</td>\n",
       "      <td>384342</td>\n",
       "      <td>23.839563</td>\n",
       "      <td>27.051105</td>\n",
       "    </tr>\n",
       "    <tr>\n",
       "      <th>2</th>\n",
       "      <td>7</td>\n",
       "      <td>179293584847</td>\n",
       "      <td>1343557825</td>\n",
       "      <td>5746845</td>\n",
       "      <td>56363</td>\n",
       "      <td>25.597791</td>\n",
       "      <td>3.759923</td>\n",
       "    </tr>\n",
       "    <tr>\n",
       "      <th>3</th>\n",
       "      <td>8</td>\n",
       "      <td>185466211151</td>\n",
       "      <td>543655174</td>\n",
       "      <td>5834132</td>\n",
       "      <td>18660</td>\n",
       "      <td>26.479058</td>\n",
       "      <td>1.521409</td>\n",
       "    </tr>\n",
       "  </tbody>\n",
       "</table>\n",
       "</div>"
      ],
      "text/plain": [
       "  YM    TotalSpent     DisSpent  NumofSpent  NumofDisSpent  TotalSpent_%  \\\n",
       "0  5  168687712199  24180094624     5151045         782769     24.083588   \n",
       "1  6  166978502264   9666349024     5185908         384342     23.839563   \n",
       "2  7  179293584847   1343557825     5746845          56363     25.597791   \n",
       "3  8  185466211151    543655174     5834132          18660     26.479058   \n",
       "\n",
       "   DisSpent_%  \n",
       "0   67.667563  \n",
       "1   27.051105  \n",
       "2    3.759923  \n",
       "3    1.521409  "
      ]
     },
     "execution_count": 12,
     "metadata": {},
     "output_type": "execute_result"
    }
   ],
   "source": [
    "df_YM_Spent"
   ]
  },
  {
   "cell_type": "code",
   "execution_count": 13,
   "metadata": {
    "scrolled": false
   },
   "outputs": [
    {
     "data": {
      "text/html": [
       "<div>\n",
       "<style scoped>\n",
       "    .dataframe tbody tr th:only-of-type {\n",
       "        vertical-align: middle;\n",
       "    }\n",
       "\n",
       "    .dataframe tbody tr th {\n",
       "        vertical-align: top;\n",
       "    }\n",
       "\n",
       "    .dataframe thead th {\n",
       "        text-align: right;\n",
       "    }\n",
       "</style>\n",
       "<table border=\"1\" class=\"dataframe\">\n",
       "  <thead>\n",
       "    <tr style=\"text-align: right;\">\n",
       "      <th></th>\n",
       "      <th>월</th>\n",
       "      <th>운항(편)</th>\n",
       "      <th>여객(명)</th>\n",
       "      <th>여객_%</th>\n",
       "    </tr>\n",
       "  </thead>\n",
       "  <tbody>\n",
       "    <tr>\n",
       "      <th>0</th>\n",
       "      <td>5</td>\n",
       "      <td>5638</td>\n",
       "      <td>792703</td>\n",
       "      <td>20.593229</td>\n",
       "    </tr>\n",
       "    <tr>\n",
       "      <th>1</th>\n",
       "      <td>6</td>\n",
       "      <td>5898</td>\n",
       "      <td>891945</td>\n",
       "      <td>23.171387</td>\n",
       "    </tr>\n",
       "    <tr>\n",
       "      <th>2</th>\n",
       "      <td>7</td>\n",
       "      <td>6407</td>\n",
       "      <td>1022529</td>\n",
       "      <td>26.563762</td>\n",
       "    </tr>\n",
       "    <tr>\n",
       "      <th>3</th>\n",
       "      <td>8</td>\n",
       "      <td>6938</td>\n",
       "      <td>1142161</td>\n",
       "      <td>29.671621</td>\n",
       "    </tr>\n",
       "    <tr>\n",
       "      <th>4</th>\n",
       "      <td>계</td>\n",
       "      <td>24881</td>\n",
       "      <td>3849338</td>\n",
       "      <td>100.000000</td>\n",
       "    </tr>\n",
       "  </tbody>\n",
       "</table>\n",
       "</div>"
      ],
      "text/plain": [
       "   월  운항(편)    여객(명)        여객_%\n",
       "0  5   5638   792703   20.593229\n",
       "1  6   5898   891945   23.171387\n",
       "2  7   6407  1022529   26.563762\n",
       "3  8   6938  1142161   29.671621\n",
       "4  계  24881  3849338  100.000000"
      ]
     },
     "execution_count": 13,
     "metadata": {},
     "output_type": "execute_result"
    }
   ],
   "source": [
    "# 월별 제주공항 내국인 도착 관찰(관광객)\n",
    "# 조사 결과 제주공항에 국제선 이용 입국자는 없음\n",
    "\n",
    "tour = pd.read_csv('./data/airport.csv', header=0)\n",
    "tour['여객_%']=tour['여객(명)'].apply(lambda x: x/3849338*100)\n",
    "tour"
   ]
  },
  {
   "cell_type": "code",
   "execution_count": 14,
   "metadata": {},
   "outputs": [
    {
     "data": {
      "image/png": "[encoded data removed]",
      "text/plain": [
       "<Figure size 1152x432 with 2 Axes>"
      ]
     },
     "metadata": {
      "needs_background": "light"
     },
     "output_type": "display_data"
    }
   ],
   "source": [
    "## 왜그러지\n",
    "\n",
    "f , ax = plt.subplots(1,2,figsize=(16,6))\n",
    "\n",
    "\n",
    "sns.lineplot(data=df_YM_Spent,x='YM',y='TotalSpent_%',label='총사용금액(%)',ax=ax[0],lw=2.5,color='midnightblue',marker='o')\n",
    "sns.lineplot(data=df_YM_Spent,x='YM',y='DisSpent_%',label='재난지원금(%)',ax=ax[0],lw=2.5,color='lightskyblue',marker='o')\n",
    "\n",
    "\n",
    "sns.barplot(data=tour[:-1],x='월',y='여객(명)',ax=ax[1],palette=pal)\n",
    "\n",
    "ax[0].set_title('사용금액',fontsize=17,pad=15)\n",
    "ax[0].set_xticks([5,6,7,8])\n",
    "ax[0].set_xticklabels (['5월','6월','7월','8월'],fontsize=13)\n",
    "ax[0].set_xlabel('')\n",
    "ax[0].set_ylabel('금액(%)',fontsize=13)\n",
    "ax[0].legend(fontsize=13)\n",
    "\n",
    "ax[1].set_xticklabels (['5월','6월','7월','8월'],fontsize=13)\n",
    "ax[1].set_xlabel('')\n",
    "ax[1].set_title('제주공항 입도객',fontsize=17,pad=15)\n",
    "ax[1].set_ylabel('여객 (단위:100만명)',fontsize=12)\n",
    "'mako'\n",
    "\n",
    "plt.show()"
   ]
  },
  {
   "cell_type": "code",
   "execution_count": 15,
   "metadata": {},
   "outputs": [],
   "source": [
    "# 월별 확진자 파악(전국, 제주도)\n",
    "\n",
    "from urllib.request import urlopen\n",
    "from urllib.parse import urlencode, unquote, quote_plus\n",
    "import urllib\n",
    "import requests\n",
    "import json\n",
    "import pandas as pd\n",
    "from datetime import datetime,timedelta\n",
    "import xmltodict # 결과가 xml 형식으로 반환된다. 이것을 dict 로 바꿔주는 라이브러리다"
   ]
  },
  {
   "cell_type": "code",
   "execution_count": 16,
   "metadata": {},
   "outputs": [],
   "source": [
    "my_api_key = '0U7SMSpqxpjza1zBTutpoHD19XceuRABZlnCCNAeLKIXiJyFA2D%2BWS3IlAmQ%2FPB7Y0MTvE0Qwml5zywvRkpNaA%3D%3D'\n",
    "\n",
    "# 서비스 url 주소\n",
    "url = 'http://openapi.data.go.kr/openapi/service/rest/Covid19/getCovid19SidoInfStateJson'\n",
    "http://apis.data.go.kr/B552584/ArpltnStatsSvc/getCtprvnMesureSidoLIst\n",
    "# 서비스에 필요한 파라미터 모음\n",
    "queryParams = '?' + \\\n",
    "'ServiceKey=' + '{}'.format(my_api_key) + \\\n",
    "'&pageNo='+ '1' + \\\n",
    "'&numOfRows='+ '999' + \\\n",
    "'&startCreateDt={}&endCreateDt={}'.format('20200501','20200831')\n",
    "\n",
    "#서비스url에 필요한 파라미터들을 붙여서 응답결과를 얻음.\n",
    "result = requests.get(url + queryParams)\n",
    "\n",
    "# 응답결과 파싱하기. ( 사용자가 원하는 형태로 변경)\n",
    "# 응답 key 값이 영문화 되어 식별이 어려워 openAPI 문서를 참고하여\n",
    "# replayce 를 통해 결과를 한글화 했다.\n",
    "\n",
    "result = result.content \n",
    "jsonString = json.dumps(xmltodict.parse(result), indent = 4)\n",
    "#jsonString = jsonString.replace('resultCode', '결과코드').replace('resultMsg', '결과메세지').replace('numOfRows', '한 페이지 결과 수').replace('pageNo', '페이지 수').replace('totalCount', '전체 결과 수').replace('seq', '게시글번호(감염현황 고유값)').replace('stateDt', '기준일').replace('stateTime', '기준시간').replace('decideCnt', '확진자 수').replace('clearCnt', '격리해제 수').replace('examCnt', '검사진행 수').replace('deathCnt', '사망자 수').replace('careCnt', '치료중 환자 수').replace('resutlNegCnt', '결과 음성 수').replace('accExamCnt', '누적 검사 수').replace('accExamCompCnt', '누적 검사 완료 수').replace('accDefRate', '누적 환진률').replace('createDt', '등록일시분초').replace('updateDt', '수정일시분초')\n",
    "\n",
    "js = json.loads(jsonString)"
   ]
  },
  {
   "cell_type": "code",
   "execution_count": 17,
   "metadata": {},
   "outputs": [],
   "source": [
    "corona_origin = pd.DataFrame(js['response']['body']['items']['item'])"
   ]
  },
  {
   "cell_type": "code",
   "execution_count": 18,
   "metadata": {},
   "outputs": [
    {
     "data": {
      "text/html": [
       "<div>\n",
       "<style scoped>\n",
       "    .dataframe tbody tr th:only-of-type {\n",
       "        vertical-align: middle;\n",
       "    }\n",
       "\n",
       "    .dataframe tbody tr th {\n",
       "        vertical-align: top;\n",
       "    }\n",
       "\n",
       "    .dataframe thead th {\n",
       "        text-align: right;\n",
       "    }\n",
       "</style>\n",
       "<table border=\"1\" class=\"dataframe\">\n",
       "  <thead>\n",
       "    <tr style=\"text-align: right;\">\n",
       "      <th></th>\n",
       "      <th>createDt</th>\n",
       "      <th>deathCnt</th>\n",
       "      <th>defCnt</th>\n",
       "      <th>gubun</th>\n",
       "      <th>gubunCn</th>\n",
       "      <th>gubunEn</th>\n",
       "      <th>incDec</th>\n",
       "      <th>isolClearCnt</th>\n",
       "      <th>isolIngCnt</th>\n",
       "      <th>localOccCnt</th>\n",
       "      <th>overFlowCnt</th>\n",
       "      <th>qurRate</th>\n",
       "      <th>seq</th>\n",
       "      <th>stdDay</th>\n",
       "      <th>updateDt</th>\n",
       "    </tr>\n",
       "  </thead>\n",
       "  <tbody>\n",
       "    <tr>\n",
       "      <th>0</th>\n",
       "      <td>2020-08-31 10:30:43.057</td>\n",
       "      <td>0</td>\n",
       "      <td>1354</td>\n",
       "      <td>검역</td>\n",
       "      <td>隔離區</td>\n",
       "      <td>Lazaretto</td>\n",
       "      <td>3</td>\n",
       "      <td>1267</td>\n",
       "      <td>87</td>\n",
       "      <td>0</td>\n",
       "      <td>3</td>\n",
       "      <td>-</td>\n",
       "      <td>4073</td>\n",
       "      <td>2020년 08월 31일 00시</td>\n",
       "      <td>null</td>\n",
       "    </tr>\n",
       "    <tr>\n",
       "      <th>1</th>\n",
       "      <td>2020-08-31 10:30:43.057</td>\n",
       "      <td>0</td>\n",
       "      <td>45</td>\n",
       "      <td>제주</td>\n",
       "      <td>济州</td>\n",
       "      <td>Jeju</td>\n",
       "      <td>6</td>\n",
       "      <td>26</td>\n",
       "      <td>19</td>\n",
       "      <td>5</td>\n",
       "      <td>1</td>\n",
       "      <td>6.71</td>\n",
       "      <td>4072</td>\n",
       "      <td>2020년 08월 31일 00시</td>\n",
       "      <td>null</td>\n",
       "    </tr>\n",
       "    <tr>\n",
       "      <th>2</th>\n",
       "      <td>2020-08-31 10:30:43.057</td>\n",
       "      <td>0</td>\n",
       "      <td>236</td>\n",
       "      <td>경남</td>\n",
       "      <td>庆南</td>\n",
       "      <td>Gyeongsangnam-do</td>\n",
       "      <td>1</td>\n",
       "      <td>166</td>\n",
       "      <td>70</td>\n",
       "      <td>1</td>\n",
       "      <td>0</td>\n",
       "      <td>7.02</td>\n",
       "      <td>4071</td>\n",
       "      <td>2020년 08월 31일 00시</td>\n",
       "      <td>null</td>\n",
       "    </tr>\n",
       "    <tr>\n",
       "      <th>3</th>\n",
       "      <td>2020-08-31 10:30:43.057</td>\n",
       "      <td>54</td>\n",
       "      <td>1455</td>\n",
       "      <td>경북</td>\n",
       "      <td>庆北</td>\n",
       "      <td>Gyeongsangbuk-do</td>\n",
       "      <td>2</td>\n",
       "      <td>1356</td>\n",
       "      <td>45</td>\n",
       "      <td>2</td>\n",
       "      <td>0</td>\n",
       "      <td>54.65</td>\n",
       "      <td>4070</td>\n",
       "      <td>2020년 08월 31일 00시</td>\n",
       "      <td>null</td>\n",
       "    </tr>\n",
       "    <tr>\n",
       "      <th>4</th>\n",
       "      <td>2020-08-31 10:30:43.056</td>\n",
       "      <td>0</td>\n",
       "      <td>142</td>\n",
       "      <td>전남</td>\n",
       "      <td>全南</td>\n",
       "      <td>Jeollanam-do</td>\n",
       "      <td>5</td>\n",
       "      <td>42</td>\n",
       "      <td>100</td>\n",
       "      <td>5</td>\n",
       "      <td>0</td>\n",
       "      <td>7.62</td>\n",
       "      <td>4069</td>\n",
       "      <td>2020년 08월 31일 00시</td>\n",
       "      <td>null</td>\n",
       "    </tr>\n",
       "  </tbody>\n",
       "</table>\n",
       "</div>"
      ],
      "text/plain": [
       "                  createDt deathCnt defCnt gubun gubunCn           gubunEn  \\\n",
       "0  2020-08-31 10:30:43.057        0   1354    검역     隔離區         Lazaretto   \n",
       "1  2020-08-31 10:30:43.057        0     45    제주      济州              Jeju   \n",
       "2  2020-08-31 10:30:43.057        0    236    경남      庆南  Gyeongsangnam-do   \n",
       "3  2020-08-31 10:30:43.057       54   1455    경북      庆北  Gyeongsangbuk-do   \n",
       "4  2020-08-31 10:30:43.056        0    142    전남      全南      Jeollanam-do   \n",
       "\n",
       "  incDec isolClearCnt isolIngCnt localOccCnt overFlowCnt qurRate   seq  \\\n",
       "0      3         1267         87           0           3       -  4073   \n",
       "1      6           26         19           5           1    6.71  4072   \n",
       "2      1          166         70           1           0    7.02  4071   \n",
       "3      2         1356         45           2           0   54.65  4070   \n",
       "4      5           42        100           5           0    7.62  4069   \n",
       "\n",
       "              stdDay updateDt  \n",
       "0  2020년 08월 31일 00시     null  \n",
       "1  2020년 08월 31일 00시     null  \n",
       "2  2020년 08월 31일 00시     null  \n",
       "3  2020년 08월 31일 00시     null  \n",
       "4  2020년 08월 31일 00시     null  "
      ]
     },
     "execution_count": 18,
     "metadata": {},
     "output_type": "execute_result"
    }
   ],
   "source": [
    "corona_origin.head()"
   ]
  },
  {
   "cell_type": "code",
   "execution_count": 19,
   "metadata": {},
   "outputs": [],
   "source": [
    "corona_jeju = corona_origin[corona_origin.gubun=='제주'][['stdDay','gubun','defCnt','incDec']]"
   ]
  },
  {
   "cell_type": "code",
   "execution_count": 20,
   "metadata": {
    "scrolled": true
   },
   "outputs": [],
   "source": [
    "corona_jeju['month']= corona_jeju['stdDay'].apply(lambda x: list(x.split())[1])\n",
    "corona_jeju['day']=corona_jeju['stdDay'].apply(lambda x: list(x.split())[2])\n",
    "corona_jeju.month=corona_jeju.month.apply(lambda x: x[-2:])\n",
    "corona_jeju.day=corona_jeju.day.apply(lambda x: int(x[:-1]))"
   ]
  },
  {
   "cell_type": "code",
   "execution_count": 21,
   "metadata": {},
   "outputs": [
    {
     "name": "stdout",
     "output_type": "stream",
     "text": [
      "['8월' '7월' '6월' '5월']\n",
      "[31 30 29 28 27 26 25 24 23 22 21 20 19 18 17 16 15 14 13 12 11 10  9  8\n",
      "  7  6  5  4  3  2  1]\n"
     ]
    }
   ],
   "source": [
    "print(corona_jeju.month.unique())\n",
    "print(corona_jeju.day.unique())"
   ]
  },
  {
   "cell_type": "code",
   "execution_count": 22,
   "metadata": {},
   "outputs": [],
   "source": [
    "corona_jeju.sort_values(by=['month','day'],inplace=True)"
   ]
  },
  {
   "cell_type": "code",
   "execution_count": 23,
   "metadata": {},
   "outputs": [
    {
     "name": "stdout",
     "output_type": "stream",
     "text": [
      "<class 'pandas.core.frame.DataFrame'>\n",
      "Int64Index: 123 entries, 2319 to 1\n",
      "Data columns (total 6 columns):\n",
      " #   Column  Non-Null Count  Dtype \n",
      "---  ------  --------------  ----- \n",
      " 0   stdDay  123 non-null    object\n",
      " 1   gubun   123 non-null    object\n",
      " 2   defCnt  123 non-null    object\n",
      " 3   incDec  123 non-null    int32 \n",
      " 4   month   123 non-null    object\n",
      " 5   day     123 non-null    int64 \n",
      "dtypes: int32(1), int64(1), object(4)\n",
      "memory usage: 6.2+ KB\n"
     ]
    }
   ],
   "source": [
    "corona_jeju.incDec=corona_jeju.incDec.astype('int')\n",
    "corona_jeju.info()"
   ]
  },
  {
   "cell_type": "code",
   "execution_count": 24,
   "metadata": {},
   "outputs": [
    {
     "data": {
      "text/plain": [
       "month\n",
       "5월     2\n",
       "6월     4\n",
       "7월     7\n",
       "8월    19\n",
       "Name: incDec, dtype: int32"
      ]
     },
     "execution_count": 24,
     "metadata": {},
     "output_type": "execute_result"
    }
   ],
   "source": [
    "# 월별로 확진자가 미미, 전국적 경향에 따라 8월에 증가\n",
    "\n",
    "corona_jeju.groupby('month').sum()['incDec']"
   ]
  },
  {
   "cell_type": "code",
   "execution_count": 25,
   "metadata": {},
   "outputs": [],
   "source": [
    "# 중간에 엑셀로 처리했습니다...\n",
    "corona_origin[['stdDay','gubun','defCnt','incDec']].to_csv('example2.csv',encoding='CP949')"
   ]
  },
  {
   "cell_type": "code",
   "execution_count": 26,
   "metadata": {},
   "outputs": [],
   "source": [
    "corona_korea = pd.read_csv('./data/corona_korea.csv')"
   ]
  },
  {
   "cell_type": "code",
   "execution_count": 27,
   "metadata": {},
   "outputs": [],
   "source": [
    "corona_korea.head()\n",
    "corona_korea.incDec = corona_korea.incDec.astype('int')"
   ]
  },
  {
   "cell_type": "code",
   "execution_count": 28,
   "metadata": {},
   "outputs": [],
   "source": [
    "corona_korea_month = pd.DataFrame(corona_korea.groupby('month').sum()['incDec']).reset_index()"
   ]
  },
  {
   "cell_type": "code",
   "execution_count": 29,
   "metadata": {},
   "outputs": [
    {
     "data": {
      "text/html": [
       "<div>\n",
       "<style scoped>\n",
       "    .dataframe tbody tr th:only-of-type {\n",
       "        vertical-align: middle;\n",
       "    }\n",
       "\n",
       "    .dataframe tbody tr th {\n",
       "        vertical-align: top;\n",
       "    }\n",
       "\n",
       "    .dataframe thead th {\n",
       "        text-align: right;\n",
       "    }\n",
       "</style>\n",
       "<table border=\"1\" class=\"dataframe\">\n",
       "  <thead>\n",
       "    <tr style=\"text-align: right;\">\n",
       "      <th></th>\n",
       "      <th>month</th>\n",
       "      <th>incDec</th>\n",
       "    </tr>\n",
       "  </thead>\n",
       "  <tbody>\n",
       "    <tr>\n",
       "      <th>0</th>\n",
       "      <td>5</td>\n",
       "      <td>703</td>\n",
       "    </tr>\n",
       "    <tr>\n",
       "      <th>1</th>\n",
       "      <td>6</td>\n",
       "      <td>1334</td>\n",
       "    </tr>\n",
       "    <tr>\n",
       "      <th>2</th>\n",
       "      <td>7</td>\n",
       "      <td>1506</td>\n",
       "    </tr>\n",
       "    <tr>\n",
       "      <th>3</th>\n",
       "      <td>8</td>\n",
       "      <td>5642</td>\n",
       "    </tr>\n",
       "  </tbody>\n",
       "</table>\n",
       "</div>"
      ],
      "text/plain": [
       "   month  incDec\n",
       "0      5     703\n",
       "1      6    1334\n",
       "2      7    1506\n",
       "3      8    5642"
      ]
     },
     "execution_count": 29,
     "metadata": {},
     "output_type": "execute_result"
    }
   ],
   "source": [
    "corona_korea_month"
   ]
  },
  {
   "cell_type": "code",
   "execution_count": 30,
   "metadata": {},
   "outputs": [
    {
     "data": {
      "text/plain": [
       "<AxesSubplot:xlabel='월', ylabel='여객(명)'>"
      ]
     },
     "execution_count": 30,
     "metadata": {},
     "output_type": "execute_result"
    },
    {
     "data": {
      "image/png": "[encoded data removed]",
      "text/plain": [
       "<Figure size 432x288 with 2 Axes>"
      ]
     },
     "metadata": {
      "needs_background": "light"
     },
     "output_type": "display_data"
    }
   ],
   "source": [
    "# 전국 확진자와 제주공항 입국자 시각화\n",
    "# 7월 이후 대유행에도 불구, 입국자 증가\n",
    "\n",
    "f, ax = plt.subplots(1,2)\n",
    "sns.lineplot(x='month',y='incDec',data=corona_korea, ax=ax[0])\n",
    "sns.lineplot(x='월',y='여객(명)',data=tour[:-1], ax=ax[1])"
   ]
  },
  {
   "cell_type": "markdown",
   "metadata": {},
   "source": [
    "**관찰**\n",
    "- 시간 추이에 따라 총 소비금액 증가, 재난지원금 소비 감소\n",
    "- 시간 추이에 따라 제주도 내 확진자 증가(그러나 20명대 미만으로 미미), 전국 확진자 완만하게 증가하다 8월부터 급증\n",
    "- 제주공항 입국자는 월별로 증가\n",
    "\n",
    "**결론**\n",
    "- 확진자 추이는 제주도 여행객에 영향 X\n",
    "- 재난지원금 사용이 감소했음에도 불구하고 총 사용금액이 유지된 이유는 증가한 관광객 때문\n",
    "- 5월에 관광객이 적었음에도 불구하고, 총 소비금액이 8월과 큰 차이가 없는 것으로 보아 재난지원금의 경제적 효과는 유효함.\n",
    "- 다만, 재난지원금의 소비 형태가 5월 초반에 몰려서 불균형적임"
   ]
  },
  {
   "cell_type": "code",
   "execution_count": 31,
   "metadata": {},
   "outputs": [],
   "source": [
    "# 재난지원금 이전 카드 사용액 # 일단 보류 \n",
    "# 관광객 수 확인하면 좋을듯(올해의 경우 입도객이 5월보다 6월에 더 많았음)\n",
    "\n",
    "before = pd.read_csv('./data/card_before.csv',sep=',',header=0,encoding='CP949')"
   ]
  },
  {
   "cell_type": "code",
   "execution_count": 32,
   "metadata": {
    "scrolled": true
   },
   "outputs": [
    {
     "data": {
      "text/html": [
       "<div>\n",
       "<style scoped>\n",
       "    .dataframe tbody tr th:only-of-type {\n",
       "        vertical-align: middle;\n",
       "    }\n",
       "\n",
       "    .dataframe tbody tr th {\n",
       "        vertical-align: top;\n",
       "    }\n",
       "\n",
       "    .dataframe thead th {\n",
       "        text-align: right;\n",
       "    }\n",
       "</style>\n",
       "<table border=\"1\" class=\"dataframe\">\n",
       "  <thead>\n",
       "    <tr style=\"text-align: right;\">\n",
       "      <th></th>\n",
       "      <th>년월</th>\n",
       "      <th>시도명</th>\n",
       "      <th>읍면동명</th>\n",
       "      <th>업종명</th>\n",
       "      <th>성별</th>\n",
       "      <th>이용자수</th>\n",
       "      <th>이용금액</th>\n",
       "      <th>거주인구</th>\n",
       "      <th>근무인구</th>\n",
       "      <th>방문인구</th>\n",
       "      <th>데이터기준일자</th>\n",
       "    </tr>\n",
       "  </thead>\n",
       "  <tbody>\n",
       "    <tr>\n",
       "      <th>0</th>\n",
       "      <td>2017-01</td>\n",
       "      <td>서귀포시</td>\n",
       "      <td>남원읍</td>\n",
       "      <td>건강보조식품 소매업</td>\n",
       "      <td>남성</td>\n",
       "      <td>11</td>\n",
       "      <td>137500</td>\n",
       "      <td>4365500.518</td>\n",
       "      <td>380992.059</td>\n",
       "      <td>2844836.615</td>\n",
       "      <td>2020-12-15</td>\n",
       "    </tr>\n",
       "    <tr>\n",
       "      <th>1</th>\n",
       "      <td>2017-01</td>\n",
       "      <td>서귀포시</td>\n",
       "      <td>남원읍</td>\n",
       "      <td>골프장 운영업</td>\n",
       "      <td>남성</td>\n",
       "      <td>1988</td>\n",
       "      <td>285901584</td>\n",
       "      <td>4365500.518</td>\n",
       "      <td>380992.059</td>\n",
       "      <td>2844836.615</td>\n",
       "      <td>2020-12-15</td>\n",
       "    </tr>\n",
       "    <tr>\n",
       "      <th>2</th>\n",
       "      <td>2017-01</td>\n",
       "      <td>서귀포시</td>\n",
       "      <td>남원읍</td>\n",
       "      <td>과실 및 채소 소매업</td>\n",
       "      <td>남성</td>\n",
       "      <td>685</td>\n",
       "      <td>49486002</td>\n",
       "      <td>4365500.518</td>\n",
       "      <td>380992.059</td>\n",
       "      <td>2844836.615</td>\n",
       "      <td>2020-12-15</td>\n",
       "    </tr>\n",
       "    <tr>\n",
       "      <th>3</th>\n",
       "      <td>2017-01</td>\n",
       "      <td>서귀포시</td>\n",
       "      <td>남원읍</td>\n",
       "      <td>관광 민예품 및 선물용품 소매업</td>\n",
       "      <td>남성</td>\n",
       "      <td>6</td>\n",
       "      <td>116000</td>\n",
       "      <td>4365500.518</td>\n",
       "      <td>380992.059</td>\n",
       "      <td>2844836.615</td>\n",
       "      <td>2020-12-15</td>\n",
       "    </tr>\n",
       "    <tr>\n",
       "      <th>4</th>\n",
       "      <td>2017-01</td>\n",
       "      <td>서귀포시</td>\n",
       "      <td>남원읍</td>\n",
       "      <td>그외 기타 종합 소매업</td>\n",
       "      <td>남성</td>\n",
       "      <td>1</td>\n",
       "      <td>100000</td>\n",
       "      <td>4365500.518</td>\n",
       "      <td>380992.059</td>\n",
       "      <td>2844836.615</td>\n",
       "      <td>2020-12-15</td>\n",
       "    </tr>\n",
       "  </tbody>\n",
       "</table>\n",
       "</div>"
      ],
      "text/plain": [
       "        년월   시도명 읍면동명                업종명  성별  이용자수       이용금액         거주인구  \\\n",
       "0  2017-01  서귀포시  남원읍         건강보조식품 소매업  남성    11     137500  4365500.518   \n",
       "1  2017-01  서귀포시  남원읍            골프장 운영업  남성  1988  285901584  4365500.518   \n",
       "2  2017-01  서귀포시  남원읍        과실 및 채소 소매업  남성   685   49486002  4365500.518   \n",
       "3  2017-01  서귀포시  남원읍  관광 민예품 및 선물용품 소매업  남성     6     116000  4365500.518   \n",
       "4  2017-01  서귀포시  남원읍       그외 기타 종합 소매업  남성     1     100000  4365500.518   \n",
       "\n",
       "         근무인구         방문인구     데이터기준일자  \n",
       "0  380992.059  2844836.615  2020-12-15  \n",
       "1  380992.059  2844836.615  2020-12-15  \n",
       "2  380992.059  2844836.615  2020-12-15  \n",
       "3  380992.059  2844836.615  2020-12-15  \n",
       "4  380992.059  2844836.615  2020-12-15  "
      ]
     },
     "execution_count": 32,
     "metadata": {},
     "output_type": "execute_result"
    }
   ],
   "source": [
    "before.head()"
   ]
  },
  {
   "cell_type": "code",
   "execution_count": 33,
   "metadata": {},
   "outputs": [
    {
     "data": {
      "text/html": [
       "<div>\n",
       "<style scoped>\n",
       "    .dataframe tbody tr th:only-of-type {\n",
       "        vertical-align: middle;\n",
       "    }\n",
       "\n",
       "    .dataframe tbody tr th {\n",
       "        vertical-align: top;\n",
       "    }\n",
       "\n",
       "    .dataframe thead th {\n",
       "        text-align: right;\n",
       "    }\n",
       "</style>\n",
       "<table border=\"1\" class=\"dataframe\">\n",
       "  <thead>\n",
       "    <tr style=\"text-align: right;\">\n",
       "      <th></th>\n",
       "      <th>년월</th>\n",
       "      <th>이용자수</th>\n",
       "      <th>이용금액</th>\n",
       "    </tr>\n",
       "    <tr>\n",
       "      <th>년월</th>\n",
       "      <th></th>\n",
       "      <th></th>\n",
       "      <th></th>\n",
       "    </tr>\n",
       "  </thead>\n",
       "  <tbody>\n",
       "    <tr>\n",
       "      <th>2017-01</th>\n",
       "      <td>2017-01</td>\n",
       "      <td>3369500</td>\n",
       "      <td>135038943209</td>\n",
       "    </tr>\n",
       "    <tr>\n",
       "      <th>2017-02</th>\n",
       "      <td>2017-02</td>\n",
       "      <td>3161697</td>\n",
       "      <td>120442766298</td>\n",
       "    </tr>\n",
       "    <tr>\n",
       "      <th>2017-03</th>\n",
       "      <td>2017-03</td>\n",
       "      <td>3545487</td>\n",
       "      <td>133803458498</td>\n",
       "    </tr>\n",
       "    <tr>\n",
       "      <th>2017-04</th>\n",
       "      <td>2017-04</td>\n",
       "      <td>3673849</td>\n",
       "      <td>140301262160</td>\n",
       "    </tr>\n",
       "    <tr>\n",
       "      <th>2017-05</th>\n",
       "      <td>2017-05</td>\n",
       "      <td>4111327</td>\n",
       "      <td>153531762462</td>\n",
       "    </tr>\n",
       "  </tbody>\n",
       "</table>\n",
       "</div>"
      ],
      "text/plain": [
       "              년월     이용자수          이용금액\n",
       "년월                                     \n",
       "2017-01  2017-01  3369500  135038943209\n",
       "2017-02  2017-02  3161697  120442766298\n",
       "2017-03  2017-03  3545487  133803458498\n",
       "2017-04  2017-04  3673849  140301262160\n",
       "2017-05  2017-05  4111327  153531762462"
      ]
     },
     "execution_count": 33,
     "metadata": {},
     "output_type": "execute_result"
    }
   ],
   "source": [
    "before_Time_Spent = before.groupby('년월').sum()[['이용자수','이용금액']].reset_index()\n",
    "before_Time_Spent.index = before_Time_Spent.년월\n",
    "before_Time_Spent.head()"
   ]
  },
  {
   "cell_type": "code",
   "execution_count": 34,
   "metadata": {
    "scrolled": true
   },
   "outputs": [
    {
     "data": {
      "image/png": "[encoded data removed]",
      "text/plain": [
       "<Figure size 720x360 with 1 Axes>"
      ]
     },
     "metadata": {
      "needs_background": "light"
     },
     "output_type": "display_data"
    }
   ],
   "source": [
    "# 매년 소비추이 확인(5~8) \n",
    "\n",
    "plt.rcParams['font.family'] = 'Malgun Gothic'\n",
    "plt.figure(figsize=(10,5))\n",
    "sns.lineplot(x='년월', y='이용금액', data=before_Time_Spent.loc['2017-05':'2017-08',:], marker='o')\n",
    "sns.lineplot(x='년월', y='이용금액', data=before_Time_Spent.loc['2018-05':'2018-08',:], marker='o')\n",
    "sns.lineplot(x='년월', y='이용금액', data=before_Time_Spent.loc['2019-05':'2019-08',:], marker='o')\n",
    "plt.ylim()\n",
    "plt.show()"
   ]
  },
  {
   "cell_type": "markdown",
   "metadata": {},
   "source": [
    "### 영세 상인에게 재난지원금이 집중되었는가?"
   ]
  },
  {
   "cell_type": "markdown",
   "metadata": {},
   "source": [
    "- 데이터 전처리"
   ]
  },
  {
   "cell_type": "code",
   "execution_count": 35,
   "metadata": {},
   "outputs": [],
   "source": [
    "df_n = df.copy()"
   ]
  },
  {
   "cell_type": "code",
   "execution_count": 36,
   "metadata": {},
   "outputs": [],
   "source": [
    "# 시간대 정리\n",
    "\n",
    "def timeslot(time):\n",
    "    time = time[:len(time)-1]\n",
    "    if time != 'x':\n",
    "        time = int(time)\n",
    "        if 2<= time < 6:\n",
    "            return '새벽'\n",
    "        elif 6<= time < 11:\n",
    "            return '오전'\n",
    "        elif 11<= time < 15:\n",
    "            return '점심'\n",
    "        elif 15<= time < 18:\n",
    "            return '오후'\n",
    "        elif 18<= time < 22:\n",
    "            return '저녁'\n",
    "        elif time >= 22 or time < 2:\n",
    "            return '심야'\n",
    "    else:\n",
    "        return '무승인거래'\n",
    "\n",
    "df_n['DayNight']=df_n.Time.apply(timeslot)"
   ]
  },
  {
   "cell_type": "code",
   "execution_count": 37,
   "metadata": {},
   "outputs": [],
   "source": [
    "# 업종 정리\n",
    "\n",
    "df_n.replace(dict.fromkeys(['택시', '기타교통수단', '통신기기'], '교통/통신'), inplace=True)\n",
    "df_n.replace(dict.fromkeys(['대형할인점', '농축협직영매장', '농협하나로클럽', '편의점', '슈퍼마켓', '정육점', '기타유통업', '연쇄점', '상품권', '인삼제품', '홍삼제품', '농축수산품', '주류판매점', '기타건강식', '건강식품(회원제형태)'], '마트/편의점(유통)'), inplace=True)\n",
    "df_n.replace(dict.fromkeys(['악기점', 'DVD음반테이프판매', '문화취미기타', '영화관', '티켓', '수족관', '화랑'], '영화/문화'), inplace=True)\n",
    "df_n.replace(dict.fromkeys(['내의판매점', '양품점', '옷감직물', '귀금속', '기타직물', '스포츠의류', '가방', '정장', '악세사리', '기타잡화', '신발', '기타의류', '단체복', '아동의류', '캐쥬얼의류', '맞춤복점', '제화점', '인터넷Mall', '인터넷종합Mall'], '쇼핑/패션'), inplace=True)\n",
    "df_n.replace(dict.fromkeys(['제과점', '스넥', '기타음료식품'], '카페/베이커리'), inplace=True)\n",
    "df_n.replace(dict.fromkeys(['미용재료', '화장품', '피부미용실', '미용원', '이용원'], '뷰티'), inplace=True)\n",
    "df_n.replace(dict.fromkeys(['구내매점', '단란주점', '주점', '서양음식', '일반한식', '일식회집', '중국음식',  '유흥주점', '칵테일바'], '외식/주점'), inplace=True)\n",
    "df_n.replace(dict.fromkeys(['세탁소', '애완동물', '화원', '침구수예점', '성인용품점', '가전제품', '기타가구', '조명기구', '민예공예품', '주방용식기', '기타전기제품', '소프트웨어', '주방용구', '카페트커텐천막', '컴퓨터', '카메라', '일반가구', '정수기', '철제가구', '시계', '안경', '사우나', '안마스포츠마사지', '사진관', '인테리어', 'CATV'], '생활/기타'), inplace=True)\n",
    "df_n.replace(dict.fromkeys(['완구점', '화방표구점', '문구용품', '일반서적', '출판인쇄물', '기타사무용', '사무기기', '전문서적', '정기간행물', '기타서적문구', '서적출판(회원제형태)'], '서점/문구'), inplace=True)\n",
    "df_n.replace(dict.fromkeys(['기타보험', '손해보험'], '금융'), inplace=True)\n",
    "df_n.replace(dict.fromkeys(['기념품점', '기타숙박업', '특급호텔', '2급호텔', '1급호텔', '콘도', '렌트카', '관광여행', '항공사', '여객선', '면세점'], '여행/숙박'), inplace=True)\n",
    "df_n.replace(dict.fromkeys(['레져용품수리', '스포츠레져용품', '골프용품', '노래방', '당구장', '골프경기장', '볼링장', '골프연습장', '헬스크럽', '레져업소(회원제형태)', '기타레져업', '종합레져타운', '수영장', '테니스장', '기타회원제형태업소', ], '레저/스포츠'), inplace=True)\n",
    "df_n.replace(dict.fromkeys(['유아원', '독서실', '보습학원', '기능학원', '기타교육', '외국어학원', '학원(회원제형태)', '예체능학원', '컴퓨터학원', '대학등록금', '학습지교육', '초중고교육기관'], '교육/육아'), inplace=True)\n",
    "df_n.replace(dict.fromkeys(['주유소', '자동차정비', 'LPG', '세차장', '유류판매', '이륜차판매', '윤활유전문판매', '자동차시트타이어', '중고자동차', '수입자동차', '자동차부품', '주차장', '기타자동차서비스', '카인테리어', ], '주유/자동차'), inplace=True)\n",
    "df_n.replace(dict.fromkeys(['약국', '종합병원', '기타의료기관및기기', '한약방', '제약회사', '의료용품', '건강진단', '한의원', '동물병원', '의원', '치과의원', '병원', '산후조리원', '치과병원'], '의료'), inplace=True)\n",
    "df_n.replace(dict.fromkeys(['목재석재철물', '건축요업품', '골동품점', '기계공구', '기타건축자재', '보일러펌프', '페인트', '냉열기기', '유리', '과학기자재', '기타광학품', '기타연료', '중장비수리', ], '건설/제조'), inplace=True)\n",
    "df_n.replace(dict.fromkeys(['기타농업관련', '비료농약사료종자', '농기계', '미곡상'], '농업'), inplace=True)\n",
    "df_n.replace(dict.fromkeys(['사무서비스', '기타대인서비스', '화물운송', '보관창고업', '종합용역', '조세서비스', '가례서비스', '공공요금', '위탁급식업', '기타용역서비스', '기타수리서비스', '기타운송', '가정용품수리', '견인서비스', '부동산중개임대', '부동산분양', '신변잡화수리', '사무통신기기수리', '법률회계서비스', '사무서비스(회원제형태)', '정보서비스', '기타업종', '기타비영리유통'], '서비스/기타'), inplace=True)\n"
   ]
  },
  {
   "cell_type": "code",
   "execution_count": 38,
   "metadata": {},
   "outputs": [],
   "source": [
    "df_n['s_Type'] = df['Type']"
   ]
  },
  {
   "cell_type": "code",
   "execution_count": 39,
   "metadata": {},
   "outputs": [
    {
     "data": {
      "text/plain": [
       "18"
      ]
     },
     "execution_count": 39,
     "metadata": {},
     "output_type": "execute_result"
    }
   ],
   "source": [
    "len(df_n.Type.unique())"
   ]
  },
  {
   "cell_type": "markdown",
   "metadata": {},
   "source": [
    "**규모별 분석**\n",
    "\n",
    "- 재난지원금/총매출의 비율로 보았을 때, 비교적 균일하게 재난지원금이 소비되었다.\n",
    "- 영세/소상공인이 주 타겟층이었던 재난지원금의 목적을 생각했을 때 다소 아쉽다고 생각할 수 있을 듯 하다"
   ]
  },
  {
   "cell_type": "code",
   "execution_count": 40,
   "metadata": {
    "scrolled": true
   },
   "outputs": [],
   "source": [
    "df_FranClass_Spent = df_n.groupby('FranClass').sum()[['TotalSpent','DisSpent']].reindex(index=['영세','중소','중소1','중소2','일반'])\n",
    "df_FranClass_Spent= df_FranClass_Spent.reset_index()\n",
    "df_FranClass_Spent['percent']=df_FranClass_Spent.DisSpent / df_FranClass_Spent.TotalSpent *100"
   ]
  },
  {
   "cell_type": "code",
   "execution_count": 43,
   "metadata": {},
   "outputs": [
    {
     "data": {
      "image/png": "[encoded data removed]",
      "text/plain": [
       "<Figure size 576x360 with 1 Axes>"
      ]
     },
     "metadata": {
      "needs_background": "light"
     },
     "output_type": "display_data"
    }
   ],
   "source": [
    "# 절대적 금액\n",
    "\n",
    "f=plt.figure(figsize=(8,5))\n",
    "sns.barplot(x='FranClass',y='DisSpent',data=df_FranClass_Spent,palette=pal)\n",
    "plt.xlabel('')\n",
    "plt.ylabel('재난지원금 (단위:100억원)',fontsize=12)\n",
    "plt.xticks([0,1,2,3,4],['영세','중소','중소1','중소2','일반(대형)'],fontsize=13)\n",
    "plt.title('규모별 재난지원금 소비금액(\\)',fontsize=17,pad=16)\n",
    "\n",
    "plt.show()"
   ]
  },
  {
   "cell_type": "code",
   "execution_count": 44,
   "metadata": {
    "scrolled": true
   },
   "outputs": [
    {
     "data": {
      "image/png": "[encoded data removed]",
      "text/plain": [
       "<Figure size 576x360 with 1 Axes>"
      ]
     },
     "metadata": {
      "needs_background": "light"
     },
     "output_type": "display_data"
    }
   ],
   "source": [
    "# 균일함\n",
    "\n",
    "plt.figure(figsize=(8,5))\n",
    "sns.barplot(x='FranClass',y='percent',data=df_FranClass_Spent,palette=pal2)\n",
    "plt.xlabel('')\n",
    "plt.ylabel('재난지원금(%)',fontsize=13)\n",
    "plt.xticks([0,1,2,3,4],['영세','중소','중소1','중소2','일반(대형)'],fontsize=13)\n",
    "plt.title('규모별 재난지원금 사용금액 비율(%)',fontsize=17,pad=16)\n",
    "\n",
    "\n",
    "plt.show()"
   ]
  },
  {
   "cell_type": "markdown",
   "metadata": {},
   "source": [
    "### 추가적인 분석"
   ]
  },
  {
   "cell_type": "markdown",
   "metadata": {},
   "source": [
    "- 시간"
   ]
  },
  {
   "cell_type": "code",
   "execution_count": 59,
   "metadata": {},
   "outputs": [
    {
     "data": {
      "text/html": [
       "<div>\n",
       "<style scoped>\n",
       "    .dataframe tbody tr th:only-of-type {\n",
       "        vertical-align: middle;\n",
       "    }\n",
       "\n",
       "    .dataframe tbody tr th {\n",
       "        vertical-align: top;\n",
       "    }\n",
       "\n",
       "    .dataframe thead th {\n",
       "        text-align: right;\n",
       "    }\n",
       "</style>\n",
       "<table border=\"1\" class=\"dataframe\">\n",
       "  <thead>\n",
       "    <tr style=\"text-align: right;\">\n",
       "      <th></th>\n",
       "      <th>TotalSpent</th>\n",
       "      <th>DisSpent</th>\n",
       "    </tr>\n",
       "    <tr>\n",
       "      <th>DayNight</th>\n",
       "      <th></th>\n",
       "      <th></th>\n",
       "    </tr>\n",
       "  </thead>\n",
       "  <tbody>\n",
       "    <tr>\n",
       "      <th>무승인거래</th>\n",
       "      <td>23090474467</td>\n",
       "      <td>0</td>\n",
       "    </tr>\n",
       "    <tr>\n",
       "      <th>새벽</th>\n",
       "      <td>8699318176</td>\n",
       "      <td>203429085</td>\n",
       "    </tr>\n",
       "    <tr>\n",
       "      <th>오전</th>\n",
       "      <td>95017272262</td>\n",
       "      <td>4477420182</td>\n",
       "    </tr>\n",
       "    <tr>\n",
       "      <th>점심</th>\n",
       "      <td>205893556695</td>\n",
       "      <td>10810991447</td>\n",
       "    </tr>\n",
       "    <tr>\n",
       "      <th>오후</th>\n",
       "      <td>152325122723</td>\n",
       "      <td>8649468672</td>\n",
       "    </tr>\n",
       "    <tr>\n",
       "      <th>저녁</th>\n",
       "      <td>172645850691</td>\n",
       "      <td>10200210490</td>\n",
       "    </tr>\n",
       "    <tr>\n",
       "      <th>심야</th>\n",
       "      <td>42754415447</td>\n",
       "      <td>1392136771</td>\n",
       "    </tr>\n",
       "  </tbody>\n",
       "</table>\n",
       "</div>"
      ],
      "text/plain": [
       "            TotalSpent     DisSpent\n",
       "DayNight                           \n",
       "무승인거래      23090474467            0\n",
       "새벽          8699318176    203429085\n",
       "오전         95017272262   4477420182\n",
       "점심        205893556695  10810991447\n",
       "오후        152325122723   8649468672\n",
       "저녁        172645850691  10200210490\n",
       "심야         42754415447   1392136771"
      ]
     },
     "execution_count": 59,
     "metadata": {},
     "output_type": "execute_result"
    }
   ],
   "source": [
    "time_spent = df_n.groupby('DayNight').sum()[['TotalSpent','DisSpent']].reindex(index=['무승인거래','새벽','오전','점심','오후','저녁','심야'])\n",
    "time_spent"
   ]
  },
  {
   "cell_type": "code",
   "execution_count": 71,
   "metadata": {},
   "outputs": [
    {
     "data": {
      "image/png": "[encoded data removed]",
      "text/plain": [
       "<Figure size 720x432 with 1 Axes>"
      ]
     },
     "metadata": {
      "needs_background": "light"
     },
     "output_type": "display_data"
    }
   ],
   "source": [
    "plt.figure(figsize=(10,6))\n",
    "sns.barplot(x=time_spent.index, y=time_spent.DisSpent, palette=pal)\n",
    "plt.xlabel('')\n",
    "plt.xticks([0,1,2,3,4,5,6],['무승인거래','새벽','오전','점심','오후','저녁','심야'],fontsize=13)\n",
    "plt.ylabel('재난지원금 (단위:100억)',fontsize=13)\n",
    "plt.title('시간에 따른 재난지원금 소비 추이',fontsize=17, pad=15)\n",
    "plt.show()"
   ]
  },
  {
   "cell_type": "markdown",
   "metadata": {},
   "source": [
    "- 규모"
   ]
  },
  {
   "cell_type": "code",
   "execution_count": 127,
   "metadata": {},
   "outputs": [],
   "source": [
    "order=[]\n",
    "\n",
    "for i in ['무승인거래','새벽','오전','점심','오후','저녁','심야']:\n",
    "    for j in ['영세','중소','일반']:\n",
    "        order.append((i,j))"
   ]
  },
  {
   "cell_type": "code",
   "execution_count": 128,
   "metadata": {},
   "outputs": [
    {
     "data": {
      "text/html": [
       "<div>\n",
       "<style scoped>\n",
       "    .dataframe tbody tr th:only-of-type {\n",
       "        vertical-align: middle;\n",
       "    }\n",
       "\n",
       "    .dataframe tbody tr th {\n",
       "        vertical-align: top;\n",
       "    }\n",
       "\n",
       "    .dataframe thead th {\n",
       "        text-align: right;\n",
       "    }\n",
       "</style>\n",
       "<table border=\"1\" class=\"dataframe\">\n",
       "  <thead>\n",
       "    <tr style=\"text-align: right;\">\n",
       "      <th></th>\n",
       "      <th>DayNight</th>\n",
       "      <th>FranClass</th>\n",
       "      <th>TotalSpent</th>\n",
       "      <th>DisSpent</th>\n",
       "      <th>Total_per</th>\n",
       "      <th>dis_per</th>\n",
       "    </tr>\n",
       "  </thead>\n",
       "  <tbody>\n",
       "    <tr>\n",
       "      <th>0</th>\n",
       "      <td>무승인거래</td>\n",
       "      <td>영세</td>\n",
       "      <td>6099118967</td>\n",
       "      <td>0</td>\n",
       "      <td></td>\n",
       "      <td></td>\n",
       "    </tr>\n",
       "    <tr>\n",
       "      <th>1</th>\n",
       "      <td>무승인거래</td>\n",
       "      <td>중소</td>\n",
       "      <td>8095776230</td>\n",
       "      <td>0</td>\n",
       "      <td></td>\n",
       "      <td></td>\n",
       "    </tr>\n",
       "    <tr>\n",
       "      <th>2</th>\n",
       "      <td>무승인거래</td>\n",
       "      <td>일반</td>\n",
       "      <td>8895579270</td>\n",
       "      <td>0</td>\n",
       "      <td></td>\n",
       "      <td></td>\n",
       "    </tr>\n",
       "    <tr>\n",
       "      <th>3</th>\n",
       "      <td>새벽</td>\n",
       "      <td>영세</td>\n",
       "      <td>3189930092</td>\n",
       "      <td>53633380</td>\n",
       "      <td></td>\n",
       "      <td></td>\n",
       "    </tr>\n",
       "    <tr>\n",
       "      <th>4</th>\n",
       "      <td>새벽</td>\n",
       "      <td>중소</td>\n",
       "      <td>3661085426</td>\n",
       "      <td>101914072</td>\n",
       "      <td></td>\n",
       "      <td></td>\n",
       "    </tr>\n",
       "    <tr>\n",
       "      <th>5</th>\n",
       "      <td>새벽</td>\n",
       "      <td>일반</td>\n",
       "      <td>1848302658</td>\n",
       "      <td>47881633</td>\n",
       "      <td></td>\n",
       "      <td></td>\n",
       "    </tr>\n",
       "    <tr>\n",
       "      <th>6</th>\n",
       "      <td>오전</td>\n",
       "      <td>영세</td>\n",
       "      <td>12735668813</td>\n",
       "      <td>615069768</td>\n",
       "      <td></td>\n",
       "      <td></td>\n",
       "    </tr>\n",
       "    <tr>\n",
       "      <th>7</th>\n",
       "      <td>오전</td>\n",
       "      <td>중소</td>\n",
       "      <td>30906614810</td>\n",
       "      <td>1613800220</td>\n",
       "      <td></td>\n",
       "      <td></td>\n",
       "    </tr>\n",
       "    <tr>\n",
       "      <th>8</th>\n",
       "      <td>오전</td>\n",
       "      <td>일반</td>\n",
       "      <td>51374988639</td>\n",
       "      <td>2248550194</td>\n",
       "      <td></td>\n",
       "      <td></td>\n",
       "    </tr>\n",
       "    <tr>\n",
       "      <th>9</th>\n",
       "      <td>점심</td>\n",
       "      <td>영세</td>\n",
       "      <td>44913999447</td>\n",
       "      <td>2669863677</td>\n",
       "      <td></td>\n",
       "      <td></td>\n",
       "    </tr>\n",
       "    <tr>\n",
       "      <th>10</th>\n",
       "      <td>점심</td>\n",
       "      <td>중소</td>\n",
       "      <td>68397562796</td>\n",
       "      <td>3854046051</td>\n",
       "      <td></td>\n",
       "      <td></td>\n",
       "    </tr>\n",
       "    <tr>\n",
       "      <th>11</th>\n",
       "      <td>점심</td>\n",
       "      <td>일반</td>\n",
       "      <td>92581994452</td>\n",
       "      <td>4287081719</td>\n",
       "      <td></td>\n",
       "      <td></td>\n",
       "    </tr>\n",
       "    <tr>\n",
       "      <th>12</th>\n",
       "      <td>오후</td>\n",
       "      <td>영세</td>\n",
       "      <td>28675610373</td>\n",
       "      <td>1900609202</td>\n",
       "      <td></td>\n",
       "      <td></td>\n",
       "    </tr>\n",
       "    <tr>\n",
       "      <th>13</th>\n",
       "      <td>오후</td>\n",
       "      <td>중소</td>\n",
       "      <td>48511494565</td>\n",
       "      <td>2903439627</td>\n",
       "      <td></td>\n",
       "      <td></td>\n",
       "    </tr>\n",
       "    <tr>\n",
       "      <th>14</th>\n",
       "      <td>오후</td>\n",
       "      <td>일반</td>\n",
       "      <td>75138017785</td>\n",
       "      <td>3845419843</td>\n",
       "      <td></td>\n",
       "      <td></td>\n",
       "    </tr>\n",
       "    <tr>\n",
       "      <th>15</th>\n",
       "      <td>저녁</td>\n",
       "      <td>영세</td>\n",
       "      <td>44380347521</td>\n",
       "      <td>2749276351</td>\n",
       "      <td></td>\n",
       "      <td></td>\n",
       "    </tr>\n",
       "    <tr>\n",
       "      <th>16</th>\n",
       "      <td>저녁</td>\n",
       "      <td>중소</td>\n",
       "      <td>66521102287</td>\n",
       "      <td>3798360854</td>\n",
       "      <td></td>\n",
       "      <td></td>\n",
       "    </tr>\n",
       "    <tr>\n",
       "      <th>17</th>\n",
       "      <td>저녁</td>\n",
       "      <td>일반</td>\n",
       "      <td>61744400883</td>\n",
       "      <td>3652573285</td>\n",
       "      <td></td>\n",
       "      <td></td>\n",
       "    </tr>\n",
       "    <tr>\n",
       "      <th>18</th>\n",
       "      <td>심야</td>\n",
       "      <td>영세</td>\n",
       "      <td>16720188525</td>\n",
       "      <td>492727092</td>\n",
       "      <td></td>\n",
       "      <td></td>\n",
       "    </tr>\n",
       "    <tr>\n",
       "      <th>19</th>\n",
       "      <td>심야</td>\n",
       "      <td>중소</td>\n",
       "      <td>16338094764</td>\n",
       "      <td>557129460</td>\n",
       "      <td></td>\n",
       "      <td></td>\n",
       "    </tr>\n",
       "    <tr>\n",
       "      <th>20</th>\n",
       "      <td>심야</td>\n",
       "      <td>일반</td>\n",
       "      <td>9696132158</td>\n",
       "      <td>342280219</td>\n",
       "      <td></td>\n",
       "      <td></td>\n",
       "    </tr>\n",
       "  </tbody>\n",
       "</table>\n",
       "</div>"
      ],
      "text/plain": [
       "   DayNight FranClass   TotalSpent    DisSpent Total_per dis_per\n",
       "0     무승인거래        영세   6099118967           0                  \n",
       "1     무승인거래        중소   8095776230           0                  \n",
       "2     무승인거래        일반   8895579270           0                  \n",
       "3        새벽        영세   3189930092    53633380                  \n",
       "4        새벽        중소   3661085426   101914072                  \n",
       "5        새벽        일반   1848302658    47881633                  \n",
       "6        오전        영세  12735668813   615069768                  \n",
       "7        오전        중소  30906614810  1613800220                  \n",
       "8        오전        일반  51374988639  2248550194                  \n",
       "9        점심        영세  44913999447  2669863677                  \n",
       "10       점심        중소  68397562796  3854046051                  \n",
       "11       점심        일반  92581994452  4287081719                  \n",
       "12       오후        영세  28675610373  1900609202                  \n",
       "13       오후        중소  48511494565  2903439627                  \n",
       "14       오후        일반  75138017785  3845419843                  \n",
       "15       저녁        영세  44380347521  2749276351                  \n",
       "16       저녁        중소  66521102287  3798360854                  \n",
       "17       저녁        일반  61744400883  3652573285                  \n",
       "18       심야        영세  16720188525   492727092                  \n",
       "19       심야        중소  16338094764   557129460                  \n",
       "20       심야        일반   9696132158   342280219                  "
      ]
     },
     "execution_count": 128,
     "metadata": {},
     "output_type": "execute_result"
    }
   ],
   "source": [
    "time_fran = df_n2.groupby(['DayNight','FranClass']).sum()[['TotalSpent','DisSpent']].reindex(index=order)\n",
    "time_fran = time_fran.reset_index()\n",
    "time_fran['Total_per']=''\n",
    "time_fran['dis_per']=''\n",
    "time_fran"
   ]
  },
  {
   "cell_type": "code",
   "execution_count": 117,
   "metadata": {},
   "outputs": [
    {
     "data": {
      "text/html": [
       "<div>\n",
       "<style scoped>\n",
       "    .dataframe tbody tr th:only-of-type {\n",
       "        vertical-align: middle;\n",
       "    }\n",
       "\n",
       "    .dataframe tbody tr th {\n",
       "        vertical-align: top;\n",
       "    }\n",
       "\n",
       "    .dataframe thead th {\n",
       "        text-align: right;\n",
       "    }\n",
       "</style>\n",
       "<table border=\"1\" class=\"dataframe\">\n",
       "  <thead>\n",
       "    <tr style=\"text-align: right;\">\n",
       "      <th></th>\n",
       "      <th>FranClass</th>\n",
       "      <th>TotalSpent</th>\n",
       "      <th>DisSpent</th>\n",
       "      <th>percent</th>\n",
       "    </tr>\n",
       "  </thead>\n",
       "  <tbody>\n",
       "    <tr>\n",
       "      <th>0</th>\n",
       "      <td>영세</td>\n",
       "      <td>156714863738</td>\n",
       "      <td>8481179470</td>\n",
       "      <td>5.411854</td>\n",
       "    </tr>\n",
       "    <tr>\n",
       "      <th>1</th>\n",
       "      <td>중소</td>\n",
       "      <td>242431730878</td>\n",
       "      <td>12828690284</td>\n",
       "      <td>5.291671</td>\n",
       "    </tr>\n",
       "    <tr>\n",
       "      <th>2</th>\n",
       "      <td>일반</td>\n",
       "      <td>301279415845</td>\n",
       "      <td>14423786893</td>\n",
       "      <td>4.787512</td>\n",
       "    </tr>\n",
       "  </tbody>\n",
       "</table>\n",
       "</div>"
      ],
      "text/plain": [
       "  FranClass    TotalSpent     DisSpent   percent\n",
       "0        영세  156714863738   8481179470  5.411854\n",
       "1        중소  242431730878  12828690284  5.291671\n",
       "2        일반  301279415845  14423786893  4.787512"
      ]
     },
     "execution_count": 117,
     "metadata": {},
     "output_type": "execute_result"
    }
   ],
   "source": [
    "df_FranClass_Spent = df_n2.groupby('FranClass').sum()[['TotalSpent','DisSpent']].reindex(index=['영세','중소','일반'])\n",
    "df_FranClass_Spent= df_FranClass_Spent.reset_index()\n",
    "df_FranClass_Spent['percent']=df_FranClass_Spent.DisSpent / df_FranClass_Spent.TotalSpent *100\n",
    "df_FranClass_Spent"
   ]
  },
  {
   "cell_type": "code",
   "execution_count": 48,
   "metadata": {},
   "outputs": [
    {
     "data": {
      "text/html": [
       "<div>\n",
       "<style scoped>\n",
       "    .dataframe tbody tr th:only-of-type {\n",
       "        vertical-align: middle;\n",
       "    }\n",
       "\n",
       "    .dataframe tbody tr th {\n",
       "        vertical-align: top;\n",
       "    }\n",
       "\n",
       "    .dataframe thead th {\n",
       "        text-align: right;\n",
       "    }\n",
       "</style>\n",
       "<table border=\"1\" class=\"dataframe\">\n",
       "  <thead>\n",
       "    <tr style=\"text-align: right;\">\n",
       "      <th></th>\n",
       "      <th>DayNight</th>\n",
       "      <th>FranClass</th>\n",
       "      <th>TotalSpent</th>\n",
       "      <th>DisSpent</th>\n",
       "      <th>Total_per</th>\n",
       "      <th>dis_per</th>\n",
       "    </tr>\n",
       "  </thead>\n",
       "  <tbody>\n",
       "    <tr>\n",
       "      <th>4</th>\n",
       "      <td>무승인거래</td>\n",
       "      <td>일반</td>\n",
       "      <td>8895579270</td>\n",
       "      <td>0</td>\n",
       "      <td></td>\n",
       "      <td></td>\n",
       "    </tr>\n",
       "    <tr>\n",
       "      <th>9</th>\n",
       "      <td>새벽</td>\n",
       "      <td>일반</td>\n",
       "      <td>1848302658</td>\n",
       "      <td>47881633</td>\n",
       "      <td></td>\n",
       "      <td></td>\n",
       "    </tr>\n",
       "    <tr>\n",
       "      <th>14</th>\n",
       "      <td>오전</td>\n",
       "      <td>일반</td>\n",
       "      <td>51374988639</td>\n",
       "      <td>2248550194</td>\n",
       "      <td></td>\n",
       "      <td></td>\n",
       "    </tr>\n",
       "    <tr>\n",
       "      <th>19</th>\n",
       "      <td>점심</td>\n",
       "      <td>일반</td>\n",
       "      <td>92581994452</td>\n",
       "      <td>4287081719</td>\n",
       "      <td></td>\n",
       "      <td></td>\n",
       "    </tr>\n",
       "    <tr>\n",
       "      <th>24</th>\n",
       "      <td>오후</td>\n",
       "      <td>일반</td>\n",
       "      <td>75138017785</td>\n",
       "      <td>3845419843</td>\n",
       "      <td></td>\n",
       "      <td></td>\n",
       "    </tr>\n",
       "    <tr>\n",
       "      <th>29</th>\n",
       "      <td>저녁</td>\n",
       "      <td>일반</td>\n",
       "      <td>61744400883</td>\n",
       "      <td>3652573285</td>\n",
       "      <td></td>\n",
       "      <td></td>\n",
       "    </tr>\n",
       "    <tr>\n",
       "      <th>34</th>\n",
       "      <td>심야</td>\n",
       "      <td>일반</td>\n",
       "      <td>9696132158</td>\n",
       "      <td>342280219</td>\n",
       "      <td></td>\n",
       "      <td></td>\n",
       "    </tr>\n",
       "  </tbody>\n",
       "</table>\n",
       "</div>"
      ],
      "text/plain": [
       "   DayNight FranClass   TotalSpent    DisSpent Total_per dis_per\n",
       "4     무승인거래        일반   8895579270           0                  \n",
       "9        새벽        일반   1848302658    47881633                  \n",
       "14       오전        일반  51374988639  2248550194                  \n",
       "19       점심        일반  92581994452  4287081719                  \n",
       "24       오후        일반  75138017785  3845419843                  \n",
       "29       저녁        일반  61744400883  3652573285                  \n",
       "34       심야        일반   9696132158   342280219                  "
      ]
     },
     "execution_count": 48,
     "metadata": {},
     "output_type": "execute_result"
    }
   ],
   "source": [
    "time_fran[time_fran.FranClass=='일반']"
   ]
  },
  {
   "cell_type": "code",
   "execution_count": 49,
   "metadata": {},
   "outputs": [
    {
     "data": {
      "text/plain": [
       "0    156714863738\n",
       "Name: TotalSpent, dtype: int64"
      ]
     },
     "execution_count": 49,
     "metadata": {},
     "output_type": "execute_result"
    }
   ],
   "source": [
    "df_FranClass_Spent[df_FranClass_Spent.FranClass=='영세']['TotalSpent']"
   ]
  },
  {
   "cell_type": "code",
   "execution_count": 129,
   "metadata": {},
   "outputs": [],
   "source": [
    "count=0\n",
    "for i, df in time_fran.iterrows():\n",
    "    X = df.TotalSpent / df_FranClass_Spent[df_FranClass_Spent.FranClass==df.FranClass]['TotalSpent'] * 100\n",
    "    Y = df.DisSpent / df_FranClass_Spent[df_FranClass_Spent.FranClass==df.FranClass]['DisSpent'] * 100\n",
    "    time_fran.iloc[i,4]=X\n",
    "    time_fran.iloc[i,5]=Y"
   ]
  },
  {
   "cell_type": "code",
   "execution_count": 130,
   "metadata": {},
   "outputs": [
    {
     "data": {
      "text/html": [
       "<div>\n",
       "<style scoped>\n",
       "    .dataframe tbody tr th:only-of-type {\n",
       "        vertical-align: middle;\n",
       "    }\n",
       "\n",
       "    .dataframe tbody tr th {\n",
       "        vertical-align: top;\n",
       "    }\n",
       "\n",
       "    .dataframe thead th {\n",
       "        text-align: right;\n",
       "    }\n",
       "</style>\n",
       "<table border=\"1\" class=\"dataframe\">\n",
       "  <thead>\n",
       "    <tr style=\"text-align: right;\">\n",
       "      <th></th>\n",
       "      <th>DayNight</th>\n",
       "      <th>FranClass</th>\n",
       "      <th>TotalSpent</th>\n",
       "      <th>DisSpent</th>\n",
       "      <th>Total_per</th>\n",
       "      <th>dis_per</th>\n",
       "    </tr>\n",
       "  </thead>\n",
       "  <tbody>\n",
       "    <tr>\n",
       "      <th>0</th>\n",
       "      <td>무승인거래</td>\n",
       "      <td>영세</td>\n",
       "      <td>6099118967</td>\n",
       "      <td>0</td>\n",
       "      <td>3.891857</td>\n",
       "      <td>0.0</td>\n",
       "    </tr>\n",
       "    <tr>\n",
       "      <th>1</th>\n",
       "      <td>무승인거래</td>\n",
       "      <td>중소</td>\n",
       "      <td>8095776230</td>\n",
       "      <td>0</td>\n",
       "      <td>3.339405</td>\n",
       "      <td>0.0</td>\n",
       "    </tr>\n",
       "    <tr>\n",
       "      <th>2</th>\n",
       "      <td>무승인거래</td>\n",
       "      <td>일반</td>\n",
       "      <td>8895579270</td>\n",
       "      <td>0</td>\n",
       "      <td>2.952601</td>\n",
       "      <td>0.0</td>\n",
       "    </tr>\n",
       "    <tr>\n",
       "      <th>3</th>\n",
       "      <td>새벽</td>\n",
       "      <td>영세</td>\n",
       "      <td>3189930092</td>\n",
       "      <td>53633380</td>\n",
       "      <td>2.035499</td>\n",
       "      <td>0.632381</td>\n",
       "    </tr>\n",
       "    <tr>\n",
       "      <th>4</th>\n",
       "      <td>새벽</td>\n",
       "      <td>중소</td>\n",
       "      <td>3661085426</td>\n",
       "      <td>101914072</td>\n",
       "      <td>1.510151</td>\n",
       "      <td>0.794423</td>\n",
       "    </tr>\n",
       "  </tbody>\n",
       "</table>\n",
       "</div>"
      ],
      "text/plain": [
       "  DayNight FranClass  TotalSpent   DisSpent Total_per   dis_per\n",
       "0    무승인거래        영세  6099118967          0  3.891857       0.0\n",
       "1    무승인거래        중소  8095776230          0  3.339405       0.0\n",
       "2    무승인거래        일반  8895579270          0  2.952601       0.0\n",
       "3       새벽        영세  3189930092   53633380  2.035499  0.632381\n",
       "4       새벽        중소  3661085426  101914072  1.510151  0.794423"
      ]
     },
     "execution_count": 130,
     "metadata": {},
     "output_type": "execute_result"
    }
   ],
   "source": [
    "time_fran.head()"
   ]
  },
  {
   "cell_type": "code",
   "execution_count": 131,
   "metadata": {
    "scrolled": false
   },
   "outputs": [
    {
     "data": {
      "image/png": "[encoded data removed]",
      "text/plain": [
       "<Figure size 1080x288 with 2 Axes>"
      ]
     },
     "metadata": {
      "needs_background": "light"
     },
     "output_type": "display_data"
    },
    {
     "data": {
      "image/png": "[encoded data removed]",
      "text/plain": [
       "<Figure size 1080x288 with 2 Axes>"
      ]
     },
     "metadata": {
      "needs_background": "light"
     },
     "output_type": "display_data"
    },
    {
     "data": {
      "image/png": "[encoded data removed]",
      "text/plain": [
       "<Figure size 1080x288 with 2 Axes>"
      ]
     },
     "metadata": {
      "needs_background": "light"
     },
     "output_type": "display_data"
    }
   ],
   "source": [
    "for fran in ['영세','중소','일반']:\n",
    "    f = plt.figure(figsize=(15,4))\n",
    "    ax1 = f.add_subplot(121)\n",
    "    ax2 = f.add_subplot(122)\n",
    "    \n",
    "    sns.barplot(x='DayNight',y='Total_per',data=time_fran[time_fran.FranClass==fran],ax=ax1,palette=pal)\n",
    "    ax1.set_title('총소비_{}'.format(fran))\n",
    "    ax1.set_ylabel('총소비(%)')\n",
    "    ax1.set_xlabel('')\n",
    "    \n",
    "    sns.barplot(x='DayNight',y='dis_per',data=time_fran[time_fran.FranClass==fran],ax=ax2,palette=pal2)\n",
    "    ax2.set_title('재난지원금 소비금액_{}'.format(fran))\n",
    "    ax2.set_ylabel('재난지원금(%)')\n",
    "    ax2.set_xlabel('')\n",
    "    \n",
    "    plt.show()\n",
    "\n",
    "# 총 소비와 재난지원금 소비 추이가 크게 다르지 않음\n",
    "# 비율로 봐야 좋을듯\n",
    "\n",
    "# 총 소비금액\n",
    "# 영세: 외식 비율 압도적: 점심/저녁에 소비 집중\n",
    "# 중소: 매출 규모가 커질 수록 마트/편의점 비중이 커져서 점심/저녁 집중 비중 낮아짐\n",
    "# 일반: 여행/숙박, 자동차업으로 오후가 저녁을 능가\n",
    "\n",
    "# 재난지원금 금액\n",
    "# 영세: 외식 비율 높음\n",
    "# 중소: 총 소비금액보다 마트/편의점 비율이 높음\n",
    "# 일반: 마트/편의점에 집중, 여행/숙박 등의 타 업종에 재난지원금 사용 제한 덕분"
   ]
  },
  {
   "cell_type": "code",
   "execution_count": 145,
   "metadata": {},
   "outputs": [
    {
     "data": {
      "text/html": [
       "<div>\n",
       "<style scoped>\n",
       "    .dataframe tbody tr th:only-of-type {\n",
       "        vertical-align: middle;\n",
       "    }\n",
       "\n",
       "    .dataframe tbody tr th {\n",
       "        vertical-align: top;\n",
       "    }\n",
       "\n",
       "    .dataframe thead th {\n",
       "        text-align: right;\n",
       "    }\n",
       "</style>\n",
       "<table border=\"1\" class=\"dataframe\">\n",
       "  <thead>\n",
       "    <tr style=\"text-align: right;\">\n",
       "      <th></th>\n",
       "      <th>DayNight</th>\n",
       "      <th>FranClass</th>\n",
       "      <th>TotalSpent</th>\n",
       "      <th>DisSpent</th>\n",
       "      <th>Total_per</th>\n",
       "      <th>dis_per</th>\n",
       "    </tr>\n",
       "  </thead>\n",
       "  <tbody>\n",
       "    <tr>\n",
       "      <th>3</th>\n",
       "      <td>새벽</td>\n",
       "      <td>영세</td>\n",
       "      <td>3189930092</td>\n",
       "      <td>53633380</td>\n",
       "      <td>2.035499</td>\n",
       "      <td>0.632381</td>\n",
       "    </tr>\n",
       "    <tr>\n",
       "      <th>4</th>\n",
       "      <td>새벽</td>\n",
       "      <td>중소</td>\n",
       "      <td>3661085426</td>\n",
       "      <td>101914072</td>\n",
       "      <td>1.510151</td>\n",
       "      <td>0.794423</td>\n",
       "    </tr>\n",
       "    <tr>\n",
       "      <th>5</th>\n",
       "      <td>새벽</td>\n",
       "      <td>일반</td>\n",
       "      <td>1848302658</td>\n",
       "      <td>47881633</td>\n",
       "      <td>0.613485</td>\n",
       "      <td>0.331963</td>\n",
       "    </tr>\n",
       "    <tr>\n",
       "      <th>6</th>\n",
       "      <td>오전</td>\n",
       "      <td>영세</td>\n",
       "      <td>12735668813</td>\n",
       "      <td>615069768</td>\n",
       "      <td>8.12665</td>\n",
       "      <td>7.252173</td>\n",
       "    </tr>\n",
       "    <tr>\n",
       "      <th>7</th>\n",
       "      <td>오전</td>\n",
       "      <td>중소</td>\n",
       "      <td>30906614810</td>\n",
       "      <td>1613800220</td>\n",
       "      <td>12.748585</td>\n",
       "      <td>12.579618</td>\n",
       "    </tr>\n",
       "    <tr>\n",
       "      <th>8</th>\n",
       "      <td>오전</td>\n",
       "      <td>일반</td>\n",
       "      <td>51374988639</td>\n",
       "      <td>2248550194</td>\n",
       "      <td>17.052273</td>\n",
       "      <td>15.589181</td>\n",
       "    </tr>\n",
       "    <tr>\n",
       "      <th>9</th>\n",
       "      <td>점심</td>\n",
       "      <td>영세</td>\n",
       "      <td>44913999447</td>\n",
       "      <td>2669863677</td>\n",
       "      <td>28.659693</td>\n",
       "      <td>31.479863</td>\n",
       "    </tr>\n",
       "    <tr>\n",
       "      <th>10</th>\n",
       "      <td>점심</td>\n",
       "      <td>중소</td>\n",
       "      <td>68397562796</td>\n",
       "      <td>3854046051</td>\n",
       "      <td>28.213123</td>\n",
       "      <td>30.042397</td>\n",
       "    </tr>\n",
       "    <tr>\n",
       "      <th>11</th>\n",
       "      <td>점심</td>\n",
       "      <td>일반</td>\n",
       "      <td>92581994452</td>\n",
       "      <td>4287081719</td>\n",
       "      <td>30.729612</td>\n",
       "      <td>29.722304</td>\n",
       "    </tr>\n",
       "    <tr>\n",
       "      <th>12</th>\n",
       "      <td>오후</td>\n",
       "      <td>영세</td>\n",
       "      <td>28675610373</td>\n",
       "      <td>1900609202</td>\n",
       "      <td>18.297952</td>\n",
       "      <td>22.409727</td>\n",
       "    </tr>\n",
       "    <tr>\n",
       "      <th>13</th>\n",
       "      <td>오후</td>\n",
       "      <td>중소</td>\n",
       "      <td>48511494565</td>\n",
       "      <td>2903439627</td>\n",
       "      <td>20.010373</td>\n",
       "      <td>22.632393</td>\n",
       "    </tr>\n",
       "    <tr>\n",
       "      <th>14</th>\n",
       "      <td>오후</td>\n",
       "      <td>일반</td>\n",
       "      <td>75138017785</td>\n",
       "      <td>3845419843</td>\n",
       "      <td>24.939645</td>\n",
       "      <td>26.660265</td>\n",
       "    </tr>\n",
       "    <tr>\n",
       "      <th>15</th>\n",
       "      <td>저녁</td>\n",
       "      <td>영세</td>\n",
       "      <td>44380347521</td>\n",
       "      <td>2749276351</td>\n",
       "      <td>28.319169</td>\n",
       "      <td>32.416203</td>\n",
       "    </tr>\n",
       "    <tr>\n",
       "      <th>16</th>\n",
       "      <td>저녁</td>\n",
       "      <td>중소</td>\n",
       "      <td>66521102287</td>\n",
       "      <td>3798360854</td>\n",
       "      <td>27.439107</td>\n",
       "      <td>29.608329</td>\n",
       "    </tr>\n",
       "    <tr>\n",
       "      <th>17</th>\n",
       "      <td>저녁</td>\n",
       "      <td>일반</td>\n",
       "      <td>61744400883</td>\n",
       "      <td>3652573285</td>\n",
       "      <td>20.494066</td>\n",
       "      <td>25.323262</td>\n",
       "    </tr>\n",
       "    <tr>\n",
       "      <th>18</th>\n",
       "      <td>심야</td>\n",
       "      <td>영세</td>\n",
       "      <td>16720188525</td>\n",
       "      <td>492727092</td>\n",
       "      <td>10.669178</td>\n",
       "      <td>5.809653</td>\n",
       "    </tr>\n",
       "    <tr>\n",
       "      <th>19</th>\n",
       "      <td>심야</td>\n",
       "      <td>중소</td>\n",
       "      <td>16338094764</td>\n",
       "      <td>557129460</td>\n",
       "      <td>6.739256</td>\n",
       "      <td>4.34284</td>\n",
       "    </tr>\n",
       "    <tr>\n",
       "      <th>20</th>\n",
       "      <td>심야</td>\n",
       "      <td>일반</td>\n",
       "      <td>9696132158</td>\n",
       "      <td>342280219</td>\n",
       "      <td>3.218319</td>\n",
       "      <td>2.373026</td>\n",
       "    </tr>\n",
       "  </tbody>\n",
       "</table>\n",
       "</div>"
      ],
      "text/plain": [
       "   DayNight FranClass   TotalSpent    DisSpent  Total_per    dis_per\n",
       "3        새벽        영세   3189930092    53633380   2.035499   0.632381\n",
       "4        새벽        중소   3661085426   101914072   1.510151   0.794423\n",
       "5        새벽        일반   1848302658    47881633   0.613485   0.331963\n",
       "6        오전        영세  12735668813   615069768    8.12665   7.252173\n",
       "7        오전        중소  30906614810  1613800220  12.748585  12.579618\n",
       "8        오전        일반  51374988639  2248550194  17.052273  15.589181\n",
       "9        점심        영세  44913999447  2669863677  28.659693  31.479863\n",
       "10       점심        중소  68397562796  3854046051  28.213123  30.042397\n",
       "11       점심        일반  92581994452  4287081719  30.729612  29.722304\n",
       "12       오후        영세  28675610373  1900609202  18.297952  22.409727\n",
       "13       오후        중소  48511494565  2903439627  20.010373  22.632393\n",
       "14       오후        일반  75138017785  3845419843  24.939645  26.660265\n",
       "15       저녁        영세  44380347521  2749276351  28.319169  32.416203\n",
       "16       저녁        중소  66521102287  3798360854  27.439107  29.608329\n",
       "17       저녁        일반  61744400883  3652573285  20.494066  25.323262\n",
       "18       심야        영세  16720188525   492727092  10.669178   5.809653\n",
       "19       심야        중소  16338094764   557129460   6.739256    4.34284\n",
       "20       심야        일반   9696132158   342280219   3.218319   2.373026"
      ]
     },
     "execution_count": 145,
     "metadata": {},
     "output_type": "execute_result"
    }
   ],
   "source": [
    "time_fran.iloc[3:]"
   ]
  },
  {
   "cell_type": "code",
   "execution_count": 157,
   "metadata": {},
   "outputs": [
    {
     "data": {
      "image/png": "[encoded data removed]",
      "text/plain": [
       "<Figure size 504x288 with 1 Axes>"
      ]
     },
     "metadata": {
      "needs_background": "light"
     },
     "output_type": "display_data"
    },
    {
     "data": {
      "image/png": "[encoded data removed]",
      "text/plain": [
       "<Figure size 504x288 with 1 Axes>"
      ]
     },
     "metadata": {
      "needs_background": "light"
     },
     "output_type": "display_data"
    },
    {
     "data": {
      "image/png": "[encoded data removed]",
      "text/plain": [
       "<Figure size 504x288 with 1 Axes>"
      ]
     },
     "metadata": {
      "needs_background": "light"
     },
     "output_type": "display_data"
    }
   ],
   "source": [
    "i = 131\n",
    "\n",
    "\n",
    "for fran in ['영세','중소','일반']:\n",
    "    \n",
    "    f = plt.figure(figsize=(7,4))\n",
    "    ax2 = f.add_subplot(111)\n",
    "    \n",
    "    sns.barplot(x='DayNight',y='dis_per',data=time_fran.iloc[3:][time_fran.iloc[3:].FranClass==fran],ax=ax2,palette=pal2)\n",
    "    ax2.set_title('{}'.format(fran),fontsize=13)\n",
    "    ax2.set_ylabel('재난지원금(%)',fontsize=13)\n",
    "    ax2.set_xlabel('')\n",
    "    ax2.set_xticklabels (['새벽','오전','점심','오후','저녁','심야'],fontsize=13)\n",
    "    plt.show()\n",
    "    \n",
    "    \n",
    "\n",
    "\n"
   ]
  },
  {
   "cell_type": "code",
   "execution_count": 53,
   "metadata": {},
   "outputs": [],
   "source": [
    "fran_type = df_n.groupby([\"FranClass\",'Type']).sum()[['TotalSpent','DisSpent']]\n",
    "fran_type= fran_type.sort_values(by=['FranClass','TotalSpent','DisSpent'],ascending=False).reset_index()"
   ]
  },
  {
   "cell_type": "code",
   "execution_count": 72,
   "metadata": {
    "scrolled": false
   },
   "outputs": [
    {
     "data": {
      "image/png": "[encoded data removed]",
      "text/plain": [
       "<Figure size 1080x216 with 1 Axes>"
      ]
     },
     "metadata": {
      "needs_background": "light"
     },
     "output_type": "display_data"
    },
    {
     "data": {
      "image/png": "[encoded data removed]",
      "text/plain": [
       "<Figure size 1080x216 with 1 Axes>"
      ]
     },
     "metadata": {
      "needs_background": "light"
     },
     "output_type": "display_data"
    },
    {
     "data": {
      "image/png": "[encoded data removed]",
      "text/plain": [
       "<Figure size 1080x216 with 1 Axes>"
      ]
     },
     "metadata": {
      "needs_background": "light"
     },
     "output_type": "display_data"
    },
    {
     "data": {
      "image/png": "[encoded data removed]",
      "text/plain": [
       "<Figure size 1080x216 with 1 Axes>"
      ]
     },
     "metadata": {
      "needs_background": "light"
     },
     "output_type": "display_data"
    },
    {
     "data": {
      "image/png": "[encoded data removed]",
      "text/plain": [
       "<Figure size 1080x216 with 1 Axes>"
      ]
     },
     "metadata": {
      "needs_background": "light"
     },
     "output_type": "display_data"
    }
   ],
   "source": [
    "for fran in ['영세','중소','중소1','중소2','일반']:\n",
    "    plt.figure(figsize=(15,3))\n",
    "    sns.barplot(x='Type', y='TotalSpent', data=fran_type[fran_type.FranClass==fran].head(10))\n",
    "    plt.title('{}_총 소비금액'.format(fran))\n",
    "    plt.ylabel('총사용금액')\n",
    "    plt.show()"
   ]
  },
  {
   "cell_type": "code",
   "execution_count": 98,
   "metadata": {
    "scrolled": true
   },
   "outputs": [],
   "source": [
    "df_n2.FranClass=df_n2.FranClass.apply(lambda x:x[:2])"
   ]
  },
  {
   "cell_type": "code",
   "execution_count": 99,
   "metadata": {},
   "outputs": [
    {
     "data": {
      "text/plain": [
       "array(['영세', '중소', '일반'], dtype=object)"
      ]
     },
     "execution_count": 99,
     "metadata": {},
     "output_type": "execute_result"
    }
   ],
   "source": [
    "df_n2.FranClass.unique()"
   ]
  },
  {
   "cell_type": "code",
   "execution_count": 103,
   "metadata": {},
   "outputs": [],
   "source": [
    "fran_type = df_n2.groupby(['FranClass','Type']).sum()[['TotalSpent','DisSpent']].reset_index()"
   ]
  },
  {
   "cell_type": "code",
   "execution_count": 112,
   "metadata": {},
   "outputs": [],
   "source": [
    "fran_type.sort_values(by=['FranClass','DisSpent'],ascending=False,inplace=True)"
   ]
  },
  {
   "cell_type": "code",
   "execution_count": 158,
   "metadata": {},
   "outputs": [
    {
     "data": {
      "text/html": [
       "<div>\n",
       "<style scoped>\n",
       "    .dataframe tbody tr th:only-of-type {\n",
       "        vertical-align: middle;\n",
       "    }\n",
       "\n",
       "    .dataframe tbody tr th {\n",
       "        vertical-align: top;\n",
       "    }\n",
       "\n",
       "    .dataframe thead th {\n",
       "        text-align: right;\n",
       "    }\n",
       "</style>\n",
       "<table border=\"1\" class=\"dataframe\">\n",
       "  <thead>\n",
       "    <tr style=\"text-align: right;\">\n",
       "      <th></th>\n",
       "      <th>FranClass</th>\n",
       "      <th>Type</th>\n",
       "      <th>TotalSpent</th>\n",
       "      <th>DisSpent</th>\n",
       "    </tr>\n",
       "  </thead>\n",
       "  <tbody>\n",
       "    <tr>\n",
       "      <th>48</th>\n",
       "      <td>중소</td>\n",
       "      <td>외식/주점</td>\n",
       "      <td>81438028369</td>\n",
       "      <td>3411731667</td>\n",
       "    </tr>\n",
       "    <tr>\n",
       "      <th>40</th>\n",
       "      <td>중소</td>\n",
       "      <td>마트/편의점(유통)</td>\n",
       "      <td>52363505491</td>\n",
       "      <td>3272148651</td>\n",
       "    </tr>\n",
       "    <tr>\n",
       "      <th>49</th>\n",
       "      <td>중소</td>\n",
       "      <td>의료</td>\n",
       "      <td>23620140353</td>\n",
       "      <td>1639339767</td>\n",
       "    </tr>\n",
       "    <tr>\n",
       "      <th>39</th>\n",
       "      <td>중소</td>\n",
       "      <td>레저/스포츠</td>\n",
       "      <td>10940279445</td>\n",
       "      <td>946026870</td>\n",
       "    </tr>\n",
       "    <tr>\n",
       "      <th>50</th>\n",
       "      <td>중소</td>\n",
       "      <td>주유/자동차</td>\n",
       "      <td>14101166652</td>\n",
       "      <td>896394319</td>\n",
       "    </tr>\n",
       "    <tr>\n",
       "      <th>45</th>\n",
       "      <td>중소</td>\n",
       "      <td>쇼핑/패션</td>\n",
       "      <td>6931142751</td>\n",
       "      <td>647658307</td>\n",
       "    </tr>\n",
       "    <tr>\n",
       "      <th>42</th>\n",
       "      <td>중소</td>\n",
       "      <td>생활/기타</td>\n",
       "      <td>7128818553</td>\n",
       "      <td>609468910</td>\n",
       "    </tr>\n",
       "    <tr>\n",
       "      <th>51</th>\n",
       "      <td>중소</td>\n",
       "      <td>카페/베이커리</td>\n",
       "      <td>10430800899</td>\n",
       "      <td>528828168</td>\n",
       "    </tr>\n",
       "    <tr>\n",
       "      <th>35</th>\n",
       "      <td>중소</td>\n",
       "      <td>건설/제조</td>\n",
       "      <td>4977765146</td>\n",
       "      <td>215813192</td>\n",
       "    </tr>\n",
       "    <tr>\n",
       "      <th>36</th>\n",
       "      <td>중소</td>\n",
       "      <td>교육/육아</td>\n",
       "      <td>14882491475</td>\n",
       "      <td>208328565</td>\n",
       "    </tr>\n",
       "    <tr>\n",
       "      <th>44</th>\n",
       "      <td>중소</td>\n",
       "      <td>서점/문구</td>\n",
       "      <td>2438244044</td>\n",
       "      <td>147909492</td>\n",
       "    </tr>\n",
       "    <tr>\n",
       "      <th>41</th>\n",
       "      <td>중소</td>\n",
       "      <td>뷰티</td>\n",
       "      <td>1431756286</td>\n",
       "      <td>88958647</td>\n",
       "    </tr>\n",
       "    <tr>\n",
       "      <th>38</th>\n",
       "      <td>중소</td>\n",
       "      <td>농업</td>\n",
       "      <td>1400143042</td>\n",
       "      <td>82329609</td>\n",
       "    </tr>\n",
       "    <tr>\n",
       "      <th>43</th>\n",
       "      <td>중소</td>\n",
       "      <td>서비스/기타</td>\n",
       "      <td>2450283839</td>\n",
       "      <td>67050619</td>\n",
       "    </tr>\n",
       "    <tr>\n",
       "      <th>46</th>\n",
       "      <td>중소</td>\n",
       "      <td>여행/숙박</td>\n",
       "      <td>6667489250</td>\n",
       "      <td>47261434</td>\n",
       "    </tr>\n",
       "    <tr>\n",
       "      <th>47</th>\n",
       "      <td>중소</td>\n",
       "      <td>영화/문화</td>\n",
       "      <td>1152365794</td>\n",
       "      <td>15920412</td>\n",
       "    </tr>\n",
       "    <tr>\n",
       "      <th>37</th>\n",
       "      <td>중소</td>\n",
       "      <td>교통/통신</td>\n",
       "      <td>77309489</td>\n",
       "      <td>3521655</td>\n",
       "    </tr>\n",
       "    <tr>\n",
       "      <th>23</th>\n",
       "      <td>일반</td>\n",
       "      <td>마트/편의점(유통)</td>\n",
       "      <td>102110891308</td>\n",
       "      <td>8824833764</td>\n",
       "    </tr>\n",
       "    <tr>\n",
       "      <th>33</th>\n",
       "      <td>일반</td>\n",
       "      <td>주유/자동차</td>\n",
       "      <td>31853226152</td>\n",
       "      <td>1851234186</td>\n",
       "    </tr>\n",
       "    <tr>\n",
       "      <th>31</th>\n",
       "      <td>일반</td>\n",
       "      <td>외식/주점</td>\n",
       "      <td>22545935130</td>\n",
       "      <td>998871049</td>\n",
       "    </tr>\n",
       "    <tr>\n",
       "      <th>32</th>\n",
       "      <td>일반</td>\n",
       "      <td>의료</td>\n",
       "      <td>18882836993</td>\n",
       "      <td>915218114</td>\n",
       "    </tr>\n",
       "    <tr>\n",
       "      <th>28</th>\n",
       "      <td>일반</td>\n",
       "      <td>쇼핑/패션</td>\n",
       "      <td>13914124794</td>\n",
       "      <td>357480018</td>\n",
       "    </tr>\n",
       "    <tr>\n",
       "      <th>22</th>\n",
       "      <td>일반</td>\n",
       "      <td>레저/스포츠</td>\n",
       "      <td>18208335856</td>\n",
       "      <td>282239181</td>\n",
       "    </tr>\n",
       "    <tr>\n",
       "      <th>21</th>\n",
       "      <td>일반</td>\n",
       "      <td>농업</td>\n",
       "      <td>2622597817</td>\n",
       "      <td>231853916</td>\n",
       "    </tr>\n",
       "    <tr>\n",
       "      <th>34</th>\n",
       "      <td>일반</td>\n",
       "      <td>카페/베이커리</td>\n",
       "      <td>2685748108</td>\n",
       "      <td>190335702</td>\n",
       "    </tr>\n",
       "    <tr>\n",
       "      <th>26</th>\n",
       "      <td>일반</td>\n",
       "      <td>서비스/기타</td>\n",
       "      <td>6965558335</td>\n",
       "      <td>177185420</td>\n",
       "    </tr>\n",
       "    <tr>\n",
       "      <th>25</th>\n",
       "      <td>일반</td>\n",
       "      <td>생활/기타</td>\n",
       "      <td>6556351434</td>\n",
       "      <td>165856670</td>\n",
       "    </tr>\n",
       "    <tr>\n",
       "      <th>17</th>\n",
       "      <td>일반</td>\n",
       "      <td>건설/제조</td>\n",
       "      <td>3157007806</td>\n",
       "      <td>138130744</td>\n",
       "    </tr>\n",
       "    <tr>\n",
       "      <th>29</th>\n",
       "      <td>일반</td>\n",
       "      <td>여행/숙박</td>\n",
       "      <td>66831120717</td>\n",
       "      <td>91459155</td>\n",
       "    </tr>\n",
       "    <tr>\n",
       "      <th>27</th>\n",
       "      <td>일반</td>\n",
       "      <td>서점/문구</td>\n",
       "      <td>1450408038</td>\n",
       "      <td>87013201</td>\n",
       "    </tr>\n",
       "    <tr>\n",
       "      <th>24</th>\n",
       "      <td>일반</td>\n",
       "      <td>뷰티</td>\n",
       "      <td>614390428</td>\n",
       "      <td>43318428</td>\n",
       "    </tr>\n",
       "    <tr>\n",
       "      <th>18</th>\n",
       "      <td>일반</td>\n",
       "      <td>교육/육아</td>\n",
       "      <td>903222829</td>\n",
       "      <td>37607380</td>\n",
       "    </tr>\n",
       "    <tr>\n",
       "      <th>30</th>\n",
       "      <td>일반</td>\n",
       "      <td>영화/문화</td>\n",
       "      <td>1849533680</td>\n",
       "      <td>22025382</td>\n",
       "    </tr>\n",
       "    <tr>\n",
       "      <th>19</th>\n",
       "      <td>일반</td>\n",
       "      <td>교통/통신</td>\n",
       "      <td>65083920</td>\n",
       "      <td>8454953</td>\n",
       "    </tr>\n",
       "    <tr>\n",
       "      <th>20</th>\n",
       "      <td>일반</td>\n",
       "      <td>금융</td>\n",
       "      <td>63042500</td>\n",
       "      <td>669630</td>\n",
       "    </tr>\n",
       "    <tr>\n",
       "      <th>13</th>\n",
       "      <td>영세</td>\n",
       "      <td>외식/주점</td>\n",
       "      <td>76952246928</td>\n",
       "      <td>3635919291</td>\n",
       "    </tr>\n",
       "    <tr>\n",
       "      <th>5</th>\n",
       "      <td>영세</td>\n",
       "      <td>마트/편의점(유통)</td>\n",
       "      <td>13950018509</td>\n",
       "      <td>885796392</td>\n",
       "    </tr>\n",
       "    <tr>\n",
       "      <th>10</th>\n",
       "      <td>영세</td>\n",
       "      <td>쇼핑/패션</td>\n",
       "      <td>5990021411</td>\n",
       "      <td>631745202</td>\n",
       "    </tr>\n",
       "    <tr>\n",
       "      <th>1</th>\n",
       "      <td>영세</td>\n",
       "      <td>교육/육아</td>\n",
       "      <td>17699059624</td>\n",
       "      <td>578512424</td>\n",
       "    </tr>\n",
       "    <tr>\n",
       "      <th>7</th>\n",
       "      <td>영세</td>\n",
       "      <td>생활/기타</td>\n",
       "      <td>5760718374</td>\n",
       "      <td>556719078</td>\n",
       "    </tr>\n",
       "    <tr>\n",
       "      <th>16</th>\n",
       "      <td>영세</td>\n",
       "      <td>카페/베이커리</td>\n",
       "      <td>8759838817</td>\n",
       "      <td>544635549</td>\n",
       "    </tr>\n",
       "    <tr>\n",
       "      <th>6</th>\n",
       "      <td>영세</td>\n",
       "      <td>뷰티</td>\n",
       "      <td>6361690556</td>\n",
       "      <td>500535652</td>\n",
       "    </tr>\n",
       "    <tr>\n",
       "      <th>4</th>\n",
       "      <td>영세</td>\n",
       "      <td>레저/스포츠</td>\n",
       "      <td>7550337515</td>\n",
       "      <td>410839476</td>\n",
       "    </tr>\n",
       "    <tr>\n",
       "      <th>14</th>\n",
       "      <td>영세</td>\n",
       "      <td>의료</td>\n",
       "      <td>3303313961</td>\n",
       "      <td>251588210</td>\n",
       "    </tr>\n",
       "    <tr>\n",
       "      <th>15</th>\n",
       "      <td>영세</td>\n",
       "      <td>주유/자동차</td>\n",
       "      <td>2565999259</td>\n",
       "      <td>187833851</td>\n",
       "    </tr>\n",
       "    <tr>\n",
       "      <th>0</th>\n",
       "      <td>영세</td>\n",
       "      <td>건설/제조</td>\n",
       "      <td>1452593010</td>\n",
       "      <td>82046163</td>\n",
       "    </tr>\n",
       "    <tr>\n",
       "      <th>9</th>\n",
       "      <td>영세</td>\n",
       "      <td>서점/문구</td>\n",
       "      <td>809070045</td>\n",
       "      <td>61202677</td>\n",
       "    </tr>\n",
       "    <tr>\n",
       "      <th>8</th>\n",
       "      <td>영세</td>\n",
       "      <td>서비스/기타</td>\n",
       "      <td>1961312629</td>\n",
       "      <td>58690689</td>\n",
       "    </tr>\n",
       "    <tr>\n",
       "      <th>11</th>\n",
       "      <td>영세</td>\n",
       "      <td>여행/숙박</td>\n",
       "      <td>2769646670</td>\n",
       "      <td>53480519</td>\n",
       "    </tr>\n",
       "    <tr>\n",
       "      <th>12</th>\n",
       "      <td>영세</td>\n",
       "      <td>영화/문화</td>\n",
       "      <td>563714560</td>\n",
       "      <td>24480233</td>\n",
       "    </tr>\n",
       "    <tr>\n",
       "      <th>3</th>\n",
       "      <td>영세</td>\n",
       "      <td>농업</td>\n",
       "      <td>208942310</td>\n",
       "      <td>13064614</td>\n",
       "    </tr>\n",
       "    <tr>\n",
       "      <th>2</th>\n",
       "      <td>영세</td>\n",
       "      <td>교통/통신</td>\n",
       "      <td>56339560</td>\n",
       "      <td>4089450</td>\n",
       "    </tr>\n",
       "  </tbody>\n",
       "</table>\n",
       "</div>"
      ],
      "text/plain": [
       "   FranClass        Type    TotalSpent    DisSpent\n",
       "48        중소       외식/주점   81438028369  3411731667\n",
       "40        중소  마트/편의점(유통)   52363505491  3272148651\n",
       "49        중소          의료   23620140353  1639339767\n",
       "39        중소      레저/스포츠   10940279445   946026870\n",
       "50        중소      주유/자동차   14101166652   896394319\n",
       "45        중소       쇼핑/패션    6931142751   647658307\n",
       "42        중소       생활/기타    7128818553   609468910\n",
       "51        중소     카페/베이커리   10430800899   528828168\n",
       "35        중소       건설/제조    4977765146   215813192\n",
       "36        중소       교육/육아   14882491475   208328565\n",
       "44        중소       서점/문구    2438244044   147909492\n",
       "41        중소          뷰티    1431756286    88958647\n",
       "38        중소          농업    1400143042    82329609\n",
       "43        중소      서비스/기타    2450283839    67050619\n",
       "46        중소       여행/숙박    6667489250    47261434\n",
       "47        중소       영화/문화    1152365794    15920412\n",
       "37        중소       교통/통신      77309489     3521655\n",
       "23        일반  마트/편의점(유통)  102110891308  8824833764\n",
       "33        일반      주유/자동차   31853226152  1851234186\n",
       "31        일반       외식/주점   22545935130   998871049\n",
       "32        일반          의료   18882836993   915218114\n",
       "28        일반       쇼핑/패션   13914124794   357480018\n",
       "22        일반      레저/스포츠   18208335856   282239181\n",
       "21        일반          농업    2622597817   231853916\n",
       "34        일반     카페/베이커리    2685748108   190335702\n",
       "26        일반      서비스/기타    6965558335   177185420\n",
       "25        일반       생활/기타    6556351434   165856670\n",
       "17        일반       건설/제조    3157007806   138130744\n",
       "29        일반       여행/숙박   66831120717    91459155\n",
       "27        일반       서점/문구    1450408038    87013201\n",
       "24        일반          뷰티     614390428    43318428\n",
       "18        일반       교육/육아     903222829    37607380\n",
       "30        일반       영화/문화    1849533680    22025382\n",
       "19        일반       교통/통신      65083920     8454953\n",
       "20        일반          금융      63042500      669630\n",
       "13        영세       외식/주점   76952246928  3635919291\n",
       "5         영세  마트/편의점(유통)   13950018509   885796392\n",
       "10        영세       쇼핑/패션    5990021411   631745202\n",
       "1         영세       교육/육아   17699059624   578512424\n",
       "7         영세       생활/기타    5760718374   556719078\n",
       "16        영세     카페/베이커리    8759838817   544635549\n",
       "6         영세          뷰티    6361690556   500535652\n",
       "4         영세      레저/스포츠    7550337515   410839476\n",
       "14        영세          의료    3303313961   251588210\n",
       "15        영세      주유/자동차    2565999259   187833851\n",
       "0         영세       건설/제조    1452593010    82046163\n",
       "9         영세       서점/문구     809070045    61202677\n",
       "8         영세      서비스/기타    1961312629    58690689\n",
       "11        영세       여행/숙박    2769646670    53480519\n",
       "12        영세       영화/문화     563714560    24480233\n",
       "3         영세          농업     208942310    13064614\n",
       "2         영세       교통/통신      56339560     4089450"
      ]
     },
     "execution_count": 158,
     "metadata": {},
     "output_type": "execute_result"
    }
   ],
   "source": [
    "fran_type"
   ]
  },
  {
   "cell_type": "code",
   "execution_count": 113,
   "metadata": {
    "scrolled": false
   },
   "outputs": [
    {
     "data": {
      "image/png": "[encoded data removed]",
      "text/plain": [
       "<Figure size 1080x216 with 1 Axes>"
      ]
     },
     "metadata": {
      "needs_background": "light"
     },
     "output_type": "display_data"
    },
    {
     "data": {
      "image/png": "[encoded data removed]",
      "text/plain": [
       "<Figure size 1080x216 with 1 Axes>"
      ]
     },
     "metadata": {
      "needs_background": "light"
     },
     "output_type": "display_data"
    },
    {
     "data": {
      "image/png": "[encoded data removed]",
      "text/plain": [
       "<Figure size 1080x216 with 1 Axes>"
      ]
     },
     "metadata": {
      "needs_background": "light"
     },
     "output_type": "display_data"
    }
   ],
   "source": [
    "for fran in ['영세','일반']:\n",
    "    plt.figure(figsize=(15,3))\n",
    "    pie_outside, label_outside = ax.pie(size,\n",
    "                                   labels = names,\n",
    "                                   radius=1.3,\n",
    "                                   colors=[a(0.6),b(0.6),c(0.6)],\n",
    "                                   labeldistance=0.8,\n",
    "                                   shadow=False,\n",
    "                                   explode=[0,0,0],\n",
    "                                   startangle=0)\n",
    "    sns.barplot(x='Type', y='DisSpent', data=fran_type[fran_type.FranClass==fran].head(5))\n",
    "    plt.title('{}_재난지원금 소비금액'.format(fran))\n",
    "    plt.ylabel('재난지원금')\n",
    "    plt.show()"
   ]
  },
  {
   "cell_type": "code",
   "execution_count": 76,
   "metadata": {},
   "outputs": [
    {
     "data": {
      "image/png": "[encoded data removed]",
      "text/plain": [
       "<Figure size 1440x216 with 1 Axes>"
      ]
     },
     "metadata": {
      "needs_background": "light"
     },
     "output_type": "display_data"
    },
    {
     "data": {
      "image/png": "[encoded data removed]",
      "text/plain": [
       "<Figure size 1440x216 with 1 Axes>"
      ]
     },
     "metadata": {
      "needs_background": "light"
     },
     "output_type": "display_data"
    }
   ],
   "source": [
    "type_spent = df_n.groupby('Type').sum()[['TotalSpent','DisSpent']]\n",
    "type_spent= type_spent.sort_values(by=['TotalSpent','DisSpent'],ascending=False)\n",
    "\n",
    "plt.figure(figsize=(20,3))\n",
    "sns.barplot(x=type_spent.index,y='TotalSpent',data=type_spent)\n",
    "plt.show()\n",
    "\n",
    "type_spent= type_spent.sort_values(by=['DisSpent'],ascending=False)\n",
    "plt.figure(figsize=(20,3))\n",
    "sns.barplot(x=type_spent.index,y='DisSpent',data=type_spent)\n",
    "plt.show()"
   ]
  },
  {
   "cell_type": "code",
   "execution_count": 77,
   "metadata": {},
   "outputs": [],
   "source": [
    "type_spent['percent']=type_spent.DisSpent / type_spent.TotalSpent * 100"
   ]
  },
  {
   "cell_type": "code",
   "execution_count": 78,
   "metadata": {
    "scrolled": false
   },
   "outputs": [
    {
     "data": {
      "text/html": [
       "<div>\n",
       "<style scoped>\n",
       "    .dataframe tbody tr th:only-of-type {\n",
       "        vertical-align: middle;\n",
       "    }\n",
       "\n",
       "    .dataframe tbody tr th {\n",
       "        vertical-align: top;\n",
       "    }\n",
       "\n",
       "    .dataframe thead th {\n",
       "        text-align: right;\n",
       "    }\n",
       "</style>\n",
       "<table border=\"1\" class=\"dataframe\">\n",
       "  <thead>\n",
       "    <tr style=\"text-align: right;\">\n",
       "      <th></th>\n",
       "      <th>TotalSpent</th>\n",
       "      <th>DisSpent</th>\n",
       "      <th>percent</th>\n",
       "    </tr>\n",
       "    <tr>\n",
       "      <th>Type</th>\n",
       "      <th></th>\n",
       "      <th></th>\n",
       "      <th></th>\n",
       "    </tr>\n",
       "  </thead>\n",
       "  <tbody>\n",
       "    <tr>\n",
       "      <th>교통/통신</th>\n",
       "      <td>198732969</td>\n",
       "      <td>16066058</td>\n",
       "      <td>8.084244</td>\n",
       "    </tr>\n",
       "    <tr>\n",
       "      <th>농업</th>\n",
       "      <td>4231683169</td>\n",
       "      <td>327248139</td>\n",
       "      <td>7.733285</td>\n",
       "    </tr>\n",
       "    <tr>\n",
       "      <th>마트/편의점(유통)</th>\n",
       "      <td>168424415308</td>\n",
       "      <td>12982778807</td>\n",
       "      <td>7.708371</td>\n",
       "    </tr>\n",
       "    <tr>\n",
       "      <th>뷰티</th>\n",
       "      <td>8407837270</td>\n",
       "      <td>632812727</td>\n",
       "      <td>7.526463</td>\n",
       "    </tr>\n",
       "    <tr>\n",
       "      <th>생활/기타</th>\n",
       "      <td>19445888361</td>\n",
       "      <td>1332044658</td>\n",
       "      <td>6.850007</td>\n",
       "    </tr>\n",
       "    <tr>\n",
       "      <th>서점/문구</th>\n",
       "      <td>4697722127</td>\n",
       "      <td>296125370</td>\n",
       "      <td>6.303595</td>\n",
       "    </tr>\n",
       "    <tr>\n",
       "      <th>의료</th>\n",
       "      <td>45806291307</td>\n",
       "      <td>2806146091</td>\n",
       "      <td>6.126115</td>\n",
       "    </tr>\n",
       "    <tr>\n",
       "      <th>쇼핑/패션</th>\n",
       "      <td>26835288956</td>\n",
       "      <td>1636883527</td>\n",
       "      <td>6.099743</td>\n",
       "    </tr>\n",
       "    <tr>\n",
       "      <th>주유/자동차</th>\n",
       "      <td>48520392063</td>\n",
       "      <td>2935462356</td>\n",
       "      <td>6.049956</td>\n",
       "    </tr>\n",
       "    <tr>\n",
       "      <th>카페/베이커리</th>\n",
       "      <td>21876387824</td>\n",
       "      <td>1263799419</td>\n",
       "      <td>5.777002</td>\n",
       "    </tr>\n",
       "    <tr>\n",
       "      <th>건설/제조</th>\n",
       "      <td>9587365962</td>\n",
       "      <td>435990099</td>\n",
       "      <td>4.547548</td>\n",
       "    </tr>\n",
       "    <tr>\n",
       "      <th>레저/스포츠</th>\n",
       "      <td>36698952816</td>\n",
       "      <td>1639105527</td>\n",
       "      <td>4.466355</td>\n",
       "    </tr>\n",
       "    <tr>\n",
       "      <th>외식/주점</th>\n",
       "      <td>180936210427</td>\n",
       "      <td>8046522007</td>\n",
       "      <td>4.447160</td>\n",
       "    </tr>\n",
       "    <tr>\n",
       "      <th>서비스/기타</th>\n",
       "      <td>11377154803</td>\n",
       "      <td>302926728</td>\n",
       "      <td>2.662588</td>\n",
       "    </tr>\n",
       "    <tr>\n",
       "      <th>교육/육아</th>\n",
       "      <td>33484773928</td>\n",
       "      <td>824448369</td>\n",
       "      <td>2.462159</td>\n",
       "    </tr>\n",
       "    <tr>\n",
       "      <th>영화/문화</th>\n",
       "      <td>3565614034</td>\n",
       "      <td>62426027</td>\n",
       "      <td>1.750779</td>\n",
       "    </tr>\n",
       "    <tr>\n",
       "      <th>금융</th>\n",
       "      <td>63042500</td>\n",
       "      <td>669630</td>\n",
       "      <td>1.062188</td>\n",
       "    </tr>\n",
       "    <tr>\n",
       "      <th>여행/숙박</th>\n",
       "      <td>76268256637</td>\n",
       "      <td>192201108</td>\n",
       "      <td>0.252007</td>\n",
       "    </tr>\n",
       "  </tbody>\n",
       "</table>\n",
       "</div>"
      ],
      "text/plain": [
       "              TotalSpent     DisSpent   percent\n",
       "Type                                           \n",
       "교통/통신          198732969     16066058  8.084244\n",
       "농업            4231683169    327248139  7.733285\n",
       "마트/편의점(유통)  168424415308  12982778807  7.708371\n",
       "뷰티            8407837270    632812727  7.526463\n",
       "생활/기타        19445888361   1332044658  6.850007\n",
       "서점/문구         4697722127    296125370  6.303595\n",
       "의료           45806291307   2806146091  6.126115\n",
       "쇼핑/패션        26835288956   1636883527  6.099743\n",
       "주유/자동차       48520392063   2935462356  6.049956\n",
       "카페/베이커리      21876387824   1263799419  5.777002\n",
       "건설/제조         9587365962    435990099  4.547548\n",
       "레저/스포츠       36698952816   1639105527  4.466355\n",
       "외식/주점       180936210427   8046522007  4.447160\n",
       "서비스/기타       11377154803    302926728  2.662588\n",
       "교육/육아        33484773928    824448369  2.462159\n",
       "영화/문화         3565614034     62426027  1.750779\n",
       "금융              63042500       669630  1.062188\n",
       "여행/숙박        76268256637    192201108  0.252007"
      ]
     },
     "execution_count": 78,
     "metadata": {},
     "output_type": "execute_result"
    }
   ],
   "source": [
    "type_spent.sort_values(by=['percent'],ascending=False)"
   ]
  }
 ],
 "metadata": {
  "kernelspec": {
   "display_name": "Python 3",
   "language": "python",
   "name": "python3"
  },
  "language_info": {
   "codemirror_mode": {
    "name": "ipython",
    "version": 3
   },
   "file_extension": ".py",
   "mimetype": "text/x-python",
   "name": "python",
   "nbconvert_exporter": "python",
   "pygments_lexer": "ipython3",
   "version": "3.8.5"
  },
  "toc": {
   "base_numbering": 1,
   "nav_menu": {},
   "number_sections": true,
   "sideBar": true,
   "skip_h1_title": false,
   "title_cell": "Table of Contents",
   "title_sidebar": "Contents",
   "toc_cell": false,
   "toc_position": {},
   "toc_section_display": true,
   "toc_window_display": true
  }
 },
 "nbformat": 4,
 "nbformat_minor": 4
}
