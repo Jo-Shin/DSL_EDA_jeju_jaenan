{
 "cells": [
  {
   "cell_type": "code",
   "execution_count": 2,
   "metadata": {},
   "outputs": [],
   "source": [
    "import pandas as pd\n",
    "import numpy as np\n",
    "import matplotlib.pyplot as plt\n",
    "import seaborn as sns\n",
    "import warnings\n",
    "warnings.filterwarnings(action='ignore')\n",
    "import matplotlib\n",
    "from matplotlib import font_manager, rc\n",
    "#font_name=font_manager.FontProperties(fname='/Users/onehero/Desktop/NanumBarunGothic.ttf').get_name()\n",
    "\n",
    "#rc('font', family = font_name)\n",
    "    \n",
    "\n",
    "\n",
    "\n",
    "\n",
    "\n",
    " \n",
    "\n",
    "\n",
    "\n",
    "\n",
    "\n"
   ]
  },
  {
   "cell_type": "code",
   "execution_count": null,
   "metadata": {},
   "outputs": [],
   "source": [
    "raw_data_5=pd.read_csv(\"/Users/onehero/Downloads/data/KRI-DAC_Jeju_data5.txt\")\n",
    "print(raw_data_5.shape)\n",
    "raw_data_5.head()"
   ]
  },
  {
   "cell_type": "code",
   "execution_count": null,
   "metadata": {},
   "outputs": [],
   "source": [
    "raw_data_6=pd.read_csv(\"/Users/onehero/Downloads/data/KRI-DAC_Jeju_data6.txt\")\n",
    "raw_data_7=pd.read_csv(\"/Users/onehero/Downloads/data/KRI-DAC_Jeju_data7.txt\")\n",
    "raw_data_8=pd.read_csv(\"/Users/onehero/Downloads/data/KRI-DAC_Jeju_data8.txt\")\n",
    "raw_data_8.shape"
   ]
  },
  {
   "cell_type": "code",
   "execution_count": null,
   "metadata": {},
   "outputs": [],
   "source": [
    "raw_data = pd.concat([raw_data_5,raw_data_6,raw_data_7,raw_data_8])\n"
   ]
  },
  {
   "cell_type": "code",
   "execution_count": null,
   "metadata": {},
   "outputs": [],
   "source": [
    "raw_data.shape\n"
   ]
  },
  {
   "cell_type": "code",
   "execution_count": null,
   "metadata": {},
   "outputs": [],
   "source": [
    "raw_data.isnull().sum()"
   ]
  },
  {
   "cell_type": "code",
   "execution_count": null,
   "metadata": {},
   "outputs": [],
   "source": []
  },
  {
   "cell_type": "code",
   "execution_count": null,
   "metadata": {},
   "outputs": [],
   "source": [
    "raw_data.head()"
   ]
  },
  {
   "cell_type": "code",
   "execution_count": null,
   "metadata": {},
   "outputs": [],
   "source": [
    "monthly_data=raw_data.groupby(['YM']).sum()\n"
   ]
  },
  {
   "cell_type": "code",
   "execution_count": null,
   "metadata": {},
   "outputs": [],
   "source": [
    "monthly_data.head()\n",
    "raw_data[\"TotalSpent\"]\n"
   ]
  },
  {
   "cell_type": "code",
   "execution_count": null,
   "metadata": {},
   "outputs": [],
   "source": [
    "SIDO_data=raw_data.groupby(['SIDO']).sum()\n",
    "SIGUNGU_data=raw_data.groupby(['SIGUNGU']).sum()\n",
    "FranClass_data=raw_data.groupby(['FranClass']).sum()\n",
    "Time_data=raw_data.groupby(['Time']).sum()\n",
    "\n",
    "FranClass_Time_data=raw_data.groupby([\"FranClass\",\"Time\" ]).sum()\n",
    "\n",
    "FranClass_Time_TS_data=pd.pivot_table(raw_data, index = \"Time\", columns = \"FranClass\", \n",
    "                                   values = \"TotalSpent\", aggfunc = \"sum\")\n",
    "FranClass_Time_TS_data.head()"
   ]
  },
  {
   "cell_type": "code",
   "execution_count": null,
   "metadata": {},
   "outputs": [],
   "source": [
    "import seaborn as sns\n",
    "import matplotlib.pyplot as plt\n",
    "sns.set(rc={'figure.figsize':(15, 6)})\n",
    "\n",
    "\n",
    "FranClass_Time_TS_data=pd.pivot_table(raw_data, index = \"Time\", columns = \"FranClass\", \n",
    "                                   values = \"TotalSpent\", aggfunc = \"sum\")\n",
    "FranClass_YM_TS_data=pd.pivot_table(raw_data, index = \"YM\", columns = \"FranClass\", \n",
    "                                   values = \"TotalSpent\", aggfunc = \"sum\")\n",
    "fig, ax = plt.subplots(1,2)\n",
    "sns.lineplot(data =FranClass_Time_TS_data, palette = \"tab10\", linewidth = 3, ax = ax[0]).set_title(\"\")\n",
    "sns.lineplot(data =FranClass_YM_TS_data, palette = \"tab10\", linewidth = 3, ax = ax[1]).set_title(\"\")\n",
    "plt.show()"
   ]
  },
  {
   "cell_type": "code",
   "execution_count": null,
   "metadata": {},
   "outputs": [],
   "source": [
    "## 좌표계 변환 \n",
    "\n",
    "from pyproj import Proj, transform\n",
    "import geopandas as gpd\n",
    "\n",
    "def get_WGS84(coordinates):\n",
    "    \"\"\"\n",
    "    UTM-K 좌표계를 WGS로 변환해주는 함수.\n",
    "    coordinates: UTM-K 좌표 리스트\n",
    "    \"\"\"\n",
    "    proj_WGS84 = Proj(init=\"epsg:4326\") # WGS1984\n",
    "    proj_UTMK = Proj('+proj=tmerc +lat_0=38 +lon_0=127.5 +k=0.9996 +x_0=1000000 +y_0=2000000 +ellps=GRS80 + units=m +no_defs')  # UTM-K 좌표계 변환 공식\n",
    "    \n",
    "    long = [x[0] for x in coordinates]  # UTM-K 경도\n",
    "    lat = [x[1] for x in coordinates]   # UTM-K 위도\n",
    "    \n",
    "    coordinates_w84 = transform(proj_UTMK, proj_WGS84, long, lat)\n",
    "    \n",
    "    return coordinates_w84\n",
    "    \n",
    "    \n",
    "coords_utmk = list(zip(list(raw_data5.POINT_X), list(raw_data5.POINT_Y)))\n",
    "\n",
    "# 좌표 변환\n",
    "coords_wgs84 = get_WGS84(coords_utmk)\n",
    "\n",
    "# 데이터 프레임 좌표값 수정\n",
    "raw_data5[\"POINT_X\"] = coords_wgs84[0]\n",
    "raw_data5[\"POINT_Y\"] = coords_wgs84[1]\n"
   ]
  },
  {
   "cell_type": "code",
   "execution_count": null,
   "metadata": {},
   "outputs": [],
   "source": [
    "print(raw_data5)"
   ]
  },
  {
   "cell_type": "code",
   "execution_count": null,
   "metadata": {},
   "outputs": [],
   "source": []
  }
 ],
 "metadata": {
  "kernelspec": {
   "display_name": "Python 3",
   "language": "python",
   "name": "python3"
  },
  "language_info": {
   "codemirror_mode": {
    "name": "ipython",
    "version": 3
   },
   "file_extension": ".py",
   "mimetype": "text/x-python",
   "name": "python",
   "nbconvert_exporter": "python",
   "pygments_lexer": "ipython3",
   "version": "3.8.5"
  }
 },
 "nbformat": 4,
 "nbformat_minor": 4
}
